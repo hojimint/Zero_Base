{
 "cells": [
  {
   "cell_type": "markdown",
   "metadata": {
    "id": "5nPPJGLm6Xhv"
   },
   "source": [
    "# 제로베이스데이터사이언스 스쿨 원데이 프로젝트\n",
    "> ## 세계 테러 데이터 분석 - SQL 사용하기"
   ]
  },
  {
   "cell_type": "markdown",
   "metadata": {
    "id": "Hv81DmRn6Xhy"
   },
   "source": [
    "---"
   ]
  },
  {
   "cell_type": "markdown",
   "metadata": {
    "id": "7F_yxOYD6Xhz"
   },
   "source": [
    "#### 총 8문제 100점 만점 \n",
    "\n",
    "- 문제 1 10점  \n",
    "- 문제 2,3,5,6,7,8번 각 10점 \n",
    "- 문제 4번 30점\n",
    "- 총점 100점 "
   ]
  },
  {
   "cell_type": "markdown",
   "metadata": {
    "id": "652KFNlM6Xhz"
   },
   "source": [
    "#### 유의사항\n",
    "\n",
    "- 모든 정답 코드는 jupyter notebook 파일에 작성해주세요. \n",
    "- 1번 문제는 정답 코드를 그대로 공개해드립니다. 따라서 진행해주세요. \n",
    "- 그 외 문제들은 참고하실 수 있도록 주석과 출력 코드를 보여드립니다. \n",
    "- 제출시, 반드시 결과가 실행되어 있어야 합니다. 미실행 또는 오류시 감점입니다. \n",
    "- 제출시, [DS]sql3_choyongha.ipynb 형식에 맞춰 제출해주세요.\n"
   ]
  },
  {
   "cell_type": "markdown",
   "metadata": {
    "id": "7GCBghIT6Xh0"
   },
   "source": [
    "---"
   ]
  },
  {
   "cell_type": "markdown",
   "metadata": {
    "id": "9RNsKUsW8RYq"
   },
   "source": [
    "여러분은 이전 과제에서 세계 테러 데이터 분석 프로젝트를 진행하였습니다. \n",
    "\n",
    "이번 시간에는 분석할 데이터를 Database 로 변환하고, 분석에 필요한 데이터를 저장된 Database 에서 쿼리하여 가져와 보도록 하겠습니다. "
   ]
  },
  {
   "cell_type": "markdown",
   "metadata": {
    "id": "z2GVLSDu8gdL"
   },
   "source": [
    "#### 작업환경\n",
    "\n",
    "- aws rds 사용시: 이전 과제에서 생성한 AWS RDS (MySQL) 의 Database 및 사용자를 사용하세요. \n",
    "  - Database Name: oneday \n",
    "  - User Name / Password: oneday / 1234\n",
    "- local 사용시: 로컬 환경에서 생성한 Database 및 사용자를 사용하세요.\n",
    "  - 위와 동일하게 생성해주세요"
   ]
  },
  {
   "cell_type": "markdown",
   "metadata": {
    "id": "ZnlkSjd86Xh0"
   },
   "source": [
    "## 원본 Data Download\n",
    "- https://www.kaggle.com/datasets/START-UMD/gtd"
   ]
  },
  {
   "cell_type": "markdown",
   "metadata": {
    "id": "AlO8LSVF6Xh0"
   },
   "source": [
    "---"
   ]
  },
  {
   "cell_type": "markdown",
   "metadata": {
    "id": "LTCFgKRV6Xh0"
   },
   "source": [
    "문제 1.  csv 파일에 저장된 세계 테러 데이터를 하나의 테이블에 저장하세요. \n",
    "\n",
    "- globalterrorismmdb_0718.csv - https://www.kaggle.com/datasets/START-UMD/gtd\n",
    "- pandas의 to_sql 함수 사용 (힌트 : create_engine)\n",
    "- Table name : origin_terror_data \n",
    "\n",
    "제출 1. Table 생성 및 조회 결과 : DESC origin_terror_data, SELECT  COUNT(*) FROM origin_terror_data\n",
    "\n",
    "제출 2. 관련 코드 및 실행 결과 (ipynb)\n",
    "\n"
   ]
  },
  {
   "cell_type": "code",
   "execution_count": 2,
   "metadata": {},
   "outputs": [],
   "source": [
    "# pip install sqlalchemy"
   ]
  },
  {
   "cell_type": "code",
   "execution_count": 8,
   "metadata": {
    "scrolled": true
   },
   "outputs": [],
   "source": [
    "# pip install pymysql"
   ]
  },
  {
   "cell_type": "code",
   "execution_count": 1,
   "metadata": {},
   "outputs": [],
   "source": [
    "import time\n",
    "import pandas as pd\n",
    "import pymysql\n",
    "from sqlalchemy import create_engine\n",
    "import configparser\n",
    "\n",
    "# 데\n",
    "import warnings\n",
    "warnings.filterwarnings('ignore')"
   ]
  },
  {
   "cell_type": "code",
   "execution_count": 3,
   "metadata": {},
   "outputs": [
    {
     "name": "stderr",
     "output_type": "stream",
     "text": [
      "C:\\Users\\HoJin\\AppData\\Local\\Temp\\ipykernel_9676\\2343190209.py:19: DtypeWarning: Columns (4,6,31,33,61,62,63,76,79,90,92,94,96,114,115,121) have mixed types. Specify dtype option on import or set low_memory=False.\n",
      "  df = pd.read_csv('../sql3/globalterrorismdb_0718dist.csv', encoding='ISO-8859-1')\n"
     ]
    },
    {
     "name": "stdout",
     "output_type": "stream",
     "text": [
      "1\n"
     ]
    }
   ],
   "source": [
    "##############################################################################################\n",
    "#  문제 1. 원본 데이터 (csv)를 데이터베이스로 변환하고 확인하기 \n",
    "#  globalterrorismdb_0718dist.csv -> origin_terror_data (table)\n",
    "#  Pandas 의 to_sql 사용 \n",
    "##############################################################################################\n",
    "\n",
    "##############################################################################################\n",
    "#  pip install pymysql\n",
    "#  pip install SQLAlchemy Flask-SQLAlchemy\n",
    "##############################################################################################\n",
    "\n",
    "import time\n",
    "import pandas as pd\n",
    "import pymysql\n",
    "from sqlalchemy import create_engine\n",
    "import configparser\n",
    "\n",
    "# 데이터 불러오기\n",
    "df = pd.read_csv('../sql3/globalterrorismdb_0718dist.csv', encoding='ISO-8859-1')\n",
    "\n",
    "# DB 접속 엔진 객체 생성\n",
    "user = 'root'\n",
    "password = 'mint'\n",
    "host = 'localhost'\n",
    "port = 3306\n",
    "database = 'oneday'\n",
    "\n",
    "# DB 연결 객체 생성\n",
    "engine = create_engine(f'mysql+pymysql://{user}:{password}@{host}:{port}/{database}?charset=utf8mb4')\n",
    "\n",
    "# DB 테이블 명(생성될 테이블 이름)\n",
    "table_name = \"origin_terror_data\"\n",
    "\n",
    "# DB에 DataFrame 적재\n",
    "df.to_sql(index = False, \n",
    "          name = table_name,\n",
    "          con = engine,\n",
    "          if_exists = 'append',\n",
    "          method = 'multi', \n",
    "          chunksize = 10000)\n",
    "\n",
    "print(1)"
   ]
  },
  {
   "cell_type": "code",
   "execution_count": 2,
   "metadata": {},
   "outputs": [],
   "source": [
    "import mysql.connector"
   ]
  },
  {
   "cell_type": "code",
   "execution_count": 13,
   "metadata": {},
   "outputs": [
    {
     "name": "stdout",
     "output_type": "stream",
     "text": [
      "(181691,)\n"
     ]
    }
   ],
   "source": [
    "remote = mysql.connector.connect(\n",
    "    host = 'localhost',\n",
    "    port = 3306,\n",
    "    user = 'root',\n",
    "    password = 'mint',\n",
    "    database = 'oneday'\n",
    ")\n",
    "cur = remote.cursor(buffered=True)\n",
    "cur.execute('SELECT COUNT(*) FROM origin_terror_data')\n",
    "records = cur.fetchone()  # fetchone을 사용하여 단일 결과를 가져옴\n",
    "print(records)"
   ]
  },
  {
   "cell_type": "markdown",
   "metadata": {
    "id": "gvkYDeOP6Xh3"
   },
   "source": [
    "문제 2. origin_terror_data 에서 region, country 관련 데이터는 code 와 txt (name) 속성으로 정의되어 있습니다. \n",
    "\n",
    "문제 2-1. Region 및 Country 테이블을 그림과 같은 구조로 생성하세요. \n",
    "\n",
    "- origin_terror_data 를 분석하여 각 테이블의 데이터 타입을 정의하세요. \n",
    "- 문자열 데이터의 사이즈는 origin_terror_data 테이블에서 해당 데이터의 max length 를 쿼리로 체크하여 정의하세요. \n",
    "- Region 과 Country 데이터 사이의 관계를 파악하여 Foreign Key 를 설정하세요.\n",
    "\n",
    "참고> \n",
    "- Region.region_code     = origin_terror_data.region\n",
    "- Region.region_name     = origin_terror_data.region_txt\n",
    "- Country.country_code   = origin_terror_data.country\n",
    "- Country.country_name   = origin_terror_data.country_txt\n"
   ]
  },
  {
   "cell_type": "code",
   "execution_count": 3,
   "metadata": {
    "id": "pXDokUId6Xh3"
   },
   "outputs": [],
   "source": [
    "##############################################################################################\n",
    "#  문제 2. region / country / city 데이터 추출하여 데이터베이스로 변환하기 \n",
    "#  중복을 제거한 code - name 값 \n",
    "#  region - country - city 관계 정의 \n",
    "##############################################################################################\n",
    "conn = mysql.connector.connect(\n",
    "    host = \"localhost\",\n",
    "    port = 3306,\n",
    "    user = \"root\",\n",
    "    password = \"mint\",\n",
    "    database = \"oneday \"\n",
    ")\n",
    "cursor = conn.cursor(buffered=True)"
   ]
  },
  {
   "cell_type": "code",
   "execution_count": 4,
   "metadata": {},
   "outputs": [
    {
     "data": {
      "text/plain": [
       "[(27,)]"
      ]
     },
     "execution_count": 4,
     "metadata": {},
     "output_type": "execute_result"
    }
   ],
   "source": [
    "# region_txt 의 max length 체크 \n",
    "\n",
    "sql = \"select max(char_length(region_txt)) from origin_terror_data;\"\n",
    "\n",
    "cursor.execute(sql)\n",
    "result = cursor.fetchall()\n",
    "result"
   ]
  },
  {
   "cell_type": "markdown",
   "metadata": {},
   "source": [
    "- Region 테이블 만들기 \n",
    "```\n",
    "mysql> create table Region(\n",
    "    ->     region_code int not null auto_increment primary key,\n",
    "    ->     region_name varchar(32)\n",
    "    -> );\n",
    "```"
   ]
  },
  {
   "cell_type": "code",
   "execution_count": 5,
   "metadata": {},
   "outputs": [
    {
     "data": {
      "text/plain": [
       "[(32,)]"
      ]
     },
     "execution_count": 5,
     "metadata": {},
     "output_type": "execute_result"
    }
   ],
   "source": [
    "\n",
    "sql = \"select max(char_length(Country_txt)) from origin_terror_data;\"\n",
    "\n",
    "cursor.execute(sql)\n",
    "result = cursor.fetchall()\n",
    "result"
   ]
  },
  {
   "cell_type": "markdown",
   "metadata": {
    "id": "UQd-Yz-h6Xh4",
    "outputId": "362ce97c-2d5b-4696-96e1-5d67a4ef0eed"
   },
   "source": [
    "- Country 테이블 만들기 \n",
    "```\n",
    "mysql> create table Country(\n",
    "    ->     country_code int not null auto_increment primary key,\n",
    "    ->     region_code int,\n",
    "    ->     country_name varchar(33),\n",
    "    ->     constraint region foreign key (region_code) references Region(region_code)\n",
    "    -> );\n",
    "```"
   ]
  },
  {
   "cell_type": "markdown",
   "metadata": {
    "id": "oa6WyLym6Xh4"
   },
   "source": [
    "문제 2-2. origin_terror_data 테이블에서 Region 및 Country 데이터를 추출하여 문제 2-1.에서 생성한 테이블에 입력하고 확인하세요.   \n",
    "\n",
    "- 중복을 제거한 Unique Data 를 추출하세요. \n",
    "- 데이터를 INSERT 할때 순서를 고민하세요. \n",
    "\n",
    "제출 3. Table 생성 및 조회 결과 : DESC Region, DESC Country\n",
    "\n",
    "제출 4. 관련 코드 및 실행 결과 (ipynb)"
   ]
  },
  {
   "cell_type": "code",
   "execution_count": 12,
   "metadata": {},
   "outputs": [
    {
     "data": {
      "text/plain": [
       "[(1, 'North America'),\n",
       " (2, 'Central America & Caribbean'),\n",
       " (3, 'South America'),\n",
       " (4, 'East Asia'),\n",
       " (5, 'Southeast Asia'),\n",
       " (6, 'South Asia'),\n",
       " (7, 'Central Asia'),\n",
       " (8, 'Western Europe'),\n",
       " (9, 'Eastern Europe'),\n",
       " (10, 'Middle East & North Africa'),\n",
       " (11, 'Sub-Saharan Africa'),\n",
       " (12, 'Australasia & Oceania')]"
      ]
     },
     "execution_count": 12,
     "metadata": {},
     "output_type": "execute_result"
    }
   ],
   "source": [
    "sql = \"select distinct region, region_txt FROM origin_terror_data order by region asc;;\"\n",
    "\n",
    "cursor.execute(sql)\n",
    "result = cursor.fetchall()\n",
    "result"
   ]
  },
  {
   "cell_type": "code",
   "execution_count": 16,
   "metadata": {
    "id": "nAjbCNdI6Xh4",
    "outputId": "99f28683-54e9-4979-9b6b-1ffc24fde734"
   },
   "outputs": [],
   "source": [
    "# 데이터 삽입을 위한 SQL 쿼리\n",
    "insert_sql = \"INSERT INTO Region (region_code, region_name) VALUES (%s, %s)\"\n",
    "\n",
    "# 여러 개의 데이터를 한 번에 삽입\n",
    "cursor.executemany(insert_sql, result)\n",
    "\n",
    "# 변경 사항을 커밋\n",
    "conn.commit()\n",
    "\n",
    "# 연결 닫기\n",
    "cursor.close()\n",
    "conn.close()"
   ]
  },
  {
   "cell_type": "code",
   "execution_count": 22,
   "metadata": {
    "id": "rwg9XU3K6Xh4",
    "outputId": "26cd3626-4736-475b-fc72-52ac7c13e78f"
   },
   "outputs": [
    {
     "data": {
      "text/plain": [
       "[(4, 6, 'Afghanistan'),\n",
       " (5, 9, 'Albania'),\n",
       " (6, 10, 'Algeria'),\n",
       " (7, 8, 'Andorra'),\n",
       " (8, 11, 'Angola'),\n",
       " (10, 2, 'Antigua and Barbuda'),\n",
       " (11, 3, 'Argentina'),\n",
       " (12, 7, 'Armenia'),\n",
       " (14, 12, 'Australia'),\n",
       " (15, 8, 'Austria'),\n",
       " (16, 7, 'Azerbaijan'),\n",
       " (17, 2, 'Bahamas'),\n",
       " (18, 10, 'Bahrain'),\n",
       " (19, 6, 'Bangladesh'),\n",
       " (20, 2, 'Barbados'),\n",
       " (21, 8, 'Belgium'),\n",
       " (22, 2, 'Belize'),\n",
       " (23, 11, 'Benin'),\n",
       " (25, 6, 'Bhutan'),\n",
       " (26, 3, 'Bolivia'),\n",
       " (28, 9, 'Bosnia-Herzegovina'),\n",
       " (29, 11, 'Botswana'),\n",
       " (30, 3, 'Brazil'),\n",
       " (31, 5, 'Brunei'),\n",
       " (32, 9, 'Bulgaria'),\n",
       " (33, 11, 'Burkina Faso'),\n",
       " (34, 11, 'Burundi'),\n",
       " (35, 9, 'Belarus'),\n",
       " (36, 5, 'Cambodia'),\n",
       " (37, 11, 'Cameroon'),\n",
       " (38, 1, 'Canada'),\n",
       " (41, 11, 'Central African Republic'),\n",
       " (42, 11, 'Chad'),\n",
       " (43, 3, 'Chile'),\n",
       " (44, 4, 'China'),\n",
       " (45, 3, 'Colombia'),\n",
       " (46, 11, 'Comoros'),\n",
       " (47, 11, 'Republic of the Congo'),\n",
       " (49, 2, 'Costa Rica'),\n",
       " (50, 9, 'Croatia'),\n",
       " (51, 2, 'Cuba'),\n",
       " (53, 8, 'Cyprus'),\n",
       " (54, 9, 'Czech Republic'),\n",
       " (55, 8, 'Denmark'),\n",
       " (56, 11, 'Djibouti'),\n",
       " (57, 2, 'Dominica'),\n",
       " (58, 2, 'Dominican Republic'),\n",
       " (59, 3, 'Ecuador'),\n",
       " (60, 10, 'Egypt'),\n",
       " (61, 2, 'El Salvador'),\n",
       " (62, 11, 'Equatorial Guinea'),\n",
       " (63, 11, 'Eritrea'),\n",
       " (64, 9, 'Estonia'),\n",
       " (65, 11, 'Ethiopia'),\n",
       " (66, 3, 'Falkland Islands'),\n",
       " (67, 12, 'Fiji'),\n",
       " (68, 8, 'Finland'),\n",
       " (69, 8, 'France'),\n",
       " (70, 3, 'French Guiana'),\n",
       " (71, 12, 'French Polynesia'),\n",
       " (72, 11, 'Gabon'),\n",
       " (73, 11, 'Gambia'),\n",
       " (74, 7, 'Georgia'),\n",
       " (75, 8, 'Germany'),\n",
       " (76, 11, 'Ghana'),\n",
       " (78, 8, 'Greece'),\n",
       " (80, 2, 'Grenada'),\n",
       " (81, 2, 'Guadeloupe'),\n",
       " (83, 2, 'Guatemala'),\n",
       " (84, 11, 'Guinea'),\n",
       " (85, 11, 'Guinea-Bissau'),\n",
       " (86, 3, 'Guyana'),\n",
       " (87, 2, 'Haiti'),\n",
       " (88, 2, 'Honduras'),\n",
       " (89, 4, 'Hong Kong'),\n",
       " (90, 9, 'Hungary'),\n",
       " (91, 8, 'Iceland'),\n",
       " (92, 6, 'India'),\n",
       " (93, 5, 'Indonesia'),\n",
       " (94, 10, 'Iran'),\n",
       " (95, 10, 'Iraq'),\n",
       " (96, 8, 'Ireland'),\n",
       " (97, 10, 'Israel'),\n",
       " (98, 8, 'Italy'),\n",
       " (99, 11, 'Ivory Coast'),\n",
       " (100, 2, 'Jamaica'),\n",
       " (101, 4, 'Japan'),\n",
       " (102, 10, 'Jordan'),\n",
       " (103, 7, 'Kazakhstan'),\n",
       " (104, 11, 'Kenya'),\n",
       " (106, 10, 'Kuwait'),\n",
       " (107, 7, 'Kyrgyzstan'),\n",
       " (108, 5, 'Laos'),\n",
       " (109, 9, 'Latvia'),\n",
       " (110, 10, 'Lebanon'),\n",
       " (111, 11, 'Lesotho'),\n",
       " (112, 11, 'Liberia'),\n",
       " (113, 10, 'Libya'),\n",
       " (115, 9, 'Lithuania'),\n",
       " (116, 8, 'Luxembourg'),\n",
       " (117, 4, 'Macau'),\n",
       " (118, 9, 'Macedonia'),\n",
       " (119, 11, 'Madagascar'),\n",
       " (120, 11, 'Malawi'),\n",
       " (121, 5, 'Malaysia'),\n",
       " (122, 6, 'Maldives'),\n",
       " (123, 11, 'Mali'),\n",
       " (124, 8, 'Malta'),\n",
       " (127, 2, 'Martinique'),\n",
       " (128, 11, 'Mauritania'),\n",
       " (129, 6, 'Mauritius'),\n",
       " (130, 1, 'Mexico'),\n",
       " (132, 9, 'Moldova'),\n",
       " (136, 10, 'Morocco'),\n",
       " (137, 11, 'Mozambique'),\n",
       " (138, 5, 'Myanmar'),\n",
       " (139, 11, 'Namibia'),\n",
       " (141, 6, 'Nepal'),\n",
       " (142, 8, 'Netherlands'),\n",
       " (143, 12, 'New Caledonia'),\n",
       " (144, 12, 'New Zealand'),\n",
       " (145, 2, 'Nicaragua'),\n",
       " (146, 11, 'Niger'),\n",
       " (147, 11, 'Nigeria'),\n",
       " (149, 4, 'North Korea'),\n",
       " (151, 8, 'Norway'),\n",
       " (153, 6, 'Pakistan'),\n",
       " (155, 10, 'West Bank and Gaza Strip'),\n",
       " (156, 2, 'Panama'),\n",
       " (157, 12, 'Papua New Guinea'),\n",
       " (158, 3, 'Paraguay'),\n",
       " (159, 3, 'Peru'),\n",
       " (160, 5, 'Philippines'),\n",
       " (161, 9, 'Poland'),\n",
       " (162, 8, 'Portugal'),\n",
       " (164, 10, 'Qatar'),\n",
       " (166, 9, 'Romania'),\n",
       " (167, 9, 'Russia'),\n",
       " (168, 11, 'Rwanda'),\n",
       " (173, 10, 'Saudi Arabia'),\n",
       " (174, 11, 'Senegal'),\n",
       " (175, 9, 'Serbia-Montenegro'),\n",
       " (176, 11, 'Seychelles'),\n",
       " (177, 11, 'Sierra Leone'),\n",
       " (178, 5, 'Singapore'),\n",
       " (179, 9, 'Slovak Republic'),\n",
       " (180, 9, 'Slovenia'),\n",
       " (181, 12, 'Solomon Islands'),\n",
       " (182, 11, 'Somalia'),\n",
       " (183, 11, 'South Africa'),\n",
       " (184, 4, 'South Korea'),\n",
       " (185, 8, 'Spain'),\n",
       " (186, 6, 'Sri Lanka'),\n",
       " (189, 2, 'St. Kitts and Nevis'),\n",
       " (190, 2, 'St. Lucia'),\n",
       " (195, 11, 'Sudan'),\n",
       " (196, 3, 'Suriname'),\n",
       " (197, 11, 'Swaziland'),\n",
       " (198, 8, 'Sweden'),\n",
       " (199, 8, 'Switzerland'),\n",
       " (200, 10, 'Syria'),\n",
       " (201, 4, 'Taiwan'),\n",
       " (202, 7, 'Tajikistan'),\n",
       " (203, 11, 'Tanzania'),\n",
       " (204, 11, 'Togo'),\n",
       " (205, 5, 'Thailand'),\n",
       " (207, 2, 'Trinidad and Tobago'),\n",
       " (208, 10, 'Tunisia'),\n",
       " (209, 10, 'Turkey'),\n",
       " (210, 7, 'Turkmenistan'),\n",
       " (213, 11, 'Uganda'),\n",
       " (214, 9, 'Ukraine'),\n",
       " (215, 10, 'United Arab Emirates'),\n",
       " (217, 1, 'United States'),\n",
       " (218, 3, 'Uruguay'),\n",
       " (219, 7, 'Uzbekistan'),\n",
       " (220, 12, 'Vanuatu'),\n",
       " (221, 8, 'Vatican City'),\n",
       " (222, 3, 'Venezuela'),\n",
       " (223, 5, 'Vietnam'),\n",
       " (226, 12, 'Wallis and Futuna'),\n",
       " (228, 10, 'Yemen'),\n",
       " (229, 11, 'Democratic Republic of the Congo'),\n",
       " (230, 11, 'Zambia'),\n",
       " (231, 11, 'Zimbabwe'),\n",
       " (235, 9, 'Yugoslavia'),\n",
       " (236, 9, 'Czechoslovakia'),\n",
       " (347, 5, 'East Timor'),\n",
       " (349, 10, 'Western Sahara'),\n",
       " (359, 9, 'Soviet Union'),\n",
       " (362, 8, 'West Germany (FRG)'),\n",
       " (377, 10, 'North Yemen'),\n",
       " (403, 11, 'Rhodesia'),\n",
       " (406, 10, 'South Yemen'),\n",
       " (422, 10, 'International'),\n",
       " (428, 5, 'South Vietnam'),\n",
       " (499, 9, 'East Germany (GDR)'),\n",
       " (532, 12, 'New Hebrides'),\n",
       " (603, 8, 'United Kingdom'),\n",
       " (604, 11, 'Zaire'),\n",
       " (605, 11, \"People's Republic of the Congo\"),\n",
       " (1001, 9, 'Serbia'),\n",
       " (1002, 9, 'Montenegro'),\n",
       " (1003, 9, 'Kosovo'),\n",
       " (1004, 11, 'South Sudan')]"
      ]
     },
     "execution_count": 22,
     "metadata": {},
     "output_type": "execute_result"
    }
   ],
   "source": [
    "conn = mysql.connector.connect(\n",
    "    host = \"localhost\",\n",
    "    port = 3306,\n",
    "    user = \"root\",\n",
    "    password = \"mint\",\n",
    "    database = \"oneday \"\n",
    ")\n",
    "cursor = conn.cursor(buffered=True)\n",
    "# Region 테이블에 INSERT \n",
    "sql = \"select distinct country, region, country_txt FROM origin_terror_data order by country asc;\"\n",
    "\n",
    "cursor.execute(sql)\n",
    "result = cursor.fetchall()\n",
    "result"
   ]
  },
  {
   "cell_type": "code",
   "execution_count": 24,
   "metadata": {
    "id": "onXGEzKU6Xh4",
    "outputId": "b595771a-d770-45ae-e027-d1f0ed046b0b"
   },
   "outputs": [],
   "source": [
    "# 데이터 삽입을 위한 SQL 쿼리\n",
    "insert_sql = \"INSERT INTO Country (country_code, region_code, country_name) VALUES (%s, %s, %s)\"\n",
    "\n",
    "# 여러 개의 데이터를 한 번에 삽입\n",
    "cursor.executemany(insert_sql, result)\n",
    "\n",
    "# 변경 사항을 커밋\n",
    "conn.commit()\n",
    "\n",
    "# 연결 닫기\n",
    "cursor.close()\n",
    "conn.close()"
   ]
  },
  {
   "cell_type": "markdown",
   "metadata": {},
   "source": [
    "```\n",
    "mysql> select * from Country limit 10;\r\n",
    "+--------------+-------------+---------------------+\r\n",
    "| country_code | region_code | country_name        |\r\n",
    "+--------------+-------------+---------------------+\r\n",
    "|            4 |           6 | Afghanistan         |\r\n",
    "|            5 |           9 | Albania             |\r\n",
    "|            6 |          10 | Algeria             |\r\n",
    "|            7 |           8 | Andorra             |\r\n",
    "|            8 |          11 | Angola              |\r\n",
    "|           10 |           2 | Antigua and Barbuda |\r\n",
    "|           11 |           3 | Argentina           |\r\n",
    "|           12 |           7 | Armenia             |\r\n",
    "|           14 |          12 | Australia           |\r\n",
    "|           15 |           8 | Austria             |\r\n",
    "+--------------+-------------+--------\n",
    "```-------------+       |\r\n",
    "|         1003 |           9 | Kosovo                           |\r\n",
    "|         1004 |          11 | South Sudan                      |\r\n",
    "+--------------+-------------+----------------------------------+"
   ]
  },
  {
   "cell_type": "markdown",
   "metadata": {
    "id": "3crV-lIE6Xh5"
   },
   "source": [
    "문제 3.  origin_terror_data 에서 attack type, target type, weapon type 관련 데이터는 code 와 txt 속성으로 정의되어 있습니다.  \n",
    "\n",
    "문제 3-1. AttackType, TargetType, WeaponType 테이블을 그림과 같은 구조로 생성하세요. \n",
    "\n",
    "- origin_terror_data 를 분석하여 각 테이블의 데이터 타입을 정의하세요. \n",
    "- 문자열 데이터의 사이즈는 origin_terror_data 테이블에서 해당 데이터의 max length 를 쿼리로 체크하여 정의하세요. \n",
    "\n",
    "참고>\n",
    "- AttackType.attacktype_code    = origin_terror_data.attacktype1\n",
    "- AttackType.attacktype_desc    = origin_terror_data.attacktype1_txt \n",
    "- TargetType.targtype_code      = origin_terror_data.targtype1\n",
    "- TargetType.targtype_desc      = origin_terror_data.targtype1_txt\n",
    "- WeaponType.weaptype_code      = origin_terror_data.weaptype1\n",
    "- WeaponType.weaptype_desc      = origin_terror_data.weaptype1_txt "
   ]
  },
  {
   "cell_type": "code",
   "execution_count": 52,
   "metadata": {},
   "outputs": [],
   "source": [
    "conn = mysql.connector.connect(\n",
    "    host = \"localhost\",\n",
    "    port = 3306,\n",
    "    user = \"root\",\n",
    "    password = \"mint\",\n",
    "    database = \"oneday \"\n",
    ")\n",
    "cursor = conn.cursor(buffered=True)"
   ]
  },
  {
   "cell_type": "code",
   "execution_count": 53,
   "metadata": {
    "id": "UiqAu5YU6Xh5",
    "outputId": "a86b4e27-6b2f-4aa7-b90e-39527a1df76e",
    "scrolled": true
   },
   "outputs": [
    {
     "data": {
      "text/plain": [
       "[(35,)]"
      ]
     },
     "execution_count": 53,
     "metadata": {},
     "output_type": "execute_result"
    }
   ],
   "source": [
    "# attacktype1 의 max length 체크 \n",
    "sql = \"select max(char_length(attacktype1_txt)) from origin_terror_data;\"\n",
    "\n",
    "cursor.execute(sql)\n",
    "result = cursor.fetchall()\n",
    "result"
   ]
  },
  {
   "cell_type": "markdown",
   "metadata": {},
   "source": [
    "```\n",
    "+-----------------+-------------+------+-----+---------+----------------+\r\n",
    "| Field           | Type        | Null | Key | Default | Extra          |\r\n",
    "+-----------------+-------------+------+-----+---------+----------------+\r\n",
    "| attacktype_code | int         | NO   | PRI | NULL    | auto_increment |\r\n",
    "| attacktype_desc | varchar(36) | YES  |     | NULL    |                |\r\n",
    "+-----------------+-------------+------+-----+---------+----------------+"
   ]
  },
  {
   "cell_type": "code",
   "execution_count": 33,
   "metadata": {
    "id": "1FQ5rzrh6Xh5",
    "outputId": "aa53d43d-976d-4a4b-8560-686af6ac489e"
   },
   "outputs": [
    {
     "data": {
      "text/plain": [
       "[(30,)]"
      ]
     },
     "execution_count": 33,
     "metadata": {},
     "output_type": "execute_result"
    }
   ],
   "source": [
    "# targettype1 의 max length 체크 \n",
    "sql = \"select max(char_length(targtype1_txt)) from origin_terror_data;\"\n",
    "\n",
    "cursor.execute(sql)\n",
    "result = cursor.fetchall()\n",
    "result"
   ]
  },
  {
   "cell_type": "markdown",
   "metadata": {
    "id": "lPeH22r56Xh5",
    "outputId": "570793ae-a874-4cd0-bca3-d640a6981870"
   },
   "source": [
    "```\n",
    "+---------------+-------------+------+-----+---------+----------------+\r\n",
    "| Field         | Type        | Null | Key | Default | Extra          |\r\n",
    "+---------------+-------------+------+-----+---------+----------------+\r\n",
    "| targtype_code | int         | NO   | PRI | NULL    | auto_increment |\r\n",
    "| targtype_desc | varchar(36) | YES  |     | NULL    |                |\r\n",
    "+---------------+-------------+------+-----+---------+----------------+\n",
    "```"
   ]
  },
  {
   "cell_type": "code",
   "execution_count": 34,
   "metadata": {
    "id": "8UJCv1Ui6Xh5",
    "outputId": "a5688240-66a7-4155-c779-16ec71b73d4f"
   },
   "outputs": [
    {
     "data": {
      "text/plain": [
       "[(75,)]"
      ]
     },
     "execution_count": 34,
     "metadata": {},
     "output_type": "execute_result"
    }
   ],
   "source": [
    "# weaptype1 의 max length 체크 \n",
    "sql = \"select max(char_length(weaptype1_txt)) from origin_terror_data;\"\n",
    "\n",
    "cursor.execute(sql)\n",
    "result = cursor.fetchall()\n",
    "result"
   ]
  },
  {
   "cell_type": "markdown",
   "metadata": {
    "id": "CWkrxkgW6Xh6",
    "outputId": "1303069f-17de-47ae-fbf2-11b0b73646e4"
   },
   "source": [
    "```\n",
    "+---------------+-------------+------+-----+---------+----------------+\r\n",
    "| Field         | Type        | Null | Key | Default | Extra          |\r\n",
    "+---------------+-------------+------+-----+---------+----------------+\r\n",
    "| weaptype_code | int         | NO   | PRI | NULL    | auto_increment |\r\n",
    "| weaptype_desc | varchar(76) | YES  |     | NULL    |                |\r\n",
    "+---------------+-------------+------+-----+---------+----------------+\n",
    "```"
   ]
  },
  {
   "cell_type": "markdown",
   "metadata": {
    "id": "Bnh0ts_46Xh6"
   },
   "source": [
    "문제 3-2. origin_terror_data 테이블에서 Attack Type, Target Type, Weapon Type 데이터를 추출하여 문제 3-1.에서 생성한 테이블에 입력하고 확인하세요.   \n",
    "\n",
    "- 중복을 제거한 Unique Data 를 추출하세요. \n",
    "- 데이터를 INSERT 할때 순서를 고민하세요.\n",
    "\n",
    "제출 5. Table 생성 및 조회 결과 : DESC AttackType, DESC TargetType, WeaponType\n",
    "\n",
    "제출 6. 관련 코드 및 실행 결과 (ipynb) "
   ]
  },
  {
   "cell_type": "code",
   "execution_count": 35,
   "metadata": {
    "id": "TEbdDNXc6Xh6",
    "outputId": "f5801167-e8a4-4e89-909f-0627e39e15af",
    "scrolled": true
   },
   "outputs": [
    {
     "data": {
      "text/plain": [
       "[(1, 'Assassination'),\n",
       " (2, 'Armed Assault'),\n",
       " (3, 'Bombing/Explosion'),\n",
       " (4, 'Hijacking'),\n",
       " (5, 'Hostage Taking (Barricade Incident)'),\n",
       " (6, 'Hostage Taking (Kidnapping)'),\n",
       " (7, 'Facility/Infrastructure Attack'),\n",
       " (8, 'Unarmed Assault'),\n",
       " (9, 'Unknown')]"
      ]
     },
     "execution_count": 35,
     "metadata": {},
     "output_type": "execute_result"
    }
   ],
   "source": [
    "# attacktype1 데이터 추출하기 \n",
    "sql = \"select distinct attacktype1, attacktype1_txt FROM origin_terror_data order by attacktype1 asc;;\"\n",
    "\n",
    "cursor.execute(sql)\n",
    "result = cursor.fetchall()\n",
    "result"
   ]
  },
  {
   "cell_type": "code",
   "execution_count": 36,
   "metadata": {
    "id": "6OUVvP3N6Xh6",
    "outputId": "c8e96eef-d22f-4751-dd6a-ab6d4bb5ece7"
   },
   "outputs": [],
   "source": [
    "# 데이터 삽입을 위한 SQL 쿼리\n",
    "insert_sql = \"INSERT INTO AttackType (attacktype_code, attacktype_desc) VALUES (%s, %s)\"\n",
    "\n",
    "# 여러 개의 데이터를 한 번에 삽입\n",
    "cursor.executemany(insert_sql, result)\n",
    "\n",
    "# 변경 사항을 커밋\n",
    "conn.commit()\n",
    "\n",
    "# # 연결 닫기\n",
    "# cursor.close()\n",
    "# conn.close()"
   ]
  },
  {
   "cell_type": "code",
   "execution_count": 39,
   "metadata": {
    "id": "0jXAAHP26Xh6",
    "outputId": "216855a0-0090-4f1a-f143-0f654e1718eb"
   },
   "outputs": [
    {
     "data": {
      "text/plain": [
       "[(1, 'Business'),\n",
       " (2, 'Government (General)'),\n",
       " (3, 'Police'),\n",
       " (4, 'Military'),\n",
       " (5, 'Abortion Related'),\n",
       " (6, 'Airports & Aircraft'),\n",
       " (7, 'Government (Diplomatic)'),\n",
       " (8, 'Educational Institution'),\n",
       " (9, 'Food or Water Supply'),\n",
       " (10, 'Journalists & Media'),\n",
       " (11, 'Maritime'),\n",
       " (12, 'NGO'),\n",
       " (13, 'Other'),\n",
       " (14, 'Private Citizens & Property'),\n",
       " (15, 'Religious Figures/Institutions'),\n",
       " (16, 'Telecommunication'),\n",
       " (17, 'Terrorists/Non-State Militia'),\n",
       " (18, 'Tourists'),\n",
       " (19, 'Transportation'),\n",
       " (20, 'Unknown'),\n",
       " (21, 'Utilities'),\n",
       " (22, 'Violent Political Party')]"
      ]
     },
     "execution_count": 39,
     "metadata": {},
     "output_type": "execute_result"
    }
   ],
   "source": [
    "# attacktype1 데이터 추출하기 \n",
    "sql = \"select distinct targtype1, targtype1_txt FROM origin_terror_data order by targtype1 asc;;\"\n",
    "\n",
    "cursor.execute(sql)\n",
    "result = cursor.fetchall()\n",
    "result"
   ]
  },
  {
   "cell_type": "code",
   "execution_count": 41,
   "metadata": {
    "id": "z8eBLdsD6Xh6",
    "outputId": "db916361-cedb-4dd4-ed2f-9f8b15ac81ec"
   },
   "outputs": [],
   "source": [
    "# 데이터 삽입을 위한 SQL 쿼리\n",
    "insert_sql = \"INSERT INTO TargetType (targtype_code, targtype_desc) VALUES (%s, %s)\"\n",
    "\n",
    "# 여러 개의 데이터를 한 번에 삽입\n",
    "cursor.executemany(insert_sql, result)\n",
    "\n",
    "# 변경 사항을 커밋\n",
    "conn.commit()"
   ]
  },
  {
   "cell_type": "code",
   "execution_count": 42,
   "metadata": {
    "id": "3KDICvG26Xh6",
    "outputId": "ed2d8932-f1b6-4651-acc5-b541b7808353"
   },
   "outputs": [
    {
     "data": {
      "text/plain": [
       "[(1, 'Biological'),\n",
       " (2, 'Chemical'),\n",
       " (3, 'Radiological'),\n",
       " (5, 'Firearms'),\n",
       " (6, 'Explosives'),\n",
       " (7, 'Fake Weapons'),\n",
       " (8, 'Incendiary'),\n",
       " (9, 'Melee'),\n",
       " (10,\n",
       "  'Vehicle (not to include vehicle-borne explosives, i.e., car or truck bombs)'),\n",
       " (11, 'Sabotage Equipment'),\n",
       " (12, 'Other'),\n",
       " (13, 'Unknown')]"
      ]
     },
     "execution_count": 42,
     "metadata": {},
     "output_type": "execute_result"
    }
   ],
   "source": [
    "# weaptype1 데이터 추출하기 \n",
    "sql = \"select distinct weaptype1, weaptype1_txt FROM origin_terror_data order by weaptype1 asc;;\"\n",
    "\n",
    "cursor.execute(sql)\n",
    "result = cursor.fetchall()\n",
    "result"
   ]
  },
  {
   "cell_type": "code",
   "execution_count": 47,
   "metadata": {
    "id": "SDIAt5jV6Xh6",
    "outputId": "fa96c9b8-c556-49b3-b1c5-7d50ba1a9d38"
   },
   "outputs": [],
   "source": [
    "# 데이터 삽입을 위한 SQL 쿼리\n",
    "insert_sql = \"INSERT INTO WeaponType (weaptype_code, weaptype_desc) VALUES (%s, %s)\"\n",
    "\n",
    "# 여러 개의 데이터를 한 번에 삽입\n",
    "cursor.executemany(insert_sql, result)\n",
    "\n",
    "# 변경 사항을 커밋\n",
    "conn.commit()"
   ]
  },
  {
   "cell_type": "code",
   "execution_count": 45,
   "metadata": {},
   "outputs": [],
   "source": [
    "# 연결 닫기\n",
    "cursor.close()\n",
    "conn.close()"
   ]
  },
  {
   "cell_type": "code",
   "execution_count": null,
   "metadata": {},
   "outputs": [],
   "source": []
  },
  {
   "cell_type": "markdown",
   "metadata": {
    "id": "UI-aVHxx6Xh6"
   },
   "source": [
    "문제 4. TerrorData 테이블을 만들고 앞서 만들어둔 테이블과 관계를 설정하도록 하겠습니다. \n",
    "문제 4-1. TerrorData 테이블을 앞의 그림과 같이 생성하세요. \n",
    "\n",
    "- origin_terror_data 를 분석하여 데이터 타입을 정의하세요. \n",
    "- 문자열 데이터의 사이즈는 origin_terror_data 테이블에서 해당 데이터의 max length 를 쿼리로 체크하여 정의하세요. \n",
    "\n",
    "참고> \n",
    "- TerrorData.terror id : Auto Increment \n",
    "- TerrorData.city_name    = origin_terror_data.city\n",
    "- TerrorData.target       = orgin_terror_data.target1\n",
    "- TerrorData.group_name   = origin_terror_data.gname\n",
    "- TerrorData.kill_count   = origin_terror_data.nkill\n",
    "- TerrorData.wound_count  = origin_terror_data.nwound\n",
    "- TerrorData.motive       = origin_terror_data.motive\n",
    "- TerrorData.summary      = origin_terror_data.summary\n",
    "- TerrorData.latitude     = origin_terror_data_latitude\n",
    "- TerrorData.longitude    = origin_terror_data_longitude\n",
    "- TerrorData.terror_date  = origin_terror_data.iyear + origin_terror_Data.imonth + origin_terror_data.iday (Date Type)"
   ]
  },
  {
   "cell_type": "code",
   "execution_count": 80,
   "metadata": {},
   "outputs": [
    {
     "name": "stdout",
     "output_type": "stream",
     "text": [
      "city: 11\n"
     ]
    }
   ],
   "source": [
    "# city의 max length 체크\n",
    "sql_lng = \"SELECT MAX(CHAR_LENGTH(longitude)) FROM origin_terror_data;\"\n",
    "cursor.execute(sql_lng)\n",
    "max_length_lng = cursor.fetchone()[0]\n",
    "print(f\"city: {max_length_lng}\")"
   ]
  },
  {
   "cell_type": "code",
   "execution_count": 81,
   "metadata": {},
   "outputs": [
    {
     "name": "stdout",
     "output_type": "stream",
     "text": [
      "city: 10\n"
     ]
    }
   ],
   "source": [
    "# city의 max length 체크\n",
    "sql_lat = \"SELECT MAX(CHAR_LENGTH(latitude)) FROM origin_terror_data;\"\n",
    "cursor.execute(sql_lat)\n",
    "max_length_lat = cursor.fetchone()[0]\n",
    "print(f\"city: {max_length_lat}\")"
   ]
  },
  {
   "cell_type": "code",
   "execution_count": 50,
   "metadata": {},
   "outputs": [
    {
     "name": "stdout",
     "output_type": "stream",
     "text": [
      "city: 65\n",
      "target1: 343\n",
      "gname: 112\n",
      "summary: 2431\n",
      "motive: 899\n"
     ]
    }
   ],
   "source": [
    "# 데이터베이스 연결 설정\n",
    "remote = mysql.connector.connect(\n",
    "    host='localhost',\n",
    "    port=3306,\n",
    "    user='root',\n",
    "    password='mint',\n",
    "    database='oneday'\n",
    ")\n",
    "\n",
    "cursor = remote.cursor(buffered=True)\n",
    "\n",
    "\n",
    "# city의 max length 체크\n",
    "sql_city = \"SELECT MAX(CHAR_LENGTH(city)) FROM origin_terror_data;\"\n",
    "cursor.execute(sql_city)\n",
    "max_length_city = cursor.fetchone()[0]\n",
    "print(f\"city: {max_length_city}\")\n",
    "\n",
    "# target1의 max length 체크\n",
    "sql_target1 = \"SELECT MAX(CHAR_LENGTH(target1)) FROM origin_terror_data;\"\n",
    "cursor.execute(sql_target1)\n",
    "max_length_target1 = cursor.fetchone()[0]\n",
    "print(f\"target1: {max_length_target1}\")\n",
    "\n",
    "# gname의 max length 체크\n",
    "sql_gname = \"SELECT MAX(CHAR_LENGTH(gname)) FROM origin_terror_data;\"\n",
    "cursor.execute(sql_gname)\n",
    "max_length_gname = cursor.fetchone()[0]\n",
    "print(f\"gname: {max_length_gname}\")\n",
    "\n",
    "# summary의 max length 체크\n",
    "sql_summary = \"SELECT MAX(CHAR_LENGTH(summary)) FROM origin_terror_data;\"\n",
    "cursor.execute(sql_summary)\n",
    "max_length_summary = cursor.fetchone()[0]\n",
    "print(f\"summary: {max_length_summary}\")\n",
    "\n",
    "# motive의 max length 체크\n",
    "sql_motive = \"SELECT MAX(CHAR_LENGTH(motive)) FROM origin_terror_data;\"\n",
    "cursor.execute(sql_motive)\n",
    "max_length_motive = cursor.fetchone()[0]\n",
    "print(f\"motive: {max_length_motive}\")\n",
    "\n",
    "# 연결 닫기\n",
    "cursor.close()\n",
    "remote.close()"
   ]
  },
  {
   "cell_type": "markdown",
   "metadata": {
    "id": "aY0UDewC6Xh7",
    "outputId": "a362292a-80f0-4f7a-e56c-960e91d713ad",
    "scrolled": true
   },
   "source": [
    "```\n",
    "TerrorData 테이블 만들기 \n",
    "CREATE TABLE TerrorData (\n",
    "    terror_id INT AUTO_INCREMENT PRIMARY KEY,\n",
    "    region_code INT NOT NULL,\n",
    "    country_code INT NOT NULL,\n",
    "    attacktype_code INT NOT NULL,\n",
    "    targtype_code INT NOT NULL,\n",
    "    weaptype_code INT NOT NULL,\n",
    "\n",
    "    terror_date DATE NOT NULL,\n",
    "    city VARCHAR(66),\n",
    "    target VARCHAR(350),\n",
    "    group_name VARCHAR(120),\n",
    "    kill_count INT NOT NULL DEFAULT 0,\n",
    "    wound_count INT NOT NULL DEFAULT 0,\n",
    "    motive VARCHAR(900),\n",
    "    summary VARCHAR(2450),\n",
    "    latitude DECIMAL(16, 14),\n",
    "    longitude DECIMAL(17, 14),\n",
    "\n",
    "    constraint region2 foreign key (region_code) references Region(region_code),\n",
    "    constraint country2 foreign key (country_code) references Country(country_code),\n",
    "    constraint attacktype2 foreign key (attacktype_code) references AttackType(attacktype_code),\n",
    "    constraint targtype2 foreign key (targtype_code) references TargetType(targtype_code),\n",
    "    constraint weaptype2 foreign key (weaptype_code) references WeaponType(weaptype_code)\n",
    ");"
   ]
  },
  {
   "cell_type": "markdown",
   "metadata": {
    "id": "QvPwcE0E6Xh7",
    "outputId": "3e2d3ef6-8a42-4099-cad4-0f14186cbdd2"
   },
   "source": [
    "```\n",
    "+-----------------+----------------+------+-----+---------+----------------+\r\n",
    "| Field           | Type           | Null | Key | Default | Extra          |\r\n",
    "+-----------------+----------------+------+-----+---------+----------------+\r\n",
    "| terror_id       | int            | NO   | PRI | NULL    | auto_increment |\r\n",
    "| region_code     | int            | NO   | MUL | NULL    |                |\r\n",
    "| country_code    | int            | NO   | MUL | NULL    |                |\r\n",
    "| attacktype_code | int            | NO   | MUL | NULL    |                |\r\n",
    "| targtype_code   | int            | NO   | MUL | NULL    |                |\r\n",
    "| weaptype_code   | int            | NO   | MUL | NULL    |                |\r\n",
    "| terror_date     | date           | NO   |     | NULL    |                |\r\n",
    "| city            | varchar(66)    | YES  |     | NULL    |                |\r\n",
    "| target          | varchar(350)   | YES  |     | NULL    |                |\r\n",
    "| group_name      | varchar(120)   | YES  |     | NULL    |                |\r\n",
    "| kill_count      | int            | NO   |     | 0       |                |\r\n",
    "| wound_count     | int            | NO   |     | 0       |                |\r\n",
    "| motive          | varchar(900)   | YES  |     | NULL    |                |\r\n",
    "| summary         | varchar(2450)  | YES  |     | NULL    |                |\r\n",
    "| latitude        | decimal(16,14) | YES  |     | NULL    |                |\r\n",
    "| longitude       | decimal(17,14) | YES  |     | NULL    |                |\r\n",
    "+-----------------+----------------+------+-----+--------\n",
    "```-+----------------+ows in set (0.01 sec)"
   ]
  },
  {
   "cell_type": "markdown",
   "metadata": {
    "id": "y3f1dU9R6Xh7"
   },
   "source": [
    "문제 4-2. origin_terror_data 테이블에서 Terror Data를 추출하여 문제 4-1.에서 생성한 테이블에 입력하고 확인하세요.\n",
    "\n",
    "- 앞서 생성한 Region, Country, AttackType, TargetType, WeaponType 데이터와의 관계에 주의하세요.\n",
    "- Count 값을 가지는 칼럼의 값이 null 인 경우, 0으로 예외처리 해주세요.\n",
    "- 위도 경도 데이터 중 범위를 넘어서는 데이터가 존재합니다. 이 경우, null 값으로 예외처리 해주세요. (위도 경도 범위 : 구글링해보세요.)\n",
    "- terror_date 칼럼의 경우, origin_terror_data 의 연, 월, 일 정보를 조합하여 date type 으로 정의해주세요. (Format : ‘YYYY-mm-dd’)\n",
    "- origin_terror_data 의 월, 일 정보중 값이 0 인 경우 date type 으로 변환되지 않습니다. 이 경우, 1 로 예외처리 해주세요.\n",
    "- 데이터 입력까지 완료한 이후, origin_terror_data 테이블을 삭제하고 확인하세요.\n",
    "\n",
    "제출 7. Table 생성 및 조회 결과 : DESC TerrorData, SELECT COUNT(*) FROM TerrorData \n",
    "\n",
    "제출 8. 관련 코드 및 실행 결과 (ipynb)"
   ]
  },
  {
   "cell_type": "code",
   "execution_count": 8,
   "metadata": {},
   "outputs": [],
   "source": [
    "sql = \"INSERT INTO TerrorData (\\\n",
    "        region_code, country_code, attacktype_code, targtype_code, weaptype_code,\\\n",
    "        city, target, group_name, kill_count, wound_count, motive, summary,\\\n",
    "        latitude, longitude, terror_date)\\\n",
    "     select region, country, attacktype1, targtype1,  weaptype1, city,  target1,  gname, \\\n",
    "     IF(nkill IS NULL, 0, nkill) AS nkill,\\\n",
    "     IF(nwound IS NULL, 0, nwound) AS nwound,\\\n",
    "     motive, summary,\\\n",
    "    CASE WHEN latitude BETWEEN -90 AND 90 THEN NULL ELSE latitude END AS latitude,\\\n",
    "    CASE WHEN longitude BETWEEN -180 AND 180 THEN longitude ELSE NULL END AS longitude,\\\n",
    "     STR_TO_DATE(\\\n",
    "         CONCAT(IF(iyear = 0, 1, iyear), '-', IF(imonth = 0, 1, imonth), '-', IF(iday = 0, 1, iday) ), '%Y-%m-%d') AS event_date\\\n",
    "    FROM origin_terror_data;\"\n",
    "\n",
    "cursor.execute(sql)\n",
    "conn.commit()"
   ]
  },
  {
   "cell_type": "code",
   "execution_count": 3,
   "metadata": {},
   "outputs": [],
   "source": [
    "conn = mysql.connector.connect(\n",
    "    host = \"localhost\",\n",
    "    port = 3306,\n",
    "    user = \"root\",\n",
    "    password = \"mint\",\n",
    "    database = \"oneday \"\n",
    ")\n",
    "cursor = conn.cursor(buffered=True)"
   ]
  },
  {
   "cell_type": "code",
   "execution_count": 10,
   "metadata": {},
   "outputs": [
    {
     "data": {
      "text/plain": [
       "True"
      ]
     },
     "execution_count": 10,
     "metadata": {},
     "output_type": "execute_result"
    }
   ],
   "source": [
    "# 연결 닫기\n",
    "cursor.close()\n",
    "# remote.close()"
   ]
  },
  {
   "cell_type": "code",
   "execution_count": 9,
   "metadata": {
    "id": "urBcPw3n6Xh7",
    "outputId": "2a5647af-fd77-4e04-b897-d42cfc1fa19d"
   },
   "outputs": [
    {
     "name": "stdout",
     "output_type": "stream",
     "text": [
      "[(181691,)]\n"
     ]
    }
   ],
   "source": [
    "# TerrorData 테이블에 INSERT \n",
    "sql = 'select count(*) from TerrorData'\n",
    "cursor.execute(sql)\n",
    "result = cursor.fetchall()\n",
    "print(result)"
   ]
  },
  {
   "cell_type": "markdown",
   "metadata": {
    "id": "hwD6-Y1b6Xh8"
   },
   "source": [
    "문제 5. TerrorData 의 전체 기간에서 테러의 숫자를 연도별로 집계하여 연도별 테러 발생 건수를 조회하세요. \n",
    "\n",
    "- Python 코드에서 SQL 쿼리를 사용하여 조회합니다. \n",
    "\n",
    "제출 9. 관련 코드 및 실행 결과 (ipynb)"
   ]
  },
  {
   "cell_type": "code",
   "execution_count": 12,
   "metadata": {},
   "outputs": [],
   "source": [
    "conn = mysql.connector.connect(\n",
    "    host = \"localhost\",\n",
    "    port = 3306,\n",
    "    user = \"root\",\n",
    "    password = \"mint\",\n",
    "    database = \"oneday \"\n",
    ")\n",
    "cursor = conn.cursor(buffered=True)"
   ]
  },
  {
   "cell_type": "code",
   "execution_count": 16,
   "metadata": {},
   "outputs": [
    {
     "name": "stdout",
     "output_type": "stream",
     "text": [
      "['terror_id', 'region_code', 'country_code', 'attacktype_code', 'targtype_code', 'weaptype_code', 'terror_date', 'city', 'target', 'group_name', 'kill_count', 'wound_count', 'motive', 'summary', 'latitude', 'longitude']\n"
     ]
    }
   ],
   "source": [
    "num_fileds = len(cursor.description)\n",
    "field_names = [i[0] for i in cursor.description]\n",
    "print(field_names)"
   ]
  },
  {
   "cell_type": "code",
   "execution_count": 23,
   "metadata": {},
   "outputs": [
    {
     "data": {
      "text/plain": [
       "[(1970, 651),\n",
       " (1971, 471),\n",
       " (1972, 568),\n",
       " (1973, 473),\n",
       " (1974, 581),\n",
       " (1975, 740),\n",
       " (1976, 923),\n",
       " (1977, 1319),\n",
       " (1978, 1526),\n",
       " (1979, 2662),\n",
       " (1980, 2662),\n",
       " (1981, 2586),\n",
       " (1982, 2544),\n",
       " (1983, 2870),\n",
       " (1984, 3495),\n",
       " (1985, 2915),\n",
       " (1986, 2860),\n",
       " (1987, 3183),\n",
       " (1988, 3721),\n",
       " (1989, 4324),\n",
       " (1990, 3887),\n",
       " (1991, 4683),\n",
       " (1992, 5071),\n",
       " (1994, 3456),\n",
       " (1995, 3081),\n",
       " (1996, 3058),\n",
       " (1997, 3197),\n",
       " (1998, 934),\n",
       " (1999, 1395),\n",
       " (2000, 1814),\n",
       " (2001, 1906),\n",
       " (2002, 1333),\n",
       " (2003, 1278),\n",
       " (2004, 1166),\n",
       " (2005, 2017),\n",
       " (2006, 2758),\n",
       " (2007, 3242),\n",
       " (2008, 4805),\n",
       " (2009, 4721),\n",
       " (2010, 4826),\n",
       " (2011, 5076),\n",
       " (2012, 8522),\n",
       " (2013, 12036),\n",
       " (2014, 16903),\n",
       " (2015, 14965),\n",
       " (2016, 13587),\n",
       " (2017, 10900)]"
      ]
     },
     "execution_count": 23,
     "metadata": {},
     "output_type": "execute_result"
    }
   ],
   "source": [
    "# TerrorData 테이블에 INSERT \n",
    "sql = 'SELECT YEAR(terror_date) AS terror_year, COUNT(*) AS record_count FROM TerrorData GROUP BY terror_year ORDER BY terror_year;'\n",
    "cursor.execute(sql)\n",
    "result = cursor.fetchall()\n",
    "result"
   ]
  },
  {
   "cell_type": "markdown",
   "metadata": {
    "id": "CjCUYI--6Xh8"
   },
   "source": [
    "문제 6. TerrorData 에서 테러가 가장 많이 일어난 순서로 국가를 정렬하여 상위 10위 국가를 조회하세요. \n",
    "\n",
    "- Python 코드에서 SQL 쿼리를 사용하여 조회합니다. \n",
    "- 국가 정보는 이름으로 출력하세요.\n",
    "\n",
    "제출 10. 관련 코드 및 실행 결과 (ipynb)"
   ]
  },
  {
   "cell_type": "code",
   "execution_count": 31,
   "metadata": {
    "id": "S8hmvcGe6Xh8",
    "outputId": "2ce99d30-3d57-44b3-c9e6-2d76ad53aca3"
   },
   "outputs": [
    {
     "data": {
      "text/plain": [
       "[('Middle East & North Africa', 50474),\n",
       " ('South Asia', 44974),\n",
       " ('South America', 18978),\n",
       " ('Sub-Saharan Africa', 17550),\n",
       " ('Western Europe', 16639),\n",
       " ('Southeast Asia', 12485),\n",
       " ('Central America & Caribbean', 10344),\n",
       " ('Eastern Europe', 5144),\n",
       " ('North America', 3456),\n",
       " ('East Asia', 802)]"
      ]
     },
     "execution_count": 31,
     "metadata": {},
     "output_type": "execute_result"
    }
   ],
   "source": [
    "# 테러가 많이 일어난 상위 10위 Region\n",
    "sql = 'SELECT Region.region_name, COUNT(*) AS record_count FROM\\\n",
    "        TerrorData JOIN Region ON TerrorData.region_code = Region.region_code GROUP BY TerrorData.region_code,\\\n",
    "        Region.region_name ORDER BY record_count DESC limit 10;'\n",
    "cursor.execute(sql)\n",
    "result = cursor.fetchall()\n",
    "result"
   ]
  },
  {
   "cell_type": "code",
   "execution_count": 3,
   "metadata": {},
   "outputs": [],
   "source": [
    "conn = mysql.connector.connect(\n",
    "    host = \"localhost\",\n",
    "    port = 3306,\n",
    "    user = \"root\",\n",
    "    password = \"mint\",\n",
    "    database = \"oneday \"\n",
    ")\n",
    "cursor = conn.cursor(buffered=True)"
   ]
  },
  {
   "cell_type": "code",
   "execution_count": 32,
   "metadata": {},
   "outputs": [
    {
     "data": {
      "text/plain": [
       "[('Iraq', 24636),\n",
       " ('Pakistan', 14368),\n",
       " ('Afghanistan', 12731),\n",
       " ('India', 11960),\n",
       " ('Colombia', 8306),\n",
       " ('Philippines', 6908),\n",
       " ('Peru', 6096),\n",
       " ('El Salvador', 5320),\n",
       " ('United Kingdom', 5235),\n",
       " ('Turkey', 4292)]"
      ]
     },
     "execution_count": 32,
     "metadata": {},
     "output_type": "execute_result"
    }
   ],
   "source": [
    "# 테러가 많이 일어난 상위 10위 Country \n",
    "sql = 'SELECT Country.country_name, COUNT(*) AS record_count FROM\\\n",
    "        TerrorData JOIN Country ON TerrorData.country_code = Country.country_code GROUP BY TerrorData.country_code,\\\n",
    "        Country.country_name ORDER BY record_count DESC limit 10;'\n",
    "cursor.execute(sql)\n",
    "result = cursor.fetchall()\n",
    "result"
   ]
  },
  {
   "cell_type": "markdown",
   "metadata": {
    "id": "w9LuZulD6Xh8"
   },
   "source": [
    "문제 7. TerrorData 에서 테러가 가장 많이 일어난 상위 10위 국가에 대해 국가별로 사망자수와 부상자수, 사상자수(사망자수 + 부상자수)를 조회하세요. \n",
    "\n",
    "- Python 코드에서 SQL 쿼리를 사용하여 조회합니다. \n",
    "- 국가 정보는 이름으로 출력하세요.\n",
    "\n",
    "제출 11. 관련 코드 및 실행 결과 (ipynb)"
   ]
  },
  {
   "cell_type": "code",
   "execution_count": 7,
   "metadata": {
    "id": "HEzPWjNC6Xh8",
    "outputId": "e820946a-ac85-4ef2-8ec0-1446bf66d17b"
   },
   "outputs": [
    {
     "data": {
      "text/plain": [
       "[('Iraq', Decimal('78589'), Decimal('134690'), Decimal('213279')),\n",
       " ('Afghanistan', Decimal('39384'), Decimal('44277'), Decimal('83661')),\n",
       " ('Pakistan', Decimal('23822'), Decimal('42038'), Decimal('65860')),\n",
       " ('India', Decimal('19341'), Decimal('28980'), Decimal('48321')),\n",
       " ('Nigeria', Decimal('22682'), Decimal('10238'), Decimal('32920')),\n",
       " ('Sri Lanka', Decimal('15530'), Decimal('15561'), Decimal('31091')),\n",
       " ('Syria', Decimal('15229'), Decimal('14109'), Decimal('29338')),\n",
       " ('Colombia', Decimal('14698'), Decimal('10328'), Decimal('25026')),\n",
       " ('United States', Decimal('3771'), Decimal('20702'), Decimal('24473')),\n",
       " ('Philippines', Decimal('9559'), Decimal('13367'), Decimal('22926'))]"
      ]
     },
     "execution_count": 7,
     "metadata": {},
     "output_type": "execute_result"
    }
   ],
   "source": [
    "# 테러가 많이 일어난 상위 10위 Country \n",
    "sql = 'SELECT Country.country_name AS country, SUM(kill_count) AS total_kills, SUM(wound_count) AS total_wounds, SUM(kill_count + wound_count) \\\n",
    "        AS total_casualties FROM TerrorData JOIN Country ON TerrorData.country_code = Country.country_code \\\n",
    "        GROUP BY TerrorData.country_code, Country.country_name ORDER BY total_casualties DESC LIMIT 10;'\n",
    "cursor.execute(sql)\n",
    "result = cursor.fetchall()\n",
    "result"
   ]
  },
  {
   "cell_type": "markdown",
   "metadata": {
    "id": "jL_b-RAi6Xh8"
   },
   "source": [
    "문제 8. 지역별 테러 공격 형태에 따른 사망자수, 부상자수, 사상자수를 조회하세요.\n",
    "\n",
    "- Python 코드에서 SQL 쿼리를 사용하여 조회합니다. \n",
    "- 지역 정보(Region)는 이름으로 출력하세요.\n",
    "\n",
    "제출 12. 관련 코드 및 실행 결과 (ipynb)"
   ]
  },
  {
   "cell_type": "code",
   "execution_count": 13,
   "metadata": {
    "id": "bhQhRdRC6Xh8",
    "outputId": "ec845cf8-a40c-44b8-e51e-df1f2b291cd7"
   },
   "outputs": [
    {
     "data": {
      "text/plain": [
       "[('Central America & Caribbean',\n",
       "  'Assassination',\n",
       "  Decimal('1699'),\n",
       "  Decimal('246'),\n",
       "  Decimal('1945')),\n",
       " ('Southeast Asia',\n",
       "  'Assassination',\n",
       "  Decimal('1632'),\n",
       "  Decimal('821'),\n",
       "  Decimal('2453')),\n",
       " ('South America',\n",
       "  'Assassination',\n",
       "  Decimal('4239'),\n",
       "  Decimal('655'),\n",
       "  Decimal('4894')),\n",
       " ('North America',\n",
       "  'Assassination',\n",
       "  Decimal('238'),\n",
       "  Decimal('84'),\n",
       "  Decimal('322')),\n",
       " ('Middle East & North Africa',\n",
       "  'Assassination',\n",
       "  Decimal('4774'),\n",
       "  Decimal('4521'),\n",
       "  Decimal('9295')),\n",
       " ('South Asia',\n",
       "  'Assassination',\n",
       "  Decimal('6701'),\n",
       "  Decimal('5180'),\n",
       "  Decimal('11881')),\n",
       " ('Western Europe',\n",
       "  'Assassination',\n",
       "  Decimal('2673'),\n",
       "  Decimal('801'),\n",
       "  Decimal('3474')),\n",
       " ('Sub-Saharan Africa',\n",
       "  'Assassination',\n",
       "  Decimal('2371'),\n",
       "  Decimal('1082'),\n",
       "  Decimal('3453')),\n",
       " ('Australasia & Oceania',\n",
       "  'Assassination',\n",
       "  Decimal('34'),\n",
       "  Decimal('9'),\n",
       "  Decimal('43')),\n",
       " ('East Asia', 'Assassination', Decimal('44'), Decimal('35'), Decimal('79')),\n",
       " ('Eastern Europe',\n",
       "  'Assassination',\n",
       "  Decimal('377'),\n",
       "  Decimal('401'),\n",
       "  Decimal('778')),\n",
       " ('Central Asia',\n",
       "  'Assassination',\n",
       "  Decimal('138'),\n",
       "  Decimal('52'),\n",
       "  Decimal('190')),\n",
       " ('North America',\n",
       "  'Armed Assault',\n",
       "  Decimal('837'),\n",
       "  Decimal('1542'),\n",
       "  Decimal('2379')),\n",
       " ('South America',\n",
       "  'Armed Assault',\n",
       "  Decimal('16814'),\n",
       "  Decimal('3887'),\n",
       "  Decimal('20701')),\n",
       " ('Western Europe',\n",
       "  'Armed Assault',\n",
       "  Decimal('975'),\n",
       "  Decimal('2062'),\n",
       "  Decimal('3037')),\n",
       " ('Middle East & North Africa',\n",
       "  'Armed Assault',\n",
       "  Decimal('26201'),\n",
       "  Decimal('14894'),\n",
       "  Decimal('41095')),\n",
       " ('Central America & Caribbean',\n",
       "  'Armed Assault',\n",
       "  Decimal('23233'),\n",
       "  Decimal('5459'),\n",
       "  Decimal('28692')),\n",
       " ('Southeast Asia',\n",
       "  'Armed Assault',\n",
       "  Decimal('7745'),\n",
       "  Decimal('5667'),\n",
       "  Decimal('13412')),\n",
       " ('Australasia & Oceania',\n",
       "  'Armed Assault',\n",
       "  Decimal('78'),\n",
       "  Decimal('87'),\n",
       "  Decimal('165')),\n",
       " ('Sub-Saharan Africa',\n",
       "  'Armed Assault',\n",
       "  Decimal('42224'),\n",
       "  Decimal('15715'),\n",
       "  Decimal('57939')),\n",
       " ('Eastern Europe',\n",
       "  'Armed Assault',\n",
       "  Decimal('2046'),\n",
       "  Decimal('1852'),\n",
       "  Decimal('3898')),\n",
       " ('East Asia',\n",
       "  'Armed Assault',\n",
       "  Decimal('612'),\n",
       "  Decimal('707'),\n",
       "  Decimal('1319')),\n",
       " ('South Asia',\n",
       "  'Armed Assault',\n",
       "  Decimal('39132'),\n",
       "  Decimal('24505'),\n",
       "  Decimal('63637')),\n",
       " ('Central Asia',\n",
       "  'Armed Assault',\n",
       "  Decimal('400'),\n",
       "  Decimal('988'),\n",
       "  Decimal('1388')),\n",
       " ('Western Europe',\n",
       "  'Bombing/Explosion',\n",
       "  Decimal('2525'),\n",
       "  Decimal('14046'),\n",
       "  Decimal('16571')),\n",
       " ('North America',\n",
       "  'Bombing/Explosion',\n",
       "  Decimal('598'),\n",
       "  Decimal('1806'),\n",
       "  Decimal('2404')),\n",
       " ('Eastern Europe',\n",
       "  'Bombing/Explosion',\n",
       "  Decimal('3725'),\n",
       "  Decimal('8262'),\n",
       "  Decimal('11987')),\n",
       " ('Southeast Asia',\n",
       "  'Bombing/Explosion',\n",
       "  Decimal('3854'),\n",
       "  Decimal('18547'),\n",
       "  Decimal('22401')),\n",
       " ('Middle East & North Africa',\n",
       "  'Bombing/Explosion',\n",
       "  Decimal('81183'),\n",
       "  Decimal('187839'),\n",
       "  Decimal('269022')),\n",
       " ('South America',\n",
       "  'Bombing/Explosion',\n",
       "  Decimal('4318'),\n",
       "  Decimal('10933'),\n",
       "  Decimal('15251')),\n",
       " ('Australasia & Oceania',\n",
       "  'Bombing/Explosion',\n",
       "  Decimal('9'),\n",
       "  Decimal('77'),\n",
       "  Decimal('86')),\n",
       " ('East Asia',\n",
       "  'Bombing/Explosion',\n",
       "  Decimal('398'),\n",
       "  Decimal('1135'),\n",
       "  Decimal('1533')),\n",
       " ('Central America & Caribbean',\n",
       "  'Bombing/Explosion',\n",
       "  Decimal('2611'),\n",
       "  Decimal('2819'),\n",
       "  Decimal('5430')),\n",
       " ('South Asia',\n",
       "  'Bombing/Explosion',\n",
       "  Decimal('41490'),\n",
       "  Decimal('97925'),\n",
       "  Decimal('139415')),\n",
       " ('Sub-Saharan Africa',\n",
       "  'Bombing/Explosion',\n",
       "  Decimal('16261'),\n",
       "  Decimal('28448'),\n",
       "  Decimal('44709')),\n",
       " ('Central Asia',\n",
       "  'Bombing/Explosion',\n",
       "  Decimal('349'),\n",
       "  Decimal('849'),\n",
       "  Decimal('1198')),\n",
       " ('Western Europe',\n",
       "  'Hijacking',\n",
       "  Decimal('133'),\n",
       "  Decimal('66'),\n",
       "  Decimal('199')),\n",
       " ('North America',\n",
       "  'Hijacking',\n",
       "  Decimal('3005'),\n",
       "  Decimal('16512'),\n",
       "  Decimal('19517')),\n",
       " ('East Asia', 'Hijacking', Decimal('9'), Decimal('17'), Decimal('26')),\n",
       " ('South America', 'Hijacking', Decimal('16'), Decimal('9'), Decimal('25')),\n",
       " ('Middle East & North Africa',\n",
       "  'Hijacking',\n",
       "  Decimal('124'),\n",
       "  Decimal('73'),\n",
       "  Decimal('197')),\n",
       " ('Sub-Saharan Africa',\n",
       "  'Hijacking',\n",
       "  Decimal('50'),\n",
       "  Decimal('38'),\n",
       "  Decimal('88')),\n",
       " ('Southeast Asia',\n",
       "  'Hijacking',\n",
       "  Decimal('164'),\n",
       "  Decimal('35'),\n",
       "  Decimal('199')),\n",
       " ('South Asia', 'Hijacking', Decimal('142'), Decimal('206'), Decimal('348')),\n",
       " ('Central America & Caribbean',\n",
       "  'Hijacking',\n",
       "  Decimal('4'),\n",
       "  Decimal('4'),\n",
       "  Decimal('8')),\n",
       " ('Eastern Europe', 'Hijacking', Decimal('57'), Decimal('25'), Decimal('82')),\n",
       " ('Central Asia', 'Hijacking', Decimal('14'), Decimal('16'), Decimal('30')),\n",
       " ('Australasia & Oceania',\n",
       "  'Hijacking',\n",
       "  Decimal('0'),\n",
       "  Decimal('0'),\n",
       "  Decimal('0')),\n",
       " ('Middle East & North Africa',\n",
       "  'Hostage Taking (Barricade Incident)',\n",
       "  Decimal('1115'),\n",
       "  Decimal('667'),\n",
       "  Decimal('1782')),\n",
       " ('South America',\n",
       "  'Hostage Taking (Barricade Incident)',\n",
       "  Decimal('36'),\n",
       "  Decimal('47'),\n",
       "  Decimal('83')),\n",
       " ('North America',\n",
       "  'Hostage Taking (Barricade Incident)',\n",
       "  Decimal('81'),\n",
       "  Decimal('80'),\n",
       "  Decimal('161')),\n",
       " ('Southeast Asia',\n",
       "  'Hostage Taking (Barricade Incident)',\n",
       "  Decimal('224'),\n",
       "  Decimal('58'),\n",
       "  Decimal('282')),\n",
       " ('Western Europe',\n",
       "  'Hostage Taking (Barricade Incident)',\n",
       "  Decimal('170'),\n",
       "  Decimal('389'),\n",
       "  Decimal('559')),\n",
       " ('Central America & Caribbean',\n",
       "  'Hostage Taking (Barricade Incident)',\n",
       "  Decimal('59'),\n",
       "  Decimal('47'),\n",
       "  Decimal('106')),\n",
       " ('Sub-Saharan Africa',\n",
       "  'Hostage Taking (Barricade Incident)',\n",
       "  Decimal('1300'),\n",
       "  Decimal('1021'),\n",
       "  Decimal('2321')),\n",
       " ('South Asia',\n",
       "  'Hostage Taking (Barricade Incident)',\n",
       "  Decimal('795'),\n",
       "  Decimal('872'),\n",
       "  Decimal('1667')),\n",
       " ('East Asia',\n",
       "  'Hostage Taking (Barricade Incident)',\n",
       "  Decimal('19'),\n",
       "  Decimal('26'),\n",
       "  Decimal('45')),\n",
       " ('Eastern Europe',\n",
       "  'Hostage Taking (Barricade Incident)',\n",
       "  Decimal('667'),\n",
       "  Decimal('751'),\n",
       "  Decimal('1418')),\n",
       " ('Australasia & Oceania',\n",
       "  'Hostage Taking (Barricade Incident)',\n",
       "  Decimal('6'),\n",
       "  Decimal('7'),\n",
       "  Decimal('13')),\n",
       " ('Central Asia',\n",
       "  'Hostage Taking (Barricade Incident)',\n",
       "  Decimal('6'),\n",
       "  Decimal('1'),\n",
       "  Decimal('7')),\n",
       " ('North America',\n",
       "  'Hostage Taking (Kidnapping)',\n",
       "  Decimal('67'),\n",
       "  Decimal('52'),\n",
       "  Decimal('119')),\n",
       " ('South America',\n",
       "  'Hostage Taking (Kidnapping)',\n",
       "  Decimal('1069'),\n",
       "  Decimal('177'),\n",
       "  Decimal('1246')),\n",
       " ('Western Europe',\n",
       "  'Hostage Taking (Kidnapping)',\n",
       "  Decimal('77'),\n",
       "  Decimal('33'),\n",
       "  Decimal('110')),\n",
       " ('Central America & Caribbean',\n",
       "  'Hostage Taking (Kidnapping)',\n",
       "  Decimal('266'),\n",
       "  Decimal('29'),\n",
       "  Decimal('295')),\n",
       " ('Sub-Saharan Africa',\n",
       "  'Hostage Taking (Kidnapping)',\n",
       "  Decimal('5065'),\n",
       "  Decimal('2673'),\n",
       "  Decimal('7738')),\n",
       " ('Middle East & North Africa',\n",
       "  'Hostage Taking (Kidnapping)',\n",
       "  Decimal('12722'),\n",
       "  Decimal('1518'),\n",
       "  Decimal('14240')),\n",
       " ('Southeast Asia',\n",
       "  'Hostage Taking (Kidnapping)',\n",
       "  Decimal('562'),\n",
       "  Decimal('164'),\n",
       "  Decimal('726')),\n",
       " ('Eastern Europe',\n",
       "  'Hostage Taking (Kidnapping)',\n",
       "  Decimal('175'),\n",
       "  Decimal('415'),\n",
       "  Decimal('590')),\n",
       " ('South Asia',\n",
       "  'Hostage Taking (Kidnapping)',\n",
       "  Decimal('4207'),\n",
       "  Decimal('1350'),\n",
       "  Decimal('5557')),\n",
       " ('Australasia & Oceania',\n",
       "  'Hostage Taking (Kidnapping)',\n",
       "  Decimal('7'),\n",
       "  Decimal('20'),\n",
       "  Decimal('27')),\n",
       " ('Central Asia',\n",
       "  'Hostage Taking (Kidnapping)',\n",
       "  Decimal('10'),\n",
       "  Decimal('11'),\n",
       "  Decimal('21')),\n",
       " ('East Asia',\n",
       "  'Hostage Taking (Kidnapping)',\n",
       "  Decimal('4'),\n",
       "  Decimal('4'),\n",
       "  Decimal('8')),\n",
       " ('East Asia',\n",
       "  'Facility/Infrastructure Attack',\n",
       "  Decimal('32'),\n",
       "  Decimal('142'),\n",
       "  Decimal('174')),\n",
       " ('North America',\n",
       "  'Facility/Infrastructure Attack',\n",
       "  Decimal('64'),\n",
       "  Decimal('460'),\n",
       "  Decimal('524')),\n",
       " ('Eastern Europe',\n",
       "  'Facility/Infrastructure Attack',\n",
       "  Decimal('33'),\n",
       "  Decimal('63'),\n",
       "  Decimal('96')),\n",
       " ('Western Europe',\n",
       "  'Facility/Infrastructure Attack',\n",
       "  Decimal('58'),\n",
       "  Decimal('374'),\n",
       "  Decimal('432')),\n",
       " ('South America',\n",
       "  'Facility/Infrastructure Attack',\n",
       "  Decimal('238'),\n",
       "  Decimal('143'),\n",
       "  Decimal('381')),\n",
       " ('Middle East & North Africa',\n",
       "  'Facility/Infrastructure Attack',\n",
       "  Decimal('802'),\n",
       "  Decimal('618'),\n",
       "  Decimal('1420')),\n",
       " ('Australasia & Oceania',\n",
       "  'Facility/Infrastructure Attack',\n",
       "  Decimal('0'),\n",
       "  Decimal('13'),\n",
       "  Decimal('13')),\n",
       " ('Southeast Asia',\n",
       "  'Facility/Infrastructure Attack',\n",
       "  Decimal('150'),\n",
       "  Decimal('204'),\n",
       "  Decimal('354')),\n",
       " ('Central America & Caribbean',\n",
       "  'Facility/Infrastructure Attack',\n",
       "  Decimal('118'),\n",
       "  Decimal('105'),\n",
       "  Decimal('223')),\n",
       " ('South Asia',\n",
       "  'Facility/Infrastructure Attack',\n",
       "  Decimal('562'),\n",
       "  Decimal('1132'),\n",
       "  Decimal('1694')),\n",
       " ('Sub-Saharan Africa',\n",
       "  'Facility/Infrastructure Attack',\n",
       "  Decimal('1584'),\n",
       "  Decimal('502'),\n",
       "  Decimal('2086')),\n",
       " ('Central Asia',\n",
       "  'Facility/Infrastructure Attack',\n",
       "  Decimal('1'),\n",
       "  Decimal('9'),\n",
       "  Decimal('10')),\n",
       " ('North America',\n",
       "  'Unarmed Assault',\n",
       "  Decimal('16'),\n",
       "  Decimal('970'),\n",
       "  Decimal('986')),\n",
       " ('Western Europe',\n",
       "  'Unarmed Assault',\n",
       "  Decimal('53'),\n",
       "  Decimal('435'),\n",
       "  Decimal('488')),\n",
       " ('Central America & Caribbean',\n",
       "  'Unarmed Assault',\n",
       "  Decimal('23'),\n",
       "  Decimal('16'),\n",
       "  Decimal('39')),\n",
       " ('East Asia',\n",
       "  'Unarmed Assault',\n",
       "  Decimal('26'),\n",
       "  Decimal('7040'),\n",
       "  Decimal('7066')),\n",
       " ('Middle East & North Africa',\n",
       "  'Unarmed Assault',\n",
       "  Decimal('145'),\n",
       "  Decimal('701'),\n",
       "  Decimal('846')),\n",
       " ('South Asia',\n",
       "  'Unarmed Assault',\n",
       "  Decimal('79'),\n",
       "  Decimal('3661'),\n",
       "  Decimal('3740')),\n",
       " ('South America',\n",
       "  'Unarmed Assault',\n",
       "  Decimal('75'),\n",
       "  Decimal('108'),\n",
       "  Decimal('183')),\n",
       " ('Sub-Saharan Africa',\n",
       "  'Unarmed Assault',\n",
       "  Decimal('405'),\n",
       "  Decimal('753'),\n",
       "  Decimal('1158')),\n",
       " ('Southeast Asia',\n",
       "  'Unarmed Assault',\n",
       "  Decimal('30'),\n",
       "  Decimal('152'),\n",
       "  Decimal('182')),\n",
       " ('Eastern Europe',\n",
       "  'Unarmed Assault',\n",
       "  Decimal('11'),\n",
       "  Decimal('88'),\n",
       "  Decimal('99')),\n",
       " ('Central Asia',\n",
       "  'Unarmed Assault',\n",
       "  Decimal('16'),\n",
       "  Decimal('62'),\n",
       "  Decimal('78')),\n",
       " ('Australasia & Oceania',\n",
       "  'Unarmed Assault',\n",
       "  Decimal('1'),\n",
       "  Decimal('41'),\n",
       "  Decimal('42')),\n",
       " ('Sub-Saharan Africa',\n",
       "  'Unknown',\n",
       "  Decimal('9126'),\n",
       "  Decimal('2624'),\n",
       "  Decimal('11750')),\n",
       " ('Southeast Asia',\n",
       "  'Unknown',\n",
       "  Decimal('1276'),\n",
       "  Decimal('611'),\n",
       "  Decimal('1887')),\n",
       " ('Middle East & North Africa',\n",
       "  'Unknown',\n",
       "  Decimal('10576'),\n",
       "  Decimal('3477'),\n",
       "  Decimal('14053')),\n",
       " ('South America',\n",
       "  'Unknown',\n",
       "  Decimal('2044'),\n",
       "  Decimal('745'),\n",
       "  Decimal('2789')),\n",
       " ('North America', 'Unknown', Decimal('10'), Decimal('25'), Decimal('35')),\n",
       " ('Western Europe', 'Unknown', Decimal('30'), Decimal('126'), Decimal('156')),\n",
       " ('South Asia', 'Unknown', Decimal('8211'), Decimal('6529'), Decimal('14740')),\n",
       " ('Central America & Caribbean',\n",
       "  'Unknown',\n",
       "  Decimal('695'),\n",
       "  Decimal('266'),\n",
       "  Decimal('961')),\n",
       " ('East Asia', 'Unknown', Decimal('8'), Decimal('107'), Decimal('115')),\n",
       " ('Eastern Europe', 'Unknown', Decimal('324'), Decimal('188'), Decimal('512')),\n",
       " ('Australasia & Oceania',\n",
       "  'Unknown',\n",
       "  Decimal('15'),\n",
       "  Decimal('6'),\n",
       "  Decimal('21')),\n",
       " ('Central Asia', 'Unknown', Decimal('66'), Decimal('21'), Decimal('87'))]"
      ]
     },
     "execution_count": 13,
     "metadata": {},
     "output_type": "execute_result"
    }
   ],
   "source": [
    "# 테러가 많이 일어난 상위 10위 Country \n",
    "sql = 'SELECT Region.region_name AS region, AttackType.attacktype_desc AS attack_desc, SUM(TerrorData.kill_count) AS total_kills, \\\n",
    "    SUM(TerrorData.wound_count) AS total_wounds, SUM(TerrorData.kill_count + TerrorData.wound_count) AS total_casualties\\\n",
    "    FROM TerrorData JOIN Region ON TerrorData.region_code = Region.region_code JOIN AttackType ON TerrorData.attacktype_code = AttackType.attacktype_code\\\n",
    "    GROUP BY Region.region_name, AttackType.attacktype_desc;'\n",
    "cursor.execute(sql)\n",
    "result = cursor.fetchall()\n",
    "result"
   ]
  },
  {
   "cell_type": "markdown",
   "metadata": {
    "id": "XAMeGq6c6Xh8"
   },
   "source": [
    "---"
   ]
  },
  {
   "cell_type": "markdown",
   "metadata": {
    "id": "S0AG9bjM6Xh8"
   },
   "source": [
    "# reference"
   ]
  },
  {
   "cell_type": "markdown",
   "metadata": {
    "id": "0_hOJKj36Xh9"
   },
   "source": [
    "민형동 (2020). Global Terrorism Data를 활용한 국가별 테러유형 분석. 한국공안행정학회, 82, 63-84. \n",
    "\n",
    "한인택 (2017). Global Terrorism Database를 활용한 테러리즘의 현황분석. \n",
    "\n",
    "민형기 (2019). 전세계 테러 데이터 분석 (따라하기). https://pinkwink.kr/1214 \n",
    "\n",
    "ASHWINI SWSAIN (2018). Terrorism Around The World. https://www.kaggle.com/code/ash316/terrorism-around-the-world/notebook\n",
    "\n",
    "START (National Consortium for the Study of Terrorism and Responses to Terrorism). (2021). *Global Terrorism Database* (GTD) [Data set]. University of Maryland. https://www.start.umd.edu/gtd\n",
    "\n",
    "START (National Consortium for the Study of Terrorism and Responses to Terrorism). (2021, August). *Global Terrorism Database codebook: Methodology, inclusion criteria, and variables.* University of Maryland. https://www.start.umd.edu/gtd/downloads/Codebook.pdf \n"
   ]
  }
 ],
 "metadata": {
  "colab": {
   "provenance": []
  },
  "kernelspec": {
   "display_name": "Python 3 (ipykernel)",
   "language": "python",
   "name": "python3"
  },
  "language_info": {
   "codemirror_mode": {
    "name": "ipython",
    "version": 3
   },
   "file_extension": ".py",
   "mimetype": "text/x-python",
   "name": "python",
   "nbconvert_exporter": "python",
   "pygments_lexer": "ipython3",
   "version": "3.8.18"
  },
  "vscode": {
   "interpreter": {
    "hash": "8a599eba5a0607422bdd95bfff87163a2f2d674a232995810feaab4a67e8969e"
   }
  }
 },
 "nbformat": 4,
 "nbformat_minor": 4
}

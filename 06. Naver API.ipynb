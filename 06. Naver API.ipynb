{
 "cells": [
  {
   "cell_type": "markdown",
   "id": "4a8402de-9111-4d9e-a216-6660a5c6db5b",
   "metadata": {},
   "source": [
    "# 1. 네이버 API 사용 등록"
   ]
  },
  {
   "cell_type": "markdown",
   "id": "206c3397-d636-4b75-955e-b48ebff0cee9",
   "metadata": {},
   "source": [
    "- Client ID : RPTEy__uwLe3Ht3MUnjy\n",
    "\n",
    "- Client Secret : 8y6R1SDjnA"
   ]
  },
  {
   "cell_type": "markdown",
   "id": "5d397528-beb2-4b29-9c14-c6b4f5043fd4",
   "metadata": {},
   "source": [
    "### 예제 1 blog 검색"
   ]
  },
  {
   "cell_type": "code",
   "execution_count": 3,
   "id": "f3eeb7e7-5c28-4e0a-b4c9-a3f8b99ba1c7",
   "metadata": {},
   "outputs": [
    {
     "name": "stdout",
     "output_type": "stream",
     "text": [
      "{\n",
      "\t\"lastBuildDate\":\"Tue, 12 Dec 2023 10:50:56 +0900\",\n",
      "\t\"total\":427609,\n",
      "\t\"start\":1,\n",
      "\t\"display\":10,\n",
      "\t\"items\":[\n",
      "\t\t{\n",
      "\t\t\t\"title\":\"<b>파이썬<\\/b> 자격증 취득방법 및 커트라인\",\n",
      "\t\t\t\"link\":\"https:\\/\\/blog.naver.com\\/kkk2591\\/223278330970\",\n",
      "\t\t\t\"description\":\"<b>파이썬<\\/b> 자격증을 얻기 위해선 먼저 <b>파이썬<\\/b> 언어에 대한 이해가 필요했습니다. 입문자인 저에게는 기초부터 시작해야 했기에, KIC학원에서 기초부터 듣기로 선택했습니다. 수업을 듣고 나서 자격증 시험에 어떤... \",\n",
      "\t\t\t\"bloggername\":\"자동차와일상에 대한 모든것\",\n",
      "\t\t\t\"bloggerlink\":\"blog.naver.com\\/kkk2591\",\n",
      "\t\t\t\"postdate\":\"20231129\"\n",
      "\t\t},\n",
      "\t\t{\n",
      "\t\t\t\"title\":\"<b>파이썬<\\/b>자격증 취득방법 및 교육과정!\",\n",
      "\t\t\t\"link\":\"https:\\/\\/blog.naver.com\\/erulvoice\\/223277316075\",\n",
      "\t\t\t\"description\":\"시작한 <b>파이썬<\\/b> 중에서 갈팡질팡했습니다. 그리고 열심히 알아보면서 어떤 걸 먼저 배우고 자격증을 취득하는 게 좋을까 생각했었죠. <b>파이썬<\\/b>자격증은 <b>파이썬<\\/b> 마스터와 COS Pro Python이라고... \",\n",
      "\t\t\t\"bloggername\":\"미완성중\",\n",
      "\t\t\t\"bloggerlink\":\"blog.naver.com\\/erulvoice\",\n",
      "\t\t\t\"postdate\":\"20231128\"\n",
      "\t\t},\n",
      "\t\t{\n",
      "\t\t\t\"title\":\"<b>파이썬<\\/b> 학원을 다닌 이유\",\n",
      "\t\t\t\"link\":\"https:\\/\\/blog.naver.com\\/won2style3\\/223267531784\",\n",
      "\t\t\t\"description\":\"제가 선택한 교육 과정은 <b>파이썬<\\/b>입니다. 처음 등록하러 갔을 때, 멘토의 설명을 듣고 <b>파이썬<\\/b>이 제 적성에 가장 잘 맞을 것 같다고 느꼈어요. <b>파이썬<\\/b>은 문법이 간단해서 초보자들에게 인기가 많다고 하더라고요.... \",\n",
      "\t\t\t\"bloggername\":\"심플하지만 밀도있는 삶\",\n",
      "\t\t\t\"bloggerlink\":\"blog.naver.com\\/won2style3\",\n",
      "\t\t\t\"postdate\":\"20231117\"\n",
      "\t\t},\n",
      "\t\t{\n",
      "\t\t\t\"title\":\"의정부코딩학원 자바 vs <b>파이썬<\\/b> 어느 걸 배워야 할까?\",\n",
      "\t\t\t\"link\":\"https:\\/\\/blog.naver.com\\/xorbs6169\\/223264584778\",\n",
      "\t\t\t\"description\":\"자바 ( JAVA ) 와 <b>파이썬<\\/b> ( PYTHON ) 에 대해서 알아보고 비교해보는 포스팅해볼게요 ! ✅ 언어의 종류 ✅ 자바 ( JAVA ) ✔️ 객체 지향 언어에요 ! ✔️ JVM에서 실행돼요 ! <b>파이썬<\\/b> ( Python ) ✔️ 인터프리터... \",\n",
      "\t\t\t\"bloggername\":\"그건내과자야\",\n",
      "\t\t\t\"bloggerlink\":\"blog.naver.com\\/xorbs6169\",\n",
      "\t\t\t\"postdate\":\"20231114\"\n",
      "\t\t},\n",
      "\t\t{\n",
      "\t\t\t\"title\":\"마이크로비트 with <b>파이썬<\\/b>_피지컬컴퓨팅\",\n",
      "\t\t\t\"link\":\"https:\\/\\/blog.naver.com\\/pinksoya\\/223283081531\",\n",
      "\t\t\t\"description\":\"늘상 하던것에서 벗어나니 살짝 설레기도 하는걸요~ 거창하지만 실은 <b>파이썬<\\/b>으로 마이크로비트... (<b>파이썬<\\/b> 버전에서 말하는겁니다) 이 책을 본 느낌은. 이렇게도 할 수 있구나 배워볼수는 있지만 구지? 라는... \",\n",
      "\t\t\t\"bloggername\":\"함께해요! SW코딩수업!\",\n",
      "\t\t\t\"bloggerlink\":\"blog.naver.com\\/pinksoya\",\n",
      "\t\t\t\"postdate\":\"20231205\"\n",
      "\t\t},\n",
      "\t\t{\n",
      "\t\t\t\"title\":\"<b>파이썬<\\/b> 기초 꿀팁까지 들으며 취업 성공\",\n",
      "\t\t\t\"link\":\"https:\\/\\/blog.naver.com\\/bitsogum001\\/223283945351\",\n",
      "\t\t\t\"description\":\"요즘 제일 주목받는 코딩 언어는 <b>파이썬<\\/b>이에요. <b>파이썬<\\/b>은 활용도나 범용도가 좋아 개발자라면 보통 다룰 수 있어야 하는 분야로 볼 수 있어요. 저도 전공자는 아니지만 코딩에 흥미가 있었고, 또 이 분야로... \",\n",
      "\t\t\t\"bloggername\":\"계룡산 빛소금 체험관\",\n",
      "\t\t\t\"bloggerlink\":\"blog.naver.com\\/bitsogum001\",\n",
      "\t\t\t\"postdate\":\"20231205\"\n",
      "\t\t},\n",
      "\t\t{\n",
      "\t\t\t\"title\":\"실무위주의 교육과 취업연계 대전<b>파이썬<\\/b>학원\",\n",
      "\t\t\t\"link\":\"https:\\/\\/blog.naver.com\\/montag75\\/223199435463\",\n",
      "\t\t\t\"description\":\"그래서 이건 기회다 싶어 과감한 결정을 내릴 때라는 것을 깨닫고 저도 대전<b>파이썬<\\/b>학원 알아봤어요. #대전<b>파이썬<\\/b>학원 https:\\/\\/analytics.oasisbrand.co.kr\\/api\\/tracking\\/d1e60d7c-6733-463f-a5bb-84f9b2b21187 제가 선택한 곳은... \",\n",
      "\t\t\t\"bloggername\":\"CHIRO\",\n",
      "\t\t\t\"bloggerlink\":\"blog.naver.com\\/montag75\",\n",
      "\t\t\t\"postdate\":\"20230901\"\n",
      "\t\t},\n",
      "\t\t{\n",
      "\t\t\t\"title\":\"주니어 개발자가 본 [나의 첫 알고리즘+자료구조 with <b>파이썬<\\/b>]... \",\n",
      "\t\t\t\"link\":\"https:\\/\\/blog.naver.com\\/dorychuu\\/223270073036\",\n",
      "\t\t\t\"description\":\"with <b>파이썬<\\/b> 저자 코리 알트호프 출판 한빛미디어 발매 2023.11.01. 비전공자 독학 러인만큼 성장하려면 개인 공부가 필요하단걸 깨닫고 이번에 나의 첫 알고리즘+자료구조 with <b>파이썬<\\/b> 책을 읽어보게 되었습니다 1.... \",\n",
      "\t\t\t\"bloggername\":\"도리랑 스리랑 후추랑\",\n",
      "\t\t\t\"bloggerlink\":\"blog.naver.com\\/dorychuu\",\n",
      "\t\t\t\"postdate\":\"20231120\"\n",
      "\t\t},\n",
      "\t\t{\n",
      "\t\t\t\"title\":\"<b>파이썬<\\/b> 생활 프로젝트 코딩 - 서승희 \\/ <b>파이썬<\\/b> 기초 및 독학\",\n",
      "\t\t\t\"link\":\"https:\\/\\/blog.naver.com\\/tsslove\\/223203494688\",\n",
      "\t\t\t\"description\":\"<b>파이썬<\\/b> 기초 및 <b>파이썬<\\/b> 독학은 이 책으로! &lt;<b>파이썬<\\/b> 생활 프로젝트 코딩&gt;_서승희 학교 수업 때문에 <b>파이썬<\\/b>을 접하게 되면서, 신박하게 <b>파이썬<\\/b>을 사용해 보고 싶어졌다. 이제서야 겨우 간신히 <b>파이썬<\\/b> 기초를 다루고... \",\n",
      "\t\t\t\"bloggername\":\"창고같지만 금고\",\n",
      "\t\t\t\"bloggerlink\":\"blog.naver.com\\/tsslove\",\n",
      "\t\t\t\"postdate\":\"20230905\"\n",
      "\t\t},\n",
      "\t\t{\n",
      "\t\t\t\"title\":\"웹크롤링 <b>파이썬<\\/b> 몰라도 챗GPT 사용법만 알아도 된다.\",\n",
      "\t\t\t\"link\":\"https:\\/\\/blog.naver.com\\/ocmarketing\\/223040044418\",\n",
      "\t\t\t\"description\":\"대표적으로, <b>파이썬<\\/b>에 대한 이해가 있어야 하는데, 예전에 저도 몇번 배우다가 포기를 했습니다.... 일단 챗GPT를 활용해서 <b>파이썬<\\/b> 코그를 작성하고, 웹 크롤링을 하는 방법은 위의 영상을 통해서 깔끔하게... \",\n",
      "\t\t\t\"bloggername\":\"초튜터 X 오씨네학교\",\n",
      "\t\t\t\"bloggerlink\":\"blog.naver.com\\/ocmarketing\",\n",
      "\t\t\t\"postdate\":\"20230310\"\n",
      "\t\t}\n",
      "\t]\n",
      "}\n"
     ]
    }
   ],
   "source": [
    "# 네이버 검색 API 예제 - 블로그 검색\n",
    "import os\n",
    "import sys\n",
    "import urllib.request\n",
    "client_id = \"RPTEy__uwLe3Ht3MUnjy\"\n",
    "client_secret = \"8y6R1SDjnA\"\n",
    "encText = urllib.parse.quote(\"파이썬\")\n",
    "url = \"https://openapi.naver.com/v1/search/blog?query=\" + encText # JSON 결과\n",
    "# url = \"https://openapi.naver.com/v1/search/blog.xml?query=\" + encText # XML 결과\n",
    "request = urllib.request.Request(url)\n",
    "request.add_header(\"X-Naver-Client-Id\",client_id)\n",
    "request.add_header(\"X-Naver-Client-Secret\",client_secret)\n",
    "response = urllib.request.urlopen(request)\n",
    "rescode = response.getcode()\n",
    "if(rescode==200):\n",
    "    response_body = response.read()\n",
    "    print(response_body.decode('utf-8'))\n",
    "else:\n",
    "    print(\"Error Code:\" + rescode)"
   ]
  },
  {
   "cell_type": "code",
   "execution_count": 4,
   "id": "becf4386-185b-4894-a96e-281a1e7f6cb0",
   "metadata": {},
   "outputs": [
    {
     "data": {
      "text/plain": [
       "200"
      ]
     },
     "execution_count": 4,
     "metadata": {},
     "output_type": "execute_result"
    }
   ],
   "source": [
    "response.getcode()"
   ]
  },
  {
   "cell_type": "markdown",
   "id": "632990e9-8b60-4d98-899d-d5d1a7118ee2",
   "metadata": {},
   "source": [
    "### 예제 2 책 검색"
   ]
  },
  {
   "cell_type": "code",
   "execution_count": 5,
   "id": "7a5d5dcf-f597-4a64-be7c-22f0691e6150",
   "metadata": {},
   "outputs": [
    {
     "name": "stdout",
     "output_type": "stream",
     "text": [
      "{\n",
      "\t\"lastBuildDate\":\"Tue, 12 Dec 2023 10:55:59 +0900\",\n",
      "\t\"total\":955,\n",
      "\t\"start\":1,\n",
      "\t\"display\":10,\n",
      "\t\"items\":[\n",
      "\t\t{\n",
      "\t\t\t\"title\":\"Do it! 점프 투 파이썬 (중학생도 첫날부터 실습하는 초고속 입문서)\",\n",
      "\t\t\t\"link\":\"https:\\/\\/search.shopping.naver.com\\/book\\/catalog\\/40354085633\",\n",
      "\t\t\t\"image\":\"https:\\/\\/shopping-phinf.pstatic.net\\/main_4035408\\/40354085633.20230927071024.jpg\",\n",
      "\t\t\t\"author\":\"박응용\",\n",
      "\t\t\t\"discount\":\"19800\",\n",
      "\t\t\t\"publisher\":\"이지스퍼블리싱\",\n",
      "\t\t\t\"pubdate\":\"20230615\",\n",
      "\t\t\t\"isbn\":\"9791163034735\",\n",
      "\t\t\t\"description\":\"프로그래밍 분야 8년 연속 베스트셀러!\\n《Do it! 점프 투 파이썬》 전면 개정 2판 출시!\\n\\n중고등학생도, 비전공자도, 직장인도 프로그래밍에 눈뜨게 만든 바로 그 책이 전면 개정 2판으로 새롭게 태어났다! 챗GPT를 시작으로 펼쳐진 생성 AI 시대에 맞춰 설명과 예제를 다듬고, 최신 경향과 심화 내용을 보충했다. 또한 이번 개정 2판도 50만 코딩 유튜버인 조코딩과 협업을 통해 유튜브 동영상을 제공해 파이썬을 더 쉽게 공부할 수 있다.\\n\\n8년 연속 베스트셀러! 위키독스 누적 방문 300만! 독자의 입에서 입으로 전해진 추천과 수많은 대학 및 학원의 교재 채택을 통해 검증은 이미 끝났다. 코딩을 처음 배우는 중고등학생부터 코딩 소양을 기르려는 비전공자, 자기계발에 진심인 직장인까지! 이 책과 함께 파이썬 프로그래밍의 세계로 ‘점프’해 보자!\"\n",
      "\t\t},\n",
      "\t\t{\n",
      "\t\t\t\"title\":\"챗GPT로 만드는 주식 & 암호화폐 자동매매 시스템 (코딩은 몰라도 누구나 할 수 있는 파이썬 금융 프로그램)\",\n",
      "\t\t\t\"link\":\"https:\\/\\/search.shopping.naver.com\\/book\\/catalog\\/43757872621\",\n",
      "\t\t\t\"image\":\"https:\\/\\/shopping-phinf.pstatic.net\\/main_4375787\\/43757872621.20231102092116.jpg\",\n",
      "\t\t\t\"author\":\"설근민\",\n",
      "\t\t\t\"discount\":\"18000\",\n",
      "\t\t\t\"publisher\":\"제이펍\",\n",
      "\t\t\t\"pubdate\":\"20231117\",\n",
      "\t\t\t\"isbn\":\"9791192987033\",\n",
      "\t\t\t\"description\":\"코딩? 나는 몰라도 돼! 챗GPT가 알아서 척척 만드는 금융 프로그램\\n\\n코딩을 모르는 사람도 프로그램을 개발할 수 있는 길이 열렸다. 챗GPT에 질문하고, 챗GPT가 만든 코드를 복사해서 붙여넣기만 해도 프로그램이 뚝딱 만들어진다. 중요한 것은 프로그래밍 언어를 아는 것이 아니라, 문제 해결 방식을 떠올리는 것이다. 어떤 데이터를 어떻게 수집하고, 어떤 모듈로 예측 모델을 만들고, 어떤 조건으로 종목 추천을 받을지 생각했다면, 챗GPT를 이용해 자동매매 시스템으로 조합하는 것은 더 이상 어렵지 않다. 증권사 트레이더에게 챗GPT를 활용하는 방식을 배우고, 초보자도 이해하기 쉬운 파이썬으로 직접 프로그램을 만들면서 자연스럽게 코딩 지식과 금융 지식을 익혀보자.\"\n",
      "\t\t},\n",
      "\t\t{\n",
      "\t\t\t\"title\":\"자료구조와 알고리즘 with 파이썬 (수강생이 궁금해하고, 어려우하는 내용을 가장 쉽게 풀어낸 걸작)\",\n",
      "\t\t\t\"link\":\"https:\\/\\/search.shopping.naver.com\\/book\\/catalog\\/43946260621\",\n",
      "\t\t\t\"image\":\"https:\\/\\/shopping-phinf.pstatic.net\\/main_4394626\\/43946260621.20231118075354.jpg\",\n",
      "\t\t\t\"author\":\"최영규\",\n",
      "\t\t\t\"discount\":\"21600\",\n",
      "\t\t\t\"publisher\":\"생능북스\",\n",
      "\t\t\t\"pubdate\":\"20231120\",\n",
      "\t\t\t\"isbn\":\"9791192932330\",\n",
      "\t\t\t\"description\":\"파이썬으로 자료구조와 알고리즘을 한꺼번에 배운다!\\n\\n대부분 자료구조와 알고리즘을 다룬 책들은 전공자를 대상으로 집필되어 코딩을 배운지 얼마 안 되었거나 코딩 용어에 익숙하지 않다면 이해하기 어려울 수 있다. 이 책은 컴퓨터공학을 가르치는 저자가 오랜 교육경험을 통해 그림이나 쉬운 설명을 통해 비전공자를 포함하여 누구나 쉽게 이해할 수 있도록 집필하였다. 다양한 자료구조와 알고리즘을 익힐 수 있을 뿐 아니라 컴퓨팅 사고력, 즉 문제해결력과 논리적 사고력까지 기를 수 있다.\"\n",
      "\t\t},\n",
      "\t\t{\n",
      "\t\t\t\"title\":\"혼자 공부하는 파이썬 (1:1 과외하듯 배우는 프로그래밍 자습서)\",\n",
      "\t\t\t\"link\":\"https:\\/\\/search.shopping.naver.com\\/book\\/catalog\\/32507605957\",\n",
      "\t\t\t\"image\":\"https:\\/\\/shopping-phinf.pstatic.net\\/main_3250760\\/32507605957.20230509170119.jpg\",\n",
      "\t\t\t\"author\":\"윤인성\",\n",
      "\t\t\t\"discount\":\"19800\",\n",
      "\t\t\t\"publisher\":\"한빛미디어\",\n",
      "\t\t\t\"pubdate\":\"20220601\",\n",
      "\t\t\t\"isbn\":\"9791162245651\",\n",
      "\t\t\t\"description\":\"혼자 해도 충분하다! 1:1 과외하듯 배우는 파이썬 프로그래밍 자습서\\n\\n『혼자 공부하는 파이썬』이 더욱 흥미있고 알찬 내용으로 개정되었습니다. 프로그래밍이 정말 처음인 입문자도 따라갈 수 있는 친절한 설명과 단계별 학습은 그대로! 혼자 공부하더라도 체계적으로 계획을 세워 학습할 수 있도록 ‘혼공 계획표’를 새롭게 추가했습니다. 또한 입문자가 자주 물어보는 질문과 오류 해결 방법을 적재적소에 배치하여 예상치 못한 문제에 부딪혀도 좌절하지 않고 끝까지 완독할 수 있도록 도와줍니다. 단순한 문법 암기와 코딩 따라하기에 지쳤다면, 새로운 혼공파와 함께 ‘누적 예제’와 ‘도전 문제’로 프로그래밍의 신세계를 경험해 보세요! 배운 내용을 씹고 뜯고 맛보고 즐기다 보면 응용력은 물론 알고리즘 사고력까지 키워 코딩 실력이 쑥쑥 성장할 것입니다.\\n\\n이 책은 독학으로 파이썬을 배우는 입문자가 ‘꼭 필요한 내용을 제대로 학습’할 수 있도록 구성했습니다. 뭘 모르는지조차 모르는 입문자의 막연한 마음에 십분 공감하여 과외 선생님이 알려주듯 친절하게, 핵심적인 내용만 콕콕 집어줍니다. 책의 첫 페이지를 펼쳐서 마지막 페이지를 덮을 때까지, 혼자서도 충분히 파이썬을 배울 수 있다는 자신감과 확신이 계속될 것입니다!\\n\\n베타리더와 함께 입문자에게 맞는 난이도, 분량, 학습 요소 등을 적극 반영했습니다. 어려운 용어와 개념은 한 번 더 풀어쓰고, 복잡한 설명은 눈에 잘 들어오는 그림으로 풀어냈습니다. ‘혼자 공부해 본’ 여러 입문자의 초심과 눈높이가 책 곳곳에 반영된 것이 이 책의 가장 큰 장점입니다.\"\n",
      "\t\t},\n",
      "\t\t{\n",
      "\t\t\t\"title\":\"코딩 자율학습 나도코딩의 파이썬 입문 (초보자 눈높이에 맞춘 친절한 프로그래밍 자습서)\",\n",
      "\t\t\t\"link\":\"https:\\/\\/search.shopping.naver.com\\/book\\/catalog\\/37828235624\",\n",
      "\t\t\t\"image\":\"https:\\/\\/shopping-phinf.pstatic.net\\/main_3782823\\/37828235624.20230404163151.jpg\",\n",
      "\t\t\t\"author\":\"나도코딩\",\n",
      "\t\t\t\"discount\":\"21600\",\n",
      "\t\t\t\"publisher\":\"길벗\",\n",
      "\t\t\t\"pubdate\":\"20230220\",\n",
      "\t\t\t\"isbn\":\"9791140703302\",\n",
      "\t\t\t\"description\":\"30만 명의 구독자와 2만 6천 명의 수강생이 증명한 최고의 파이썬 강의\\n나도코딩의 프로그래밍 학습 노하우를 배우자!\\n\\n유튜브와 인프런 최고의 인기 강의를 한 권에 담았습니다. 일상 속 재미있는 예제로 파이썬 기본 개념을 배우고 1분 퀴즈, 실습 문제, 셀프체크로 이어지는 단계별 학습으로 파이썬을 완공할 수 있습니다. 이제 코딩은 선택이 아닌 필수! 코딩은 전공자만 배울 수 있다는 생각으로 지레 포기하지 마세요. 파이썬은 초보자가 가장 쉽게 배울 수 있는 프로그래밍 언어입니다. 관심만 있다면 누구나 코딩을 배울 수 있습니다. 나도코딩이 쉽고 재미있게 알려드립니다. 코딩을 처음 배우는 사람도 단계적 용어 설명과 친절한 지시선으로 막힘없이 따라 할 수 있습니다. 기본 설명 외에 팁, 노트 등을 적재적소에 배치해 혼자 공부할 때 생길 수 있는 의문점을 쉽게 해결할 수 있게 도와줍니다. 이제 〈코딩 자율학습 나도코딩의 파이썬 입문〉으로 완벽한 코딩 자율학습을 경험해 보세요.\"\n",
      "\t\t},\n",
      "\t\t{\n",
      "\t\t\t\"title\":\"챗GPT를 활용한 파이썬 프로그래밍 (파이썬과 챗GPT를 활용하고 싶은 분들을 위한 활용서)\",\n",
      "\t\t\t\"link\":\"https:\\/\\/search.shopping.naver.com\\/book\\/catalog\\/44083738623\",\n",
      "\t\t\t\"image\":\"https:\\/\\/shopping-phinf.pstatic.net\\/main_4408373\\/44083738623.20231121082104.jpg\",\n",
      "\t\t\t\"author\":\"김종덕\",\n",
      "\t\t\t\"discount\":\"24300\",\n",
      "\t\t\t\"publisher\":\"아이티포럼\",\n",
      "\t\t\t\"pubdate\":\"20231115\",\n",
      "\t\t\t\"isbn\":\"9788997945078\",\n",
      "\t\t\t\"description\":\"몇 년 동안 파이썬을 교육하면서 어떻게 하면 파이썬을 효과적으로 가르치고 전달할지를 고민한 적이 많았습니다. 주로 멀티캠퍼스에서 강의를 하고 있고, 비트캠프, 에티버스(구 영우글로벌)에서도 강의를 하고 있습니다. 기업체에 소속된 개발자분들과 엔지니어분들도 많이 만나고 있고, 미취업자 비전공자반의 강의를 해보기도 했습니다. 대부분 문법만 강의하면 재미가 없고... 문법의 기초 없이 라이브러리만 가르치는 것도 문제가 있고... 그래서 기존 개발자들과 처음 IT에 입문하는 분들이 좀 더 쉽게 적응하실 수 있도록 파이썬의 문법도 공부하고 라이브러리 활용도 같이 공부할 수 있도록 이 책의 내용들을 구성했습니다. 개발자와 엔지니어분들이 챗GPT도 적극 활용할 수 있도록 구성되어 있습니다. \\n\\n이 책의 목차는 제가 보통 기업체에서 오신 분들을 5일동안(1주 34시간) 가르치는 내용들과 거의 비슷하게 구성을 했습니다. 빠르게 독학을 한다면 2주정도 걸리는 시간이고 천천히 이 책을 보면서 따라한다면 4주정도면 충분히 볼 수 있는 분량입니다. \\n\\n이 책은 크게 2개의 파트로 구성되어 있습니다. 첫번째 파트는 파이썬의 문법과 ChatGPT의 기본적인 사용방법을 학습하는 1장에서 6장까지의 내용입니다. 아무래도 기초가 튼튼해야 더 많은 형태로 활용할 수 있습니다. 기존에 파이썬의 문법을 공부해 본 분들은 다시한번 정리할 수 있도록 내용을 구성했으며, 처음 개발을 하는 분들을 위해서도 변수와 함수를 학습하실 수 있도록 책의 내용을 구성했습니다. 그럼에도 처음 프로그래밍을 공부하는 분들에게는 좀 어려운 내용일 수 있습니다. 그러나 반복해서 보시면 내용을 이해하는데 도움이 될 것 같습니다. \\n\\n두번째 파트는 7장에서 11장까지의 파이썬 내부와 외부 라이브러리를 설치하고 활용하는 방법에 대한 내용입니다. 여기서는 좀 더 ChatGPT를 재미있게 활용하는 방법에 대해서 설명합니다. 파이썬에서 인기있는 주제인 웹크롤링에 대한 내용과 PyQt를 사용해서 GUI(Graphic User Interface)를 만들어서 실행파일로 배포하는 방법을 설명합니다. 요즘 인기 있는 데이터 분석과 시각화에 대한 내용들도 데이터베이스에서 시작해서 Pandas, matplotlib을 사용하도록 내용을 구성했으며, ChatGPT와 연계해서 사용할 수 있는 PandasAI라이브러리와 간단하게 웹페이지 기반의 대시보드를 만들 수 있는 Streamlit라이브러리 그리고 ChatGPT에 추가된 코드 인터프리터에 대한 내용도 추가 했습니다.\"\n",
      "\t\t},\n",
      "\t\t{\n",
      "\t\t\t\"title\":\"CODING BASICS PYTHON (파이썬)\",\n",
      "\t\t\t\"link\":\"https:\\/\\/search.shopping.naver.com\\/book\\/catalog\\/32440944646\",\n",
      "\t\t\t\"image\":\"https:\\/\\/shopping-phinf.pstatic.net\\/main_3244094\\/32440944646.20230509164030.jpg\",\n",
      "\t\t\t\"author\":\"김상민^장성식^김일태\",\n",
      "\t\t\t\"discount\":\"18000\",\n",
      "\t\t\t\"publisher\":\"렉스미디어닷넷\",\n",
      "\t\t\t\"pubdate\":\"20220210\",\n",
      "\t\t\t\"isbn\":\"9788959604210\",\n",
      "\t\t\t\"description\":\"파이썬으로 다지는 프로그래밍의 기초\\n\\nㆍ 다양한 예제를 활용하여 초보자도 쉽게 프로그래밍의 기본을 익힐 수 있는 파이썬 입문서입니다.\\nㆍ 문법을 사전식으로 나열하지 않고 기능적인 프로그램을 하나씩 완성하면서 익힐 수 있게 구성했습니다.\\nㆍ 단계별로 완성하는 장별 예제 및 연습문제를 바탕으로 자신만의 프로그램을 완성할 수 있습니다.\"\n",
      "\t\t},\n",
      "\t\t{\n",
      "\t\t\t\"title\":\"파이썬\",\n",
      "\t\t\t\"link\":\"https:\\/\\/search.shopping.naver.com\\/book\\/catalog\\/32438172833\",\n",
      "\t\t\t\"image\":\"https:\\/\\/shopping-phinf.pstatic.net\\/main_3243817\\/32438172833.20230920072917.jpg\",\n",
      "\t\t\t\"author\":\"김영천\",\n",
      "\t\t\t\"discount\":\"22500\",\n",
      "\t\t\t\"publisher\":\"기한재\",\n",
      "\t\t\t\"pubdate\":\"20200225\",\n",
      "\t\t\t\"isbn\":\"9788970187990\",\n",
      "\t\t\t\"description\":\"▶ 이 책은 Python(파이썬)을 다룬 이론서입니다. Python(파이썬)의 기초적이고 전반적인 내용을 학습할 수 있습니다.\"\n",
      "\t\t},\n",
      "\t\t{\n",
      "\t\t\t\"title\":\"Do it! 챗GPT&파이썬으로 AI 직원 만들기 (기획 자료준비 디자인 영상편집까지 혼자 다 하는 유튜브 PD 앱 만들기)\",\n",
      "\t\t\t\"link\":\"https:\\/\\/search.shopping.naver.com\\/book\\/catalog\\/43757879621\",\n",
      "\t\t\t\"image\":\"https:\\/\\/shopping-phinf.pstatic.net\\/main_4375787\\/43757879621.20231102092120.jpg\",\n",
      "\t\t\t\"author\":\"이성용\",\n",
      "\t\t\t\"discount\":\"22500\",\n",
      "\t\t\t\"publisher\":\"이지스퍼블리싱\",\n",
      "\t\t\t\"pubdate\":\"20231110\",\n",
      "\t\t\t\"isbn\":\"9791163035237\",\n",
      "\t\t\t\"description\":\"멘토이자 동료, 일꾼이 되어 줄 AI 앱을\\n챗GPT와 파이썬으로 만들어 보자!\\n“AI가 내 일을 대신해 준다면 얼마나 좋을까?” 이 질문을 해결해 줄 수 있는 책이 출간됐다. 이 책에서는 챗GPT와 파이썬을 활용해 기획부터 자료 준비, 이미지 생성, 영상 편집까지 할 줄 아는 ‘만능 유튜브 PD’ AI 앱을 만들어 본다. 프로젝트의 처음부터 끝까지 챗GPT와 함께하기에 파이썬 기초 문법만 알면 누구나 책의 실습을 끝까지 따라 해 앱을 만들 수 있다. GPT API 활용법, 프롬프트 엔지니어링 팁, 하이퍼파라미터 조절법까지 생성형 AI를 자유자재로 쓸 수 있는 저자만의 실전 노하우도 가득 담겨 있다.\"\n",
      "\t\t},\n",
      "\t\t{\n",
      "\t\t\t\"title\":\"파이썬\",\n",
      "\t\t\t\"link\":\"https:\\/\\/search.shopping.naver.com\\/book\\/catalog\\/32460987987\",\n",
      "\t\t\t\"image\":\"https:\\/\\/shopping-phinf.pstatic.net\\/main_3246098\\/32460987987.20230207163755.jpg\",\n",
      "\t\t\t\"author\":\"홍의경\",\n",
      "\t\t\t\"discount\":\"17000\",\n",
      "\t\t\t\"publisher\":\"생능출판\",\n",
      "\t\t\t\"pubdate\":\"20220309\",\n",
      "\t\t\t\"isbn\":\"9788970506784\",\n",
      "\t\t\t\"description\":\"코딩 실력을 키우는 지름길은 실습이다.\\n\\n2008년 즈음에 검인정 중학교 교과서 정보1, 정보2, 정보3을 공저로 저술하였습니다. 그 당시에 8종류의 교과서가 검인정에 합격하였는데, 파이썬을 기반으로 하는 교과서가 2종류, C언어를 기반으로 하는 교과서가 2종류, 베이직을 기반으로 하는 교과서가 2종류, 스크래치를 기반으로 하는 교과서가 2종류였습니다.\\n\\n교육용 언어로 시작한 파이썬이 중학교 학생들이 비교적 쉽게 학습할 수 있는 프로그래밍 언어라고 생각했는데 10여년의 세월이 흐른 지금 파이썬이 활용되는 분야가 가히 폭발적으로 증가하였습니다. \\n\\n파이썬에 관한 쉽고 좋은 교재를 저술하기 위해서 인터넷에서 30,000페이지 이상의 자료를 찾아서 검토하였습니다. 어쩌면 파이썬이 첫 프로그래밍 언어일 본 교재의 독자들이 두려움 없이 파이썬을 기초부터 쉽게 공부하다가, 교재를 다 읽고 나면 “어느새 중급 수준에 도달했구나”라는 생각이 들도록  완성도 높은 교재를 목표로 하였습니다. \\n\\n입문자를 대상으로 하는 교재일수록 집필하는데 훨씬 더 많은 정성과 노력이 필요하다는 것을 잘 알고 있습니다. 개인적으로는 데이터베이스 전공교재를 저술할 때보다 몇 배 더 힘들었고, 공을 많이 들였습니다. \\n\\n원고를 버전 9까지 작성하는 동안 셀 수 없이 원고를 읽어보면서 꼭 필요하지 않은 문장은 삭제하고, 필요한 문장은 반드시 넣었습니다. 고등학교 검인정 교과서 1권, 중학교 검인정 교과서 3권, 데이터베이스 전공 교재 2권, 엑셀 교재 1권, 번역서 2권을 집필하면서 나름대로 한글을 정확하고 간결하게 표현하는데 자신이 있습니다.\"\n",
      "\t\t}\n",
      "\t]\n",
      "}\n"
     ]
    }
   ],
   "source": [
    "# 네이버 검색 API 예제 - 블로그 검색\n",
    "import os\n",
    "import sys\n",
    "import urllib.request\n",
    "client_id = \"RPTEy__uwLe3Ht3MUnjy\"\n",
    "client_secret = \"8y6R1SDjnA\"\n",
    "encText = urllib.parse.quote(\"파이썬\")\n",
    "url = \"https://openapi.naver.com/v1/search/book?query=\" + encText # JSON 결과\n",
    "# url = \"https://openapi.naver.com/v1/search/blog.xml?query=\" + encText # XML 결과\n",
    "request = urllib.request.Request(url)\n",
    "request.add_header(\"X-Naver-Client-Id\",client_id)\n",
    "request.add_header(\"X-Naver-Client-Secret\",client_secret)\n",
    "response = urllib.request.urlopen(request)\n",
    "rescode = response.getcode()\n",
    "if(rescode==200):\n",
    "    response_body = response.read()\n",
    "    print(response_body.decode('utf-8'))\n",
    "else:\n",
    "    print(\"Error Code:\" + rescode)"
   ]
  },
  {
   "cell_type": "markdown",
   "id": "58d2b2e2-6e91-45fa-9859-3658555ee757",
   "metadata": {},
   "source": [
    "### 예제 3 영화 검색"
   ]
  },
  {
   "cell_type": "code",
   "execution_count": 21,
   "id": "22252b2a-dd6e-46b5-8209-4f11c1392b24",
   "metadata": {},
   "outputs": [
    {
     "ename": "HTTPError",
     "evalue": "HTTP Error 404: Not Found",
     "output_type": "error",
     "traceback": [
      "\u001b[1;31m---------------------------------------------------------------------------\u001b[0m",
      "\u001b[1;31mHTTPError\u001b[0m                                 Traceback (most recent call last)",
      "Cell \u001b[1;32mIn[21], line 13\u001b[0m\n\u001b[0;32m     11\u001b[0m request\u001b[38;5;241m.\u001b[39madd_header(\u001b[38;5;124m\"\u001b[39m\u001b[38;5;124mX-Naver-Client-Id\u001b[39m\u001b[38;5;124m\"\u001b[39m,client_id)\n\u001b[0;32m     12\u001b[0m request\u001b[38;5;241m.\u001b[39madd_header(\u001b[38;5;124m\"\u001b[39m\u001b[38;5;124mX-Naver-Client-Secret\u001b[39m\u001b[38;5;124m\"\u001b[39m,client_secret)\n\u001b[1;32m---> 13\u001b[0m response \u001b[38;5;241m=\u001b[39m \u001b[43murllib\u001b[49m\u001b[38;5;241;43m.\u001b[39;49m\u001b[43mrequest\u001b[49m\u001b[38;5;241;43m.\u001b[39;49m\u001b[43murlopen\u001b[49m\u001b[43m(\u001b[49m\u001b[43mrequest\u001b[49m\u001b[43m)\u001b[49m\n\u001b[0;32m     14\u001b[0m rescode \u001b[38;5;241m=\u001b[39m response\u001b[38;5;241m.\u001b[39mgetcode()\n\u001b[0;32m     15\u001b[0m \u001b[38;5;28;01mif\u001b[39;00m(rescode\u001b[38;5;241m==\u001b[39m\u001b[38;5;241m200\u001b[39m):\n",
      "File \u001b[1;32m~\\anaconda3\\envs\\ds_study\\lib\\urllib\\request.py:222\u001b[0m, in \u001b[0;36murlopen\u001b[1;34m(url, data, timeout, cafile, capath, cadefault, context)\u001b[0m\n\u001b[0;32m    220\u001b[0m \u001b[38;5;28;01melse\u001b[39;00m:\n\u001b[0;32m    221\u001b[0m     opener \u001b[38;5;241m=\u001b[39m _opener\n\u001b[1;32m--> 222\u001b[0m \u001b[38;5;28;01mreturn\u001b[39;00m \u001b[43mopener\u001b[49m\u001b[38;5;241;43m.\u001b[39;49m\u001b[43mopen\u001b[49m\u001b[43m(\u001b[49m\u001b[43murl\u001b[49m\u001b[43m,\u001b[49m\u001b[43m \u001b[49m\u001b[43mdata\u001b[49m\u001b[43m,\u001b[49m\u001b[43m \u001b[49m\u001b[43mtimeout\u001b[49m\u001b[43m)\u001b[49m\n",
      "File \u001b[1;32m~\\anaconda3\\envs\\ds_study\\lib\\urllib\\request.py:531\u001b[0m, in \u001b[0;36mOpenerDirector.open\u001b[1;34m(self, fullurl, data, timeout)\u001b[0m\n\u001b[0;32m    529\u001b[0m \u001b[38;5;28;01mfor\u001b[39;00m processor \u001b[38;5;129;01min\u001b[39;00m \u001b[38;5;28mself\u001b[39m\u001b[38;5;241m.\u001b[39mprocess_response\u001b[38;5;241m.\u001b[39mget(protocol, []):\n\u001b[0;32m    530\u001b[0m     meth \u001b[38;5;241m=\u001b[39m \u001b[38;5;28mgetattr\u001b[39m(processor, meth_name)\n\u001b[1;32m--> 531\u001b[0m     response \u001b[38;5;241m=\u001b[39m \u001b[43mmeth\u001b[49m\u001b[43m(\u001b[49m\u001b[43mreq\u001b[49m\u001b[43m,\u001b[49m\u001b[43m \u001b[49m\u001b[43mresponse\u001b[49m\u001b[43m)\u001b[49m\n\u001b[0;32m    533\u001b[0m \u001b[38;5;28;01mreturn\u001b[39;00m response\n",
      "File \u001b[1;32m~\\anaconda3\\envs\\ds_study\\lib\\urllib\\request.py:640\u001b[0m, in \u001b[0;36mHTTPErrorProcessor.http_response\u001b[1;34m(self, request, response)\u001b[0m\n\u001b[0;32m    637\u001b[0m \u001b[38;5;66;03m# According to RFC 2616, \"2xx\" code indicates that the client's\u001b[39;00m\n\u001b[0;32m    638\u001b[0m \u001b[38;5;66;03m# request was successfully received, understood, and accepted.\u001b[39;00m\n\u001b[0;32m    639\u001b[0m \u001b[38;5;28;01mif\u001b[39;00m \u001b[38;5;129;01mnot\u001b[39;00m (\u001b[38;5;241m200\u001b[39m \u001b[38;5;241m<\u001b[39m\u001b[38;5;241m=\u001b[39m code \u001b[38;5;241m<\u001b[39m \u001b[38;5;241m300\u001b[39m):\n\u001b[1;32m--> 640\u001b[0m     response \u001b[38;5;241m=\u001b[39m \u001b[38;5;28;43mself\u001b[39;49m\u001b[38;5;241;43m.\u001b[39;49m\u001b[43mparent\u001b[49m\u001b[38;5;241;43m.\u001b[39;49m\u001b[43merror\u001b[49m\u001b[43m(\u001b[49m\n\u001b[0;32m    641\u001b[0m \u001b[43m        \u001b[49m\u001b[38;5;124;43m'\u001b[39;49m\u001b[38;5;124;43mhttp\u001b[39;49m\u001b[38;5;124;43m'\u001b[39;49m\u001b[43m,\u001b[49m\u001b[43m \u001b[49m\u001b[43mrequest\u001b[49m\u001b[43m,\u001b[49m\u001b[43m \u001b[49m\u001b[43mresponse\u001b[49m\u001b[43m,\u001b[49m\u001b[43m \u001b[49m\u001b[43mcode\u001b[49m\u001b[43m,\u001b[49m\u001b[43m \u001b[49m\u001b[43mmsg\u001b[49m\u001b[43m,\u001b[49m\u001b[43m \u001b[49m\u001b[43mhdrs\u001b[49m\u001b[43m)\u001b[49m\n\u001b[0;32m    643\u001b[0m \u001b[38;5;28;01mreturn\u001b[39;00m response\n",
      "File \u001b[1;32m~\\anaconda3\\envs\\ds_study\\lib\\urllib\\request.py:569\u001b[0m, in \u001b[0;36mOpenerDirector.error\u001b[1;34m(self, proto, *args)\u001b[0m\n\u001b[0;32m    567\u001b[0m \u001b[38;5;28;01mif\u001b[39;00m http_err:\n\u001b[0;32m    568\u001b[0m     args \u001b[38;5;241m=\u001b[39m (\u001b[38;5;28mdict\u001b[39m, \u001b[38;5;124m'\u001b[39m\u001b[38;5;124mdefault\u001b[39m\u001b[38;5;124m'\u001b[39m, \u001b[38;5;124m'\u001b[39m\u001b[38;5;124mhttp_error_default\u001b[39m\u001b[38;5;124m'\u001b[39m) \u001b[38;5;241m+\u001b[39m orig_args\n\u001b[1;32m--> 569\u001b[0m     \u001b[38;5;28;01mreturn\u001b[39;00m \u001b[38;5;28;43mself\u001b[39;49m\u001b[38;5;241;43m.\u001b[39;49m\u001b[43m_call_chain\u001b[49m\u001b[43m(\u001b[49m\u001b[38;5;241;43m*\u001b[39;49m\u001b[43margs\u001b[49m\u001b[43m)\u001b[49m\n",
      "File \u001b[1;32m~\\anaconda3\\envs\\ds_study\\lib\\urllib\\request.py:502\u001b[0m, in \u001b[0;36mOpenerDirector._call_chain\u001b[1;34m(self, chain, kind, meth_name, *args)\u001b[0m\n\u001b[0;32m    500\u001b[0m \u001b[38;5;28;01mfor\u001b[39;00m handler \u001b[38;5;129;01min\u001b[39;00m handlers:\n\u001b[0;32m    501\u001b[0m     func \u001b[38;5;241m=\u001b[39m \u001b[38;5;28mgetattr\u001b[39m(handler, meth_name)\n\u001b[1;32m--> 502\u001b[0m     result \u001b[38;5;241m=\u001b[39m \u001b[43mfunc\u001b[49m\u001b[43m(\u001b[49m\u001b[38;5;241;43m*\u001b[39;49m\u001b[43margs\u001b[49m\u001b[43m)\u001b[49m\n\u001b[0;32m    503\u001b[0m     \u001b[38;5;28;01mif\u001b[39;00m result \u001b[38;5;129;01mis\u001b[39;00m \u001b[38;5;129;01mnot\u001b[39;00m \u001b[38;5;28;01mNone\u001b[39;00m:\n\u001b[0;32m    504\u001b[0m         \u001b[38;5;28;01mreturn\u001b[39;00m result\n",
      "File \u001b[1;32m~\\anaconda3\\envs\\ds_study\\lib\\urllib\\request.py:649\u001b[0m, in \u001b[0;36mHTTPDefaultErrorHandler.http_error_default\u001b[1;34m(self, req, fp, code, msg, hdrs)\u001b[0m\n\u001b[0;32m    648\u001b[0m \u001b[38;5;28;01mdef\u001b[39;00m \u001b[38;5;21mhttp_error_default\u001b[39m(\u001b[38;5;28mself\u001b[39m, req, fp, code, msg, hdrs):\n\u001b[1;32m--> 649\u001b[0m     \u001b[38;5;28;01mraise\u001b[39;00m HTTPError(req\u001b[38;5;241m.\u001b[39mfull_url, code, msg, hdrs, fp)\n",
      "\u001b[1;31mHTTPError\u001b[0m: HTTP Error 404: Not Found"
     ]
    }
   ],
   "source": [
    "# 네이버 검색 API 예제 - 블로그 검색\n",
    "import os\n",
    "import sys\n",
    "import urllib.request\n",
    "client_id = \"RPTEy__uwLe3Ht3MUnjy\"\n",
    "client_secret = \"8y6R1SDjnA\"\n",
    "encText = urllib.parse.quote(\"아바타\")\n",
    "url = \"https://openapi.naver.com/v1/search/movie?query=\" + encText # JSON 결과\n",
    "# url = \"https://openapi.naver.com/v1/search/movie.xml?query=\" + encText # XML 결과\n",
    "request = urllib.request.Request(url)\n",
    "request.add_header(\"X-Naver-Client-Id\",client_id)\n",
    "request.add_header(\"X-Naver-Client-Secret\",client_secret)\n",
    "response = urllib.request.urlopen(request)\n",
    "rescode = response.getcode()\n",
    "if(rescode==200):\n",
    "    response_body = response.read()\n",
    "    print(response_body.decode('utf-8'))\n",
    "else:\n",
    "    print(\"Error Code:\" + rescode)"
   ]
  },
  {
   "cell_type": "markdown",
   "id": "6931b7e1-6bf4-402a-9954-da190512e8ce",
   "metadata": {},
   "source": [
    "### 예제 4 카페 검색"
   ]
  },
  {
   "cell_type": "code",
   "execution_count": 9,
   "id": "7e551df2-364b-4cce-a2e1-302dae331fca",
   "metadata": {},
   "outputs": [
    {
     "name": "stdout",
     "output_type": "stream",
     "text": [
      "{\n",
      "\t\"lastBuildDate\":\"Tue, 12 Dec 2023 10:58:09 +0900\",\n",
      "\t\"total\":171754,\n",
      "\t\"start\":1,\n",
      "\t\"display\":10,\n",
      "\t\"items\":[\n",
      "\t\t{\n",
      "\t\t\t\"title\":\"<b>파이썬<\\/b>은 배워두면 좋을까요?(자사고 희망)\",\n",
      "\t\t\t\"link\":\"http:\\/\\/cafe.naver.com\\/goldschools\\/800365\",\n",
      "\t\t\t\"description\":\"그런데 아이가 <b>파이썬<\\/b>을 이번 겨울 방학을 이용해서 배워두고 싶다는데 상급학교 진학시 <b>파이썬<\\/b>과 같은 걸 배워두면 어디에 활용할 수 있나요? 과제할때? 저는 전혀 감이 잡히지 않네요 아이는 배우고 싶다해서 학원... \",\n",
      "\t\t\t\"cafename\":\"특목고갈사람모여라(외고과학고영재고...\",\n",
      "\t\t\t\"cafeurl\":\"https:\\/\\/cafe.naver.com\\/goldschools\"\n",
      "\t\t},\n",
      "\t\t{\n",
      "\t\t\t\"title\":\"취미로 코딩 공부 해보려는데 <b>파이썬<\\/b> 질문입니다.\",\n",
      "\t\t\t\"link\":\"http:\\/\\/cafe.naver.com\\/inmacbook\\/2677778\",\n",
      "\t\t\t\"description\":\"<b>파이썬<\\/b> 인스톨 했는데 여기에 아나콘다 다시 깔아도 되나요? 광고기획 일 하는 아재입니다 ^^;; 제가 다니던 모기업 인하우스 에이전시 후배가 <b>파이썬<\\/b> 추천해줘서 무작정 유튜브랑 추천받은 책으로 시작을 하려고 합니다.\",\n",
      "\t\t\t\"cafename\":\"맥 쓰는 사람들 [맥북, 아이맥, 맥 스...\",\n",
      "\t\t\t\"cafeurl\":\"https:\\/\\/cafe.naver.com\\/inmacbook\"\n",
      "\t\t},\n",
      "\t\t{\n",
      "\t\t\t\"title\":\"맥북 <b>파이썬<\\/b> 딥러닝 질문\",\n",
      "\t\t\t\"link\":\"http:\\/\\/cafe.naver.com\\/appleiphone\\/8245340\",\n",
      "\t\t\t\"description\":\"맥북 m1 이상에서 <b>파이썬<\\/b> 딥러닝 돌리는게 굉장히 효율적이고 빠르다는데 윈도우 노트북 3070 정도 gpu와 차이가 많이 날까요? 맥북에서 딥러닝 돌리시는 회원님들 고견부탁드립니다.\",\n",
      "\t\t\t\"cafename\":\"아사모 -[아이폰15 \\/ Plus \\/ Pro \\/ Ma...\",\n",
      "\t\t\t\"cafeurl\":\"https:\\/\\/cafe.naver.com\\/appleiphone\"\n",
      "\t\t},\n",
      "\t\t{\n",
      "\t\t\t\"title\":\"학점은행제 컴퓨터공학 + 코딩 <b>파이썬<\\/b>! 기초 공부 인강으로 독학\",\n",
      "\t\t\t\"link\":\"http:\\/\\/cafe.naver.com\\/outcampus\\/742460\",\n",
      "\t\t\t\"description\":\"학점은행제 컴퓨터공학 + 코딩 <b>파이썬<\\/b>! 기초 공부 인강으로 독학 온라인 컴퓨터공학 과정 수강료 최저가... 학점은행제 컴퓨터공학이라는 온라인 학위를 통해 학위를 만들 수도 있고, 추가적으로 코딩 기초 및 <b>파이썬<\\/b>... \",\n",
      "\t\t\t\"cafename\":\"[아웃캠퍼스] 대학생 공모전 대외활동...\",\n",
      "\t\t\t\"cafeurl\":\"https:\\/\\/cafe.naver.com\\/outcampus\"\n",
      "\t\t},\n",
      "\t\t{\n",
      "\t\t\t\"title\":\"<b>파이썬<\\/b> 초보가 파일쓰기 질문드립니다.\",\n",
      "\t\t\t\"link\":\"http:\\/\\/cafe.naver.com\\/hansicgu\\/30259\",\n",
      "\t\t\t\"description\":\"게임 한글화를 위해 <b>파이썬<\\/b>으로 HEX 값 수정을 연습하는 초보입니다. 여기 올라오는... 해보려는 것은 <b>파이썬<\\/b>으로 파일을 읽어들이고, 읽어들인 HEX 값 기준으로 +1을 더한후 다시... \",\n",
      "\t\t\t\"cafename\":\"한글화하는 사람들 모임\",\n",
      "\t\t\t\"cafeurl\":\"https:\\/\\/cafe.naver.com\\/hansicgu\"\n",
      "\t\t},\n",
      "\t\t{\n",
      "\t\t\t\"title\":\"[마감] [서평 이벤트 및 저자와의 Q&amp;A] 핵심만 요약한 통계와 머신러닝 <b>파이썬<\\/b> 코드북 개정1판\",\n",
      "\t\t\t\"link\":\"http:\\/\\/cafe.naver.com\\/sqlpd\\/63592\",\n",
      "\t\t\t\"description\":\"통계와 머신러닝을 아우르는 다양한 <b>파이썬<\\/b> 예제 코드들과 ADP 실기 시험을 대비한 연습문제 및 풀이코드를 제공하는 핵심만 요약한 통계와 머신러닝 <b>파이썬<\\/b> 코드북으로 학습을 원하시는 여러분들의 참여를... \",\n",
      "\t\t\t\"cafename\":\"데이터 전문가 포럼 (빅데이터분석기사...\",\n",
      "\t\t\t\"cafeurl\":\"https:\\/\\/cafe.naver.com\\/sqlpd\"\n",
      "\t\t},\n",
      "\t\t{\n",
      "\t\t\t\"title\":\"성공하는 CEO의 시스템 분석 툴_데이터 경영을 위한 <b>파이썬<\\/b>\",\n",
      "\t\t\t\"link\":\"http:\\/\\/cafe.naver.com\\/culturebloom\\/2087029\",\n",
      "\t\t\t\"description\":\"성공하는 CEO의 시스템 분석 툴 데이터 경영을 위한 <b>파이썬<\\/b> 인터넷이 발달되면서 기업마다 데이터의 중요성이... 1부에서는 <b>파이썬<\\/b>을 다를 수 있도록 개발환경과 기본적인 명령어 등을 다뤄 <b>파이썬<\\/b>과 친해지는 단계이며... \",\n",
      "\t\t\t\"cafename\":\"컬처블룸★체험,리뷰,라이프,건강,맛집...\",\n",
      "\t\t\t\"cafeurl\":\"https:\\/\\/cafe.naver.com\\/culturebloom\"\n",
      "\t\t},\n",
      "\t\t{\n",
      "\t\t\t\"title\":\"<b>파이썬<\\/b>\",\n",
      "\t\t\t\"link\":\"http:\\/\\/cafe.naver.com\\/mathall\\/2694281\",\n",
      "\t\t\t\"description\":\"8학년입니다. 컴싸에 관심이많은데 <b>파이썬<\\/b>이나 c언어같은거에 자격증같은거 취득할수있나요, 지금 미국에있습니다 온라인같은걸루 할수있는지요?\",\n",
      "\t\t\t\"cafename\":\"[상위1%카페] 대한민국 상위1% 교육정...\",\n",
      "\t\t\t\"cafeurl\":\"https:\\/\\/cafe.naver.com\\/mathall\"\n",
      "\t\t},\n",
      "\t\t{\n",
      "\t\t\t\"title\":\"한솔동주볌으로 코딩.<b>파이썬<\\/b> 학원 있을까요? 중3이에요))\",\n",
      "\t\t\t\"link\":\"http:\\/\\/cafe.naver.com\\/no1sejong\\/3759475\",\n",
      "\t\t\t\"description\":\"소프트마이스터고 타지역으로 합격햇는데 가기전에 좀더 심화로 배우고싶다해서요. 학교에서 방과후로 <b>파이썬<\\/b>은 햇는데 모자란거같아요. 버스타고다닐수잇는거리라면 전부 가능해요\\/\\/\",\n",
      "\t\t\t\"cafename\":\"세종맘카페 세종맘들의 행복한 이야기...\",\n",
      "\t\t\t\"cafeurl\":\"https:\\/\\/cafe.naver.com\\/no1sejong\"\n",
      "\t\t},\n",
      "\t\t{\n",
      "\t\t\t\"title\":\"ADP 실기준비 교재들 판매합니다 (<b>파이썬<\\/b>)\",\n",
      "\t\t\t\"link\":\"http:\\/\\/cafe.naver.com\\/sqlpd\\/65945\",\n",
      "\t\t\t\"description\":\"통계와 머신러닝 <b>파이썬<\\/b> 코드북 (개정1판): 2만원 (완료) 2. <b>파이썬<\\/b> 한권으로 끝내기 : 1만 5천원 (완료) &lt;머신러닝&gt; 1. <b>파이썬<\\/b> 라이브러리를 활용한 머신러닝: 1만 5천원 2. <b>파이썬<\\/b> 머신러닝 완벽 가이드: 2만원 &lt;통계&gt; 1.... \",\n",
      "\t\t\t\"cafename\":\"데이터 전문가 포럼 (빅데이터분석기사...\",\n",
      "\t\t\t\"cafeurl\":\"https:\\/\\/cafe.naver.com\\/sqlpd\"\n",
      "\t\t}\n",
      "\t]\n",
      "}\n"
     ]
    }
   ],
   "source": [
    "# 네이버 검색 API 예제 - 블로그 검색\n",
    "import os\n",
    "import sys\n",
    "import urllib.request\n",
    "client_id = \"RPTEy__uwLe3Ht3MUnjy\"\n",
    "client_secret = \"8y6R1SDjnA\"\n",
    "encText = urllib.parse.quote(\"파이썬\")\n",
    "url = \"https://openapi.naver.com/v1/search/cafearticle?query=\" + encText # JSON 결과\n",
    "# url = \"https://openapi.naver.com/v1/search/blog.xml?query=\" + encText # XML 결과\n",
    "request = urllib.request.Request(url)\n",
    "request.add_header(\"X-Naver-Client-Id\",client_id)\n",
    "request.add_header(\"X-Naver-Client-Secret\",client_secret)\n",
    "response = urllib.request.urlopen(request)\n",
    "rescode = response.getcode()\n",
    "if(rescode==200):\n",
    "    response_body = response.read()\n",
    "    print(response_body.decode('utf-8'))\n",
    "else:\n",
    "    print(\"Error Code:\" + rescode)"
   ]
  },
  {
   "cell_type": "markdown",
   "id": "debea5c3-95e5-40f1-bdb5-8f062a682105",
   "metadata": {},
   "source": [
    "### 예제 5 쇼핑 검색"
   ]
  },
  {
   "cell_type": "code",
   "execution_count": 10,
   "id": "400a0c0a-23ba-41ca-9e9a-e3f076814940",
   "metadata": {},
   "outputs": [
    {
     "name": "stdout",
     "output_type": "stream",
     "text": [
      "{\n",
      "\t\"lastBuildDate\":\"Tue, 12 Dec 2023 10:58:30 +0900\",\n",
      "\t\"total\":138469,\n",
      "\t\"start\":1,\n",
      "\t\"display\":10,\n",
      "\t\"items\":[\n",
      "\t\t{\n",
      "\t\t\t\"title\":\"혼자 공부하는 <b>파이썬<\\/b>  1:1 과외 배우는 프로그래밍 자습서 (개정판)\",\n",
      "\t\t\t\"link\":\"https:\\/\\/search.shopping.naver.com\\/gate.nhn?id=40501298189\",\n",
      "\t\t\t\"image\":\"https:\\/\\/shopping-phinf.pstatic.net\\/main_4050129\\/40501298189.1.jpg\",\n",
      "\t\t\t\"lprice\":\"24660\",\n",
      "\t\t\t\"hprice\":\"\",\n",
      "\t\t\t\"mallName\":\"인터파크쇼핑\",\n",
      "\t\t\t\"productId\":\"40501298189\",\n",
      "\t\t\t\"productType\":\"2\",\n",
      "\t\t\t\"brand\":\"\",\n",
      "\t\t\t\"maker\":\"\",\n",
      "\t\t\t\"category1\":\"출산\\/육아\",\n",
      "\t\t\t\"category2\":\"교구\",\n",
      "\t\t\t\"category3\":\"학습교구\",\n",
      "\t\t\t\"category4\":\"기타교구\"\n",
      "\t\t},\n",
      "\t\t{\n",
      "\t\t\t\"title\":\"점프 투 <b>파이썬<\\/b> (전면 개정판) 책\",\n",
      "\t\t\t\"link\":\"https:\\/\\/search.shopping.naver.com\\/gate.nhn?id=40230844404\",\n",
      "\t\t\t\"image\":\"https:\\/\\/shopping-phinf.pstatic.net\\/main_4023084\\/40230844404.1.jpg\",\n",
      "\t\t\t\"lprice\":\"24800\",\n",
      "\t\t\t\"hprice\":\"\",\n",
      "\t\t\t\"mallName\":\"인터파크쇼핑\",\n",
      "\t\t\t\"productId\":\"40230844404\",\n",
      "\t\t\t\"productType\":\"2\",\n",
      "\t\t\t\"brand\":\"\",\n",
      "\t\t\t\"maker\":\"\",\n",
      "\t\t\t\"category1\":\"출산\\/육아\",\n",
      "\t\t\t\"category2\":\"교구\",\n",
      "\t\t\t\"category3\":\"학습교구\",\n",
      "\t\t\t\"category4\":\"기타교구\"\n",
      "\t\t},\n",
      "\t\t{\n",
      "\t\t\t\"title\":\"[봄봄북스] Do it 쉽게 배우는 <b>파이썬<\\/b> 데이터 분석\",\n",
      "\t\t\t\"link\":\"https:\\/\\/search.shopping.naver.com\\/gate.nhn?id=41751861736\",\n",
      "\t\t\t\"image\":\"https:\\/\\/shopping-phinf.pstatic.net\\/main_4175186\\/41751861736.jpg\",\n",
      "\t\t\t\"lprice\":\"20700\",\n",
      "\t\t\t\"hprice\":\"\",\n",
      "\t\t\t\"mallName\":\"롯데ON\",\n",
      "\t\t\t\"productId\":\"41751861736\",\n",
      "\t\t\t\"productType\":\"2\",\n",
      "\t\t\t\"brand\":\"\",\n",
      "\t\t\t\"maker\":\"이지스퍼블리싱\",\n",
      "\t\t\t\"category1\":\"출산\\/육아\",\n",
      "\t\t\t\"category2\":\"교구\",\n",
      "\t\t\t\"category3\":\"학습교구\",\n",
      "\t\t\t\"category4\":\"기타교구\"\n",
      "\t\t},\n",
      "\t\t{\n",
      "\t\t\t\"title\":\"[봄봄북스] 난생처음 <b>파이썬<\\/b> 프로그래밍\",\n",
      "\t\t\t\"link\":\"https:\\/\\/search.shopping.naver.com\\/gate.nhn?id=42491713803\",\n",
      "\t\t\t\"image\":\"https:\\/\\/shopping-phinf.pstatic.net\\/main_4249171\\/42491713803.jpg\",\n",
      "\t\t\t\"lprice\":\"24000\",\n",
      "\t\t\t\"hprice\":\"\",\n",
      "\t\t\t\"mallName\":\"롯데ON\",\n",
      "\t\t\t\"productId\":\"42491713803\",\n",
      "\t\t\t\"productType\":\"2\",\n",
      "\t\t\t\"brand\":\"\",\n",
      "\t\t\t\"maker\":\"한빛아카데미\",\n",
      "\t\t\t\"category1\":\"출산\\/육아\",\n",
      "\t\t\t\"category2\":\"교구\",\n",
      "\t\t\t\"category3\":\"학습교구\",\n",
      "\t\t\t\"category4\":\"기타교구\"\n",
      "\t\t},\n",
      "\t\t{\n",
      "\t\t\t\"title\":\"혼자 공부하는 <b>파이썬<\\/b> (1:1 과외하듯 배우는 프로그래밍 독학 자습서 책)(개정판)\",\n",
      "\t\t\t\"link\":\"https:\\/\\/search.shopping.naver.com\\/gate.nhn?id=40231355730\",\n",
      "\t\t\t\"image\":\"https:\\/\\/shopping-phinf.pstatic.net\\/main_4023135\\/40231355730.jpg\",\n",
      "\t\t\t\"lprice\":\"28500\",\n",
      "\t\t\t\"hprice\":\"\",\n",
      "\t\t\t\"mallName\":\"옥션\",\n",
      "\t\t\t\"productId\":\"40231355730\",\n",
      "\t\t\t\"productType\":\"2\",\n",
      "\t\t\t\"brand\":\"\",\n",
      "\t\t\t\"maker\":\"\",\n",
      "\t\t\t\"category1\":\"출산\\/육아\",\n",
      "\t\t\t\"category2\":\"교구\",\n",
      "\t\t\t\"category3\":\"학습교구\",\n",
      "\t\t\t\"category4\":\"기타교구\"\n",
      "\t\t},\n",
      "\t\t{\n",
      "\t\t\t\"title\":\"혼자 공부하는 <b>파이썬<\\/b> 1:1 과외 배우는 프로그래밍 자습서 (개정판)\",\n",
      "\t\t\t\"link\":\"https:\\/\\/search.shopping.naver.com\\/gate.nhn?id=40503957601\",\n",
      "\t\t\t\"image\":\"https:\\/\\/shopping-phinf.pstatic.net\\/main_4050395\\/40503957601.jpg\",\n",
      "\t\t\t\"lprice\":\"26700\",\n",
      "\t\t\t\"hprice\":\"\",\n",
      "\t\t\t\"mallName\":\"쿠팡\",\n",
      "\t\t\t\"productId\":\"40503957601\",\n",
      "\t\t\t\"productType\":\"2\",\n",
      "\t\t\t\"brand\":\"\",\n",
      "\t\t\t\"maker\":\"\",\n",
      "\t\t\t\"category1\":\"출산\\/육아\",\n",
      "\t\t\t\"category2\":\"교구\",\n",
      "\t\t\t\"category3\":\"학습교구\",\n",
      "\t\t\t\"category4\":\"기타교구\"\n",
      "\t\t},\n",
      "\t\t{\n",
      "\t\t\t\"title\":\"[봄봄북스] 모두의 한국어 텍스트 분석 with <b>파이썬<\\/b>\",\n",
      "\t\t\t\"link\":\"https:\\/\\/search.shopping.naver.com\\/gate.nhn?id=41732375440\",\n",
      "\t\t\t\"image\":\"https:\\/\\/shopping-phinf.pstatic.net\\/main_4173237\\/41732375440.jpg\",\n",
      "\t\t\t\"lprice\":\"24300\",\n",
      "\t\t\t\"hprice\":\"\",\n",
      "\t\t\t\"mallName\":\"롯데ON\",\n",
      "\t\t\t\"productId\":\"41732375440\",\n",
      "\t\t\t\"productType\":\"2\",\n",
      "\t\t\t\"brand\":\"\",\n",
      "\t\t\t\"maker\":\"길벗\",\n",
      "\t\t\t\"category1\":\"출산\\/육아\",\n",
      "\t\t\t\"category2\":\"교구\",\n",
      "\t\t\t\"category3\":\"학습교구\",\n",
      "\t\t\t\"category4\":\"기타교구\"\n",
      "\t\t},\n",
      "\t\t{\n",
      "\t\t\t\"title\":\"[온누리북스] 더 탄탄하게 배우는 <b>파이썬<\\/b> 3\",\n",
      "\t\t\t\"link\":\"https:\\/\\/search.shopping.naver.com\\/gate.nhn?id=44107820697\",\n",
      "\t\t\t\"image\":\"https:\\/\\/shopping-phinf.pstatic.net\\/main_4410782\\/44107820697.jpg\",\n",
      "\t\t\t\"lprice\":\"18000\",\n",
      "\t\t\t\"hprice\":\"\",\n",
      "\t\t\t\"mallName\":\"롯데ON\",\n",
      "\t\t\t\"productId\":\"44107820697\",\n",
      "\t\t\t\"productType\":\"2\",\n",
      "\t\t\t\"brand\":\"\",\n",
      "\t\t\t\"maker\":\"성안당\",\n",
      "\t\t\t\"category1\":\"출산\\/육아\",\n",
      "\t\t\t\"category2\":\"교구\",\n",
      "\t\t\t\"category3\":\"학습교구\",\n",
      "\t\t\t\"category4\":\"기타교구\"\n",
      "\t\t},\n",
      "\t\t{\n",
      "\t\t\t\"title\":\"[롯데아이몰][봄봄북스] 금융 데이터 분석을 위한 <b>파이썬<\\/b> 판다스\",\n",
      "\t\t\t\"link\":\"https:\\/\\/search.shopping.naver.com\\/gate.nhn?id=41794296187\",\n",
      "\t\t\t\"image\":\"https:\\/\\/shopping-phinf.pstatic.net\\/main_4179429\\/41794296187.1.jpg\",\n",
      "\t\t\t\"lprice\":\"25770\",\n",
      "\t\t\t\"hprice\":\"\",\n",
      "\t\t\t\"mallName\":\"인터파크쇼핑\",\n",
      "\t\t\t\"productId\":\"41794296187\",\n",
      "\t\t\t\"productType\":\"2\",\n",
      "\t\t\t\"brand\":\"\",\n",
      "\t\t\t\"maker\":\"\",\n",
      "\t\t\t\"category1\":\"출산\\/육아\",\n",
      "\t\t\t\"category2\":\"교구\",\n",
      "\t\t\t\"category3\":\"학습교구\",\n",
      "\t\t\t\"category4\":\"기타교구\"\n",
      "\t\t},\n",
      "\t\t{\n",
      "\t\t\t\"title\":\"이기적 <b>파이썬<\\/b>마스터 2 3급 기본서 책 도서\",\n",
      "\t\t\t\"link\":\"https:\\/\\/search.shopping.naver.com\\/gate.nhn?id=42791520163\",\n",
      "\t\t\t\"image\":\"https:\\/\\/shopping-phinf.pstatic.net\\/main_4279152\\/42791520163.jpg\",\n",
      "\t\t\t\"lprice\":\"19800\",\n",
      "\t\t\t\"hprice\":\"\",\n",
      "\t\t\t\"mallName\":\"롯데ON\",\n",
      "\t\t\t\"productId\":\"42791520163\",\n",
      "\t\t\t\"productType\":\"2\",\n",
      "\t\t\t\"brand\":\"\",\n",
      "\t\t\t\"maker\":\"영진닷컴\",\n",
      "\t\t\t\"category1\":\"출산\\/육아\",\n",
      "\t\t\t\"category2\":\"교구\",\n",
      "\t\t\t\"category3\":\"학습교구\",\n",
      "\t\t\t\"category4\":\"기타교구\"\n",
      "\t\t}\n",
      "\t]\n",
      "}\n"
     ]
    }
   ],
   "source": [
    "# 네이버 검색 API 예제 - 블로그 검색\n",
    "import os\n",
    "import sys\n",
    "import urllib.request\n",
    "client_id = \"RPTEy__uwLe3Ht3MUnjy\"\n",
    "client_secret = \"8y6R1SDjnA\"\n",
    "encText = urllib.parse.quote(\"파이썬\")\n",
    "url = \"https://openapi.naver.com/v1/search/shop?query=\" + encText # JSON 결과\n",
    "# url = \"https://openapi.naver.com/v1/search/blog.xml?query=\" + encText # XML 결과\n",
    "request = urllib.request.Request(url)\n",
    "request.add_header(\"X-Naver-Client-Id\",client_id)\n",
    "request.add_header(\"X-Naver-Client-Secret\",client_secret)\n",
    "response = urllib.request.urlopen(request)\n",
    "rescode = response.getcode()\n",
    "if(rescode==200):\n",
    "    response_body = response.read()\n",
    "    print(response_body.decode('utf-8'))\n",
    "else:\n",
    "    print(\"Error Code:\" + rescode)"
   ]
  },
  {
   "cell_type": "markdown",
   "id": "a71a02eb-e4d0-44b4-bee2-49e1372e33d0",
   "metadata": {},
   "source": [
    "### 예제 6 책 검색"
   ]
  },
  {
   "cell_type": "code",
   "execution_count": 11,
   "id": "bdc3c37f-a930-4a26-92a8-f7dbb7961618",
   "metadata": {},
   "outputs": [
    {
     "name": "stdout",
     "output_type": "stream",
     "text": [
      "{\n",
      "\t\"lastBuildDate\":\"Tue, 12 Dec 2023 10:58:50 +0900\",\n",
      "\t\"total\":45,\n",
      "\t\"start\":1,\n",
      "\t\"display\":10,\n",
      "\t\"items\":[\n",
      "\t\t{\n",
      "\t\t\t\"title\":\"<b>파이썬<\\/b>\",\n",
      "\t\t\t\"link\":\"https:\\/\\/terms.naver.com\\/entry.naver?docId=3580815&cid=59088&categoryId=59096\",\n",
      "\t\t\t\"description\":\"‘<b>파이썬<\\/b>’이다. 간결한 문법으로 입문자가 이해하기 쉽고, 다양한 분야에 활용할 수 있기 때문이다. 이 외에도 <b>파이썬<\\/b>은 머신러닝, 그래픽, 웹 개발 등 여러 업계에서 선호하는 언어로 꾸준히... \",\n",
      "\t\t\t\"thumbnail\":\"http:\\/\\/openapi-dbscthumb.phinf.naver.net\\/4749_000_1\\/20170118193349632_0CHSSS5Y6.png\\/01_16.png?type=m160_160\"\n",
      "\t\t},\n",
      "\t\t{\n",
      "\t\t\t\"title\":\"<b>파이썬<\\/b>\",\n",
      "\t\t\t\"link\":\"https:\\/\\/terms.naver.com\\/entry.naver?docId=3607513&cid=58598&categoryId=59316\",\n",
      "\t\t\t\"description\":\" 컴퓨터 언어의 일종으로 간결하고 생산성 높은 프로그래밍 언어.  <b>파이썬<\\/b>(python)은 프로그램을 설계하는 프로그래밍 언어 중 하나입니다. 컴퓨터는 0과 1을(이진수) 인식하여 작동하기 때문에 과거에는... \",\n",
      "\t\t\t\"thumbnail\":\"http:\\/\\/openapi-dbscthumb.phinf.naver.net\\/4751_000_3\\/20170710213206672_OPHLG2VOW.jpg\\/992_170575_10034.jpg?type=m160_160\"\n",
      "\t\t},\n",
      "\t\t{\n",
      "\t\t\t\"title\":\"<b>파이썬<\\/b>\",\n",
      "\t\t\t\"link\":\"https:\\/\\/terms.naver.com\\/entry.naver?docId=3533295&cid=40942&categoryId=32838\",\n",
      "\t\t\t\"description\":\" 오픈소스 고급 프로그래밍 언어 중 하나이다.  C언어를 기반으로 한 오픈소스 고급 프로그래밍 언어로, 1991년 귀도 반 로섬(Guido van Rossum)에 의해 설계 및 개발되었다. <b>파이썬<\\/b>이라는 이름은 <b>파이썬<\\/b>을... \",\n",
      "\t\t\t\"thumbnail\":\"\"\n",
      "\t\t},\n",
      "\t\t{\n",
      "\t\t\t\"title\":\"장고\",\n",
      "\t\t\t\"link\":\"https:\\/\\/terms.naver.com\\/entry.naver?docId=4367087&cid=59088&categoryId=59096\",\n",
      "\t\t\t\"description\":\" 장고는 <b>파이썬<\\/b> 기반 웹 애플리케이션 프레임워크다. 좀 더 쉽게 웹 개발을 할 수 있게 돕는 오픈소스 기술이다. 장고는 개발 과정을 단축시켜주고, 다양한 추가 기능을 포함하고 있으며 보안성이... \",\n",
      "\t\t\t\"thumbnail\":\"https:\\/\\/dthumb-phinf.pstatic.net\\/?src=%22https%3A%2F%2Fpost-phinf.pstatic.net%2FMjAxNzEyMTVfMTM1%2FMDAxNTEzMzI3NDI4MjIz.nZhrYOO1nwD5YToYQRQoI8UH4MdHD8_SOjO2Uu_A45Ug.Is-NiXSP4wOgQDVNW_8j6QrMId6m1vlOohGSK1pEHa0g.JPEG%2FIjqeSPB8TSqGe9ibG3dK_hGmkobI.jpg%3Ftype%3Dm4500_4500_fst%22&type=w540#540x405#c405\"\n",
      "\t\t},\n",
      "\t\t{\n",
      "\t\t\t\"title\":\"루비 (프로그래밍 언어)\",\n",
      "\t\t\t\"link\":\"https:\\/\\/terms.naver.com\\/entry.naver?docId=3581025&cid=59088&categoryId=59096\",\n",
      "\t\t\t\"description\":\"C언어는 미국, 자바(Java)는 캐나다, <b>파이썬<\\/b>(Python)은 네덜란드, 스칼라(Scala)는 스위스에서 나오는 식이다. 이러한 환경에서 주류 언어이자 주목받은 새로운 언어 중 아시아 지역에서 탄생한 유일한 언어가... \",\n",
      "\t\t\t\"thumbnail\":\"http:\\/\\/openapi-dbscthumb.phinf.naver.net\\/4749_000_10\\/20170404204312715_1X732KEQK.png\\/1_40.png?type=m160_160\"\n",
      "\t\t},\n",
      "\t\t{\n",
      "\t\t\t\"title\":\"오토GPT\",\n",
      "\t\t\t\"link\":\"https:\\/\\/terms.naver.com\\/entry.naver?docId=6690638&cid=43667&categoryId=43667\",\n",
      "\t\t\t\"description\":\" 사용자가 목표를 설정하면 인공지능(AI)이 자동으로 인터넷을 검색하고 방법을 탐색해 결과물을 내놓는 생성형 AI로, AI 스타트업 시그니피컨트 그래피타스가 2023년 3월 30일 개발자 코드... \",\n",
      "\t\t\t\"thumbnail\":\"\"\n",
      "\t\t},\n",
      "\t\t{\n",
      "\t\t\t\"title\":\"Gensim\",\n",
      "\t\t\t\"link\":\"https:\\/\\/terms.naver.com\\/entry.naver?docId=6653626&cid=69974&categoryId=69974\",\n",
      "\t\t\t\"description\":\"Gensim은 <b>파이썬<\\/b>과 NumPy(숫자의 연산을 행렬 등의 형태로 쉽게 처리할 수 있게 하는 <b>파이썬<\\/b> 라이브러리)를 지원하기만 하면 어떤 운영체제와도 호환된다. 무엇보다도 데이터 스트리밍을... \",\n",
      "\t\t\t\"thumbnail\":\"\"\n",
      "\t\t},\n",
      "\t\t{\n",
      "\t\t\t\"title\":\"Perplexity\",\n",
      "\t\t\t\"link\":\"https:\\/\\/terms.naver.com\\/entry.naver?docId=6653705&cid=69974&categoryId=69974\",\n",
      "\t\t\t\"description\":\"언어 모델링 과정이나 음성 인식에서 엔트로피를 계산할 때에는 0에 가까운 작은 확률값이 나오는 경우가 많은데, <b>파이썬<\\/b>에서는 이러한 값을 0으로 근사시키는 underflow가 발생한다는 문제가... \",\n",
      "\t\t\t\"thumbnail\":\"https:\\/\\/dthumb-phinf.pstatic.net\\/?src=%22https%3A%2F%2Fpost-phinf.pstatic.net%2FMjAyMjA4MjhfNDgg%2FMDAxNjYxNjkyMTczMjI3.2IEVYNlzKicXI-yYu3-JtNBl7gRGusb-i2UPfFozT_8g.uIhO9ts858Cr4VooW7qsTgRI9wtLI2mrwFpcIPxBIM8g.GIF%2FIo8p_EY-DJjgmP-xdX2ktfuv61XY.jpg%3Ftype%3Dm4500_4500_fst%22&type=w540#540x120\"\n",
      "\t\t},\n",
      "\t\t{\n",
      "\t\t\t\"title\":\"조프\",\n",
      "\t\t\t\"link\":\"https:\\/\\/terms.naver.com\\/entry.naver?docId=3436079&cid=42346&categoryId=42346\",\n",
      "\t\t\t\"description\":\"<b>파이썬<\\/b>(Python) 프로그래밍 언어로 작성된 웹 애플리케이션 서버 구현 관련 기술. 객체 기술 기능, 폴더ㆍ파일ㆍ이미지용 프레임워크, 객체 데이터베이스, 웹 페이지 생성 템플릿, 구조화 질의 언어(SQL) 방법... \",\n",
      "\t\t\t\"thumbnail\":\"\"\n",
      "\t\t},\n",
      "\t\t{\n",
      "\t\t\t\"title\":\"행동 프로그래밍\",\n",
      "\t\t\t\"link\":\"https:\\/\\/terms.naver.com\\/entry.naver?docId=5762303&cid=42107&categoryId=42107\",\n",
      "\t\t\t\"description\":\"다양한 컴퓨터 언어(<b>파이썬<\\/b>, C++, 자바 등)를 이용해 로봇에 명령을 전달하는 작업. ROS(로봇오퍼레이팅시스템)가 대표적이다. 오픈소스 라이선스인 ROS는 복잡하고 강렬한 로봇 동작을 단순화하는 ‘도구... \",\n",
      "\t\t\t\"thumbnail\":\"\"\n",
      "\t\t}\n",
      "\t]\n",
      "}\n"
     ]
    }
   ],
   "source": [
    "# 네이버 검색 API 예제 - 블로그 검색\n",
    "import os\n",
    "import sys\n",
    "import urllib.request\n",
    "client_id = \"RPTEy__uwLe3Ht3MUnjy\"\n",
    "client_secret = \"8y6R1SDjnA\"\n",
    "encText = urllib.parse.quote(\"파이썬\")\n",
    "url = \"https://openapi.naver.com/v1/search/encyc?query=\" + encText # JSON 결과\n",
    "# url = \"https://openapi.naver.com/v1/search/blog.xml?query=\" + encText # XML 결과\n",
    "request = urllib.request.Request(url)\n",
    "request.add_header(\"X-Naver-Client-Id\",client_id)\n",
    "request.add_header(\"X-Naver-Client-Secret\",client_secret)\n",
    "response = urllib.request.urlopen(request)\n",
    "rescode = response.getcode()\n",
    "if(rescode==200):\n",
    "    response_body = response.read()\n",
    "    print(response_body.decode('utf-8'))\n",
    "else:\n",
    "    print(\"Error Code:\" + rescode)"
   ]
  },
  {
   "cell_type": "markdown",
   "id": "80800a03-4618-46e7-94a3-fd4939c54270",
   "metadata": {},
   "source": [
    "## 네이버 스토어 몰스킨 판매 업자 비율 시각화"
   ]
  },
  {
   "cell_type": "code",
   "execution_count": 67,
   "id": "bb3ed0fc-1073-43fb-9b2d-314b00eea6b7",
   "metadata": {},
   "outputs": [
    {
     "name": "stdout",
     "output_type": "stream",
     "text": [
      "{\n",
      "\t\"lastBuildDate\":\"Tue, 12 Dec 2023 14:37:16 +0900\",\n",
      "\t\"total\":51845,\n",
      "\t\"start\":1,\n",
      "\t\"display\":10,\n",
      "\t\"items\":[\n",
      "\t\t{\n",
      "\t\t\t\"title\":\"스타벅스 2024년 <b>몰스킨<\\/b> 다이어리 데일리 플래너 일기장 노트 스벅 카페 윈터 e프리퀀시\",\n",
      "\t\t\t\"link\":\"https:\\/\\/search.shopping.naver.com\\/gate.nhn?id=86963344737\",\n",
      "\t\t\t\"image\":\"https:\\/\\/shopping-phinf.pstatic.net\\/main_8696334\\/86963344737.41.jpg\",\n",
      "\t\t\t\"lprice\":\"35000\",\n",
      "\t\t\t\"hprice\":\"\",\n",
      "\t\t\t\"mallName\":\"유니스스토어\",\n",
      "\t\t\t\"productId\":\"86963344737\",\n",
      "\t\t\t\"productType\":\"2\",\n",
      "\t\t\t\"brand\":\"스타벅스\",\n",
      "\t\t\t\"maker\":\"몰스킨\",\n",
      "\t\t\t\"category1\":\"생활\\/건강\",\n",
      "\t\t\t\"category2\":\"문구\\/사무용품\",\n",
      "\t\t\t\"category3\":\"다이어리\\/플래너\",\n",
      "\t\t\t\"category4\":\"다이어리\"\n",
      "\t\t},\n",
      "\t\t{\n",
      "\t\t\t\"title\":\"<b>몰스킨<\\/b> 2024 데일리 다이어리 포켓 상품선택\",\n",
      "\t\t\t\"link\":\"https:\\/\\/search.shopping.naver.com\\/gate.nhn?id=42473541158\",\n",
      "\t\t\t\"image\":\"https:\\/\\/shopping-phinf.pstatic.net\\/main_4247354\\/42473541158.20230907073601.jpg\",\n",
      "\t\t\t\"lprice\":\"36000\",\n",
      "\t\t\t\"hprice\":\"\",\n",
      "\t\t\t\"mallName\":\"네이버\",\n",
      "\t\t\t\"productId\":\"42473541158\",\n",
      "\t\t\t\"productType\":\"1\",\n",
      "\t\t\t\"brand\":\"몰스킨\",\n",
      "\t\t\t\"maker\":\"몰스킨\",\n",
      "\t\t\t\"category1\":\"생활\\/건강\",\n",
      "\t\t\t\"category2\":\"문구\\/사무용품\",\n",
      "\t\t\t\"category3\":\"다이어리\\/플래너\",\n",
      "\t\t\t\"category4\":\"다이어리\"\n",
      "\t\t},\n",
      "\t\t{\n",
      "\t\t\t\"title\":\"<b>몰스킨<\\/b> 2024 위클리 다이어리 포켓 상품선택\",\n",
      "\t\t\t\"link\":\"https:\\/\\/search.shopping.naver.com\\/gate.nhn?id=44547674101\",\n",
      "\t\t\t\"image\":\"https:\\/\\/shopping-phinf.pstatic.net\\/main_4454767\\/44547674101.20231210142944.jpg\",\n",
      "\t\t\t\"lprice\":\"27930\",\n",
      "\t\t\t\"hprice\":\"\",\n",
      "\t\t\t\"mallName\":\"네이버\",\n",
      "\t\t\t\"productId\":\"44547674101\",\n",
      "\t\t\t\"productType\":\"1\",\n",
      "\t\t\t\"brand\":\"몰스킨\",\n",
      "\t\t\t\"maker\":\"몰스킨\",\n",
      "\t\t\t\"category1\":\"생활\\/건강\",\n",
      "\t\t\t\"category2\":\"문구\\/사무용품\",\n",
      "\t\t\t\"category3\":\"다이어리\\/플래너\",\n",
      "\t\t\t\"category4\":\"다이어리\"\n",
      "\t\t},\n",
      "\t\t{\n",
      "\t\t\t\"title\":\"<b>몰스킨<\\/b> 2024 다이어리 클래식 소프트커버 위클리 포켓 2024년 24년\",\n",
      "\t\t\t\"link\":\"https:\\/\\/search.shopping.naver.com\\/gate.nhn?id=86678199160\",\n",
      "\t\t\t\"image\":\"https:\\/\\/shopping-phinf.pstatic.net\\/main_8667819\\/86678199160.2.jpg\",\n",
      "\t\t\t\"lprice\":\"32400\",\n",
      "\t\t\t\"hprice\":\"\",\n",
      "\t\t\t\"mallName\":\"베스트펜\",\n",
      "\t\t\t\"productId\":\"86678199160\",\n",
      "\t\t\t\"productType\":\"2\",\n",
      "\t\t\t\"brand\":\"몰스킨\",\n",
      "\t\t\t\"maker\":\"몰스킨\",\n",
      "\t\t\t\"category1\":\"생활\\/건강\",\n",
      "\t\t\t\"category2\":\"문구\\/사무용품\",\n",
      "\t\t\t\"category3\":\"다이어리\\/플래너\",\n",
      "\t\t\t\"category4\":\"다이어리\"\n",
      "\t\t},\n",
      "\t\t{\n",
      "\t\t\t\"title\":\"<b>몰스킨<\\/b> 2024 위클리 다이어리 라지 상품선택\",\n",
      "\t\t\t\"link\":\"https:\\/\\/search.shopping.naver.com\\/gate.nhn?id=42444253256\",\n",
      "\t\t\t\"image\":\"https:\\/\\/shopping-phinf.pstatic.net\\/main_4244425\\/42444253256.20230906161929.jpg\",\n",
      "\t\t\t\"lprice\":\"39960\",\n",
      "\t\t\t\"hprice\":\"\",\n",
      "\t\t\t\"mallName\":\"네이버\",\n",
      "\t\t\t\"productId\":\"42444253256\",\n",
      "\t\t\t\"productType\":\"1\",\n",
      "\t\t\t\"brand\":\"몰스킨\",\n",
      "\t\t\t\"maker\":\"몰스킨\",\n",
      "\t\t\t\"category1\":\"생활\\/건강\",\n",
      "\t\t\t\"category2\":\"문구\\/사무용품\",\n",
      "\t\t\t\"category3\":\"다이어리\\/플래너\",\n",
      "\t\t\t\"category4\":\"다이어리\"\n",
      "\t\t},\n",
      "\t\t{\n",
      "\t\t\t\"title\":\"<b>몰스킨<\\/b> 2024 데일리 다이어리-하드 머틀그린 라지 각인 케이스포장 병행수입 아님\",\n",
      "\t\t\t\"link\":\"https:\\/\\/search.shopping.naver.com\\/gate.nhn?id=43052849828\",\n",
      "\t\t\t\"image\":\"https:\\/\\/shopping-phinf.pstatic.net\\/main_4305284\\/43052849828.20231006183518.jpg\",\n",
      "\t\t\t\"lprice\":\"38850\",\n",
      "\t\t\t\"hprice\":\"\",\n",
      "\t\t\t\"mallName\":\"네이버\",\n",
      "\t\t\t\"productId\":\"43052849828\",\n",
      "\t\t\t\"productType\":\"1\",\n",
      "\t\t\t\"brand\":\"몰스킨\",\n",
      "\t\t\t\"maker\":\"몰스킨\",\n",
      "\t\t\t\"category1\":\"생활\\/건강\",\n",
      "\t\t\t\"category2\":\"문구\\/사무용품\",\n",
      "\t\t\t\"category3\":\"다이어리\\/플래너\",\n",
      "\t\t\t\"category4\":\"다이어리\"\n",
      "\t\t},\n",
      "\t\t{\n",
      "\t\t\t\"title\":\"<b>몰스킨<\\/b> 2024 다이어리 클래식 하드커버 위클리 포켓 2024년 24년\",\n",
      "\t\t\t\"link\":\"https:\\/\\/search.shopping.naver.com\\/gate.nhn?id=86678091959\",\n",
      "\t\t\t\"image\":\"https:\\/\\/shopping-phinf.pstatic.net\\/main_8667809\\/86678091959.1.jpg\",\n",
      "\t\t\t\"lprice\":\"32400\",\n",
      "\t\t\t\"hprice\":\"\",\n",
      "\t\t\t\"mallName\":\"베스트펜\",\n",
      "\t\t\t\"productId\":\"86678091959\",\n",
      "\t\t\t\"productType\":\"2\",\n",
      "\t\t\t\"brand\":\"몰스킨\",\n",
      "\t\t\t\"maker\":\"몰스킨\",\n",
      "\t\t\t\"category1\":\"생활\\/건강\",\n",
      "\t\t\t\"category2\":\"문구\\/사무용품\",\n",
      "\t\t\t\"category3\":\"다이어리\\/플래너\",\n",
      "\t\t\t\"category4\":\"다이어리\"\n",
      "\t\t},\n",
      "\t\t{\n",
      "\t\t\t\"title\":\"<b>몰스킨<\\/b> 2024 데일리 다이어리 라지 상품선택\",\n",
      "\t\t\t\"link\":\"https:\\/\\/search.shopping.naver.com\\/gate.nhn?id=42444257103\",\n",
      "\t\t\t\"image\":\"https:\\/\\/shopping-phinf.pstatic.net\\/main_4244425\\/42444257103.20230906055621.jpg\",\n",
      "\t\t\t\"lprice\":\"42120\",\n",
      "\t\t\t\"hprice\":\"\",\n",
      "\t\t\t\"mallName\":\"네이버\",\n",
      "\t\t\t\"productId\":\"42444257103\",\n",
      "\t\t\t\"productType\":\"1\",\n",
      "\t\t\t\"brand\":\"몰스킨\",\n",
      "\t\t\t\"maker\":\"몰스킨\",\n",
      "\t\t\t\"category1\":\"생활\\/건강\",\n",
      "\t\t\t\"category2\":\"문구\\/사무용품\",\n",
      "\t\t\t\"category3\":\"다이어리\\/플래너\",\n",
      "\t\t\t\"category4\":\"다이어리\"\n",
      "\t\t},\n",
      "\t\t{\n",
      "\t\t\t\"title\":\"로이텀 2024 다이어리 위클리&amp;노트 하드커버 B5\",\n",
      "\t\t\t\"link\":\"https:\\/\\/search.shopping.naver.com\\/gate.nhn?id=86743259854\",\n",
      "\t\t\t\"image\":\"https:\\/\\/shopping-phinf.pstatic.net\\/main_8674325\\/86743259854.1.jpg\",\n",
      "\t\t\t\"lprice\":\"32300\",\n",
      "\t\t\t\"hprice\":\"\",\n",
      "\t\t\t\"mallName\":\"몰스킨스토어\",\n",
      "\t\t\t\"productId\":\"86743259854\",\n",
      "\t\t\t\"productType\":\"2\",\n",
      "\t\t\t\"brand\":\"로이텀\",\n",
      "\t\t\t\"maker\":\"로이텀\",\n",
      "\t\t\t\"category1\":\"생활\\/건강\",\n",
      "\t\t\t\"category2\":\"문구\\/사무용품\",\n",
      "\t\t\t\"category3\":\"다이어리\\/플래너\",\n",
      "\t\t\t\"category4\":\"다이어리\"\n",
      "\t\t},\n",
      "\t\t{\n",
      "\t\t\t\"title\":\"<b>몰스킨<\\/b> 2024 위클리 세로형 다이어리 하드커버 상품선택\",\n",
      "\t\t\t\"link\":\"https:\\/\\/search.shopping.naver.com\\/gate.nhn?id=42496988078\",\n",
      "\t\t\t\"image\":\"https:\\/\\/shopping-phinf.pstatic.net\\/main_4249698\\/42496988078.20230908133739.jpg\",\n",
      "\t\t\t\"lprice\":\"27930\",\n",
      "\t\t\t\"hprice\":\"\",\n",
      "\t\t\t\"mallName\":\"네이버\",\n",
      "\t\t\t\"productId\":\"42496988078\",\n",
      "\t\t\t\"productType\":\"1\",\n",
      "\t\t\t\"brand\":\"몰스킨\",\n",
      "\t\t\t\"maker\":\"몰스킨\",\n",
      "\t\t\t\"category1\":\"생활\\/건강\",\n",
      "\t\t\t\"category2\":\"문구\\/사무용품\",\n",
      "\t\t\t\"category3\":\"다이어리\\/플래너\",\n",
      "\t\t\t\"category4\":\"다이어리\"\n",
      "\t\t}\n",
      "\t]\n",
      "}\n"
     ]
    }
   ],
   "source": [
    "# 네이버 검색 API 예제 - 블로그 검색\n",
    "import os\n",
    "import sys\n",
    "import urllib.request\n",
    "client_id = \"RPTEy__uwLe3Ht3MUnjy\"\n",
    "client_secret = \"8y6R1SDjnA\"\n",
    "encText = urllib.parse.quote(\"몰스킨\")\n",
    "encText\n",
    "url = \"https://openapi.naver.com/v1/search/shop.json?query=\" + encText # JSON 결과\n",
    "# url = \"https://openapi.naver.com/v1/search/blog.xml?query=\" + encText # XML 결과\n",
    "request = urllib.request.Request(url)\n",
    "request.add_header(\"X-Naver-Client-Id\",client_id)\n",
    "request.add_header(\"X-Naver-Client-Secret\",client_secret)\n",
    "response = urllib.request.urlopen(request)\n",
    "rescode = response.getcode()\n",
    "if(rescode==200):\n",
    "    response_body = response.read()\n",
    "    print(response_body.decode('utf-8'))\n",
    "else:\n",
    "    print(\"Error Code:\" + rescode)"
   ]
  },
  {
   "cell_type": "markdown",
   "id": "1597f09b-5aae-4630-a729-1c78767e9673",
   "metadata": {},
   "source": [
    "### (1)gen_search_url()"
   ]
  },
  {
   "cell_type": "code",
   "execution_count": 78,
   "id": "77e0ba9e-5997-43de-a383-1343a92a832d",
   "metadata": {},
   "outputs": [],
   "source": [
    "client_id = \"RPTEy__uwLe3Ht3MUnjy\"\n",
    "client_secret = \"8y6R1SDjnA\"\n",
    "def gen_search_url(api_node, search_text, start_num, disp_num):\n",
    "    base = 'https://openapi.naver.com/v1/search'\n",
    "    node = '/' + api_node + '.json'\n",
    "    param_query = '?query=' + urllib.parse.quote(search_text)\n",
    "    param_start = '&start=' + str(start_num)\n",
    "    param_disp = '&display=' + str(disp_num)\n",
    "    return base + node + param_query + param_disp + param_start "
   ]
  },
  {
   "cell_type": "code",
   "execution_count": 77,
   "id": "83cba3be-1cff-411a-ac38-1b747813381f",
   "metadata": {},
   "outputs": [
    {
     "data": {
      "text/plain": [
       "'https://openapi.naver.com/v1/search/shop.json?query=%EB%AA%B0%EC%8A%A4%ED%82%A8&disp=3&start=10'"
      ]
     },
     "execution_count": 77,
     "metadata": {},
     "output_type": "execute_result"
    }
   ],
   "source": [
    "gen_search_url('shop', '몰스킨', 10, 3)"
   ]
  },
  {
   "cell_type": "code",
   "execution_count": null,
   "id": "e452490a-45ad-4684-8ad3-cf24efccbf20",
   "metadata": {},
   "outputs": [],
   "source": [
    "https://openapi.naver.com/v1/search/shop?query=\" + encText"
   ]
  },
  {
   "cell_type": "markdown",
   "id": "b7b18bbc-4467-4c8d-b73d-6a1964c6177f",
   "metadata": {},
   "source": [
    "### (2)get_search_url()"
   ]
  },
  {
   "cell_type": "code",
   "execution_count": 79,
   "id": "b238fa64-cd86-4a2c-b046-3966fabf99b0",
   "metadata": {},
   "outputs": [],
   "source": [
    "import json\n",
    "import datetime\n",
    "\n",
    "def get_result_onpage(url):\n",
    "    request = urllib.request.Request(url)\n",
    "    request.add_header(\"X-Naver-Client-Id\",client_id)\n",
    "    request.add_header(\"X-Naver-Client-Secret\",client_secret)\n",
    "    response = urllib.request.urlopen(request)\n",
    "    print('[%s] Url Request Success' % datetime.datetime.now())\n",
    "    return json.loads(response.read().decode('utf-8'))"
   ]
  },
  {
   "cell_type": "code",
   "execution_count": 29,
   "id": "4e23ea85-5ac2-4359-a191-338263302934",
   "metadata": {},
   "outputs": [
    {
     "data": {
      "text/plain": [
       "datetime.datetime(2023, 12, 12, 14, 21, 7, 92931)"
      ]
     },
     "execution_count": 29,
     "metadata": {},
     "output_type": "execute_result"
    }
   ],
   "source": [
    "datetime.datetime.now()"
   ]
  },
  {
   "cell_type": "code",
   "execution_count": 80,
   "id": "fa74ddbc-efbe-49a6-a1af-34e01874f037",
   "metadata": {},
   "outputs": [
    {
     "name": "stdout",
     "output_type": "stream",
     "text": [
      "[2023-12-12 14:41:15.794969] Url Request Success\n"
     ]
    }
   ],
   "source": [
    "url = gen_search_url('shop', '몰스킨', 1, 5)\n",
    "one_result = get_result_onpage(url)"
   ]
  },
  {
   "cell_type": "code",
   "execution_count": 86,
   "id": "f1ea47ee-a2a2-4a05-bbc1-9f0f4650e4cd",
   "metadata": {},
   "outputs": [
    {
     "data": {
      "text/plain": [
       "{'title': '스타벅스 2024년 <b>몰스킨</b> 다이어리 데일리 플래너 일기장 노트 스벅 카페 윈터 e프리퀀시',\n",
       " 'link': 'https://search.shopping.naver.com/gate.nhn?id=86963344737',\n",
       " 'image': 'https://shopping-phinf.pstatic.net/main_8696334/86963344737.41.jpg',\n",
       " 'lprice': '35000',\n",
       " 'hprice': '',\n",
       " 'mallName': '유니스스토어',\n",
       " 'productId': '86963344737',\n",
       " 'productType': '2',\n",
       " 'brand': '스타벅스',\n",
       " 'maker': '몰스킨',\n",
       " 'category1': '생활/건강',\n",
       " 'category2': '문구/사무용품',\n",
       " 'category3': '다이어리/플래너',\n",
       " 'category4': '다이어리'}"
      ]
     },
     "execution_count": 86,
     "metadata": {},
     "output_type": "execute_result"
    }
   ],
   "source": [
    "one_result['items'][0]"
   ]
  },
  {
   "cell_type": "code",
   "execution_count": 90,
   "id": "775dc7ae-7975-4360-ab50-2626fd6d24d6",
   "metadata": {},
   "outputs": [
    {
     "data": {
      "text/plain": [
       "'스타벅스 2024년 <b>몰스킨</b> 다이어리 데일리 플래너 일기장 노트 스벅 카페 윈터 e프리퀀시'"
      ]
     },
     "execution_count": 90,
     "metadata": {},
     "output_type": "execute_result"
    }
   ],
   "source": [
    "one_result['items'][0].get('title')"
   ]
  },
  {
   "cell_type": "code",
   "execution_count": 89,
   "id": "9e2f7ac0-c385-4412-83e7-56a9af189a62",
   "metadata": {},
   "outputs": [
    {
     "data": {
      "text/plain": [
       "'35000'"
      ]
     },
     "execution_count": 89,
     "metadata": {},
     "output_type": "execute_result"
    }
   ],
   "source": [
    "one_result['items'][0]['lprice']"
   ]
  },
  {
   "cell_type": "code",
   "execution_count": 91,
   "id": "d1d543da-5d43-4f00-97fd-42751875dd51",
   "metadata": {},
   "outputs": [
    {
     "data": {
      "text/plain": [
       "'유니스스토어'"
      ]
     },
     "execution_count": 91,
     "metadata": {},
     "output_type": "execute_result"
    }
   ],
   "source": [
    "one_result['items'][0]['mallName']"
   ]
  },
  {
   "cell_type": "markdown",
   "id": "c9648f75-13ac-4586-9726-2a7c60c457d5",
   "metadata": {
    "scrolled": true
   },
   "source": [
    "### (3)get_fields()"
   ]
  },
  {
   "cell_type": "code",
   "execution_count": 160,
   "id": "ab7d1254-5335-4eef-b11f-95e1d600038e",
   "metadata": {
    "scrolled": true
   },
   "outputs": [
    {
     "data": {
      "text/plain": [
       "{'title': '스타벅스 2024년 <b>몰스킨</b> 다이어리 데일리 플래너 일기장 노트 스벅 카페 윈터 e프리퀀시',\n",
       " 'link': 'https://search.shopping.naver.com/gate.nhn?id=86963344737',\n",
       " 'image': 'https://shopping-phinf.pstatic.net/main_8696334/86963344737.41.jpg',\n",
       " 'lprice': '35000',\n",
       " 'hprice': '',\n",
       " 'mallName': '유니스스토어',\n",
       " 'productId': '86963344737',\n",
       " 'productType': '2',\n",
       " 'brand': '스타벅스',\n",
       " 'maker': '몰스킨',\n",
       " 'category1': '생활/건강',\n",
       " 'category2': '문구/사무용품',\n",
       " 'category3': '다이어리/플래너',\n",
       " 'category4': '다이어리'}"
      ]
     },
     "execution_count": 160,
     "metadata": {},
     "output_type": "execute_result"
    }
   ],
   "source": [
    "one_result['items'][0]"
   ]
  },
  {
   "cell_type": "code",
   "execution_count": 167,
   "id": "1073752c-919e-444b-932b-22dba3258bcd",
   "metadata": {},
   "outputs": [],
   "source": [
    "import pandas as pd\n",
    "\n",
    "def get_fields(json_data):\n",
    "    title = [delete_tag(each['title']) for each in json_data['items']]\n",
    "    link = [each['link'] for each in json_data['items']]\n",
    "    lprice = [each['lprice'] for each in json_data['items']]\n",
    "    mall = [each['mallName'] for each in json_data['items']]\n",
    "\n",
    "    result_pd = pd.DataFrame({\n",
    "        'title' : title,\n",
    "        'link' : link,\n",
    "        'lprice' : lprice,\n",
    "        'mall' : mall,\n",
    "    }, columns=['title', 'lprice', 'link', 'mall'])\n",
    "    return result_pd"
   ]
  },
  {
   "cell_type": "code",
   "execution_count": 161,
   "id": "5740a2d0-4b85-4e8f-9366-759118d7ac15",
   "metadata": {},
   "outputs": [
    {
     "data": {
      "text/html": [
       "<div>\n",
       "<style scoped>\n",
       "    .dataframe tbody tr th:only-of-type {\n",
       "        vertical-align: middle;\n",
       "    }\n",
       "\n",
       "    .dataframe tbody tr th {\n",
       "        vertical-align: top;\n",
       "    }\n",
       "\n",
       "    .dataframe thead th {\n",
       "        text-align: right;\n",
       "    }\n",
       "</style>\n",
       "<table border=\"1\" class=\"dataframe\">\n",
       "  <thead>\n",
       "    <tr style=\"text-align: right;\">\n",
       "      <th></th>\n",
       "      <th>title</th>\n",
       "      <th>lprice</th>\n",
       "      <th>link</th>\n",
       "      <th>mall_name</th>\n",
       "    </tr>\n",
       "  </thead>\n",
       "  <tbody>\n",
       "    <tr>\n",
       "      <th>0</th>\n",
       "      <td>스타벅스 2024년 몰스킨 다이어리 데일리 플래너 일기장 노트 스벅 카페 윈터 e프리퀀시</td>\n",
       "      <td>35000</td>\n",
       "      <td>https://search.shopping.naver.com/gate.nhn?id=...</td>\n",
       "      <td>NaN</td>\n",
       "    </tr>\n",
       "    <tr>\n",
       "      <th>1</th>\n",
       "      <td>몰스킨 2024 데일리 다이어리 포켓 상품선택</td>\n",
       "      <td>36000</td>\n",
       "      <td>https://search.shopping.naver.com/gate.nhn?id=...</td>\n",
       "      <td>NaN</td>\n",
       "    </tr>\n",
       "    <tr>\n",
       "      <th>2</th>\n",
       "      <td>몰스킨 2024 위클리 다이어리 포켓 상품선택</td>\n",
       "      <td>27930</td>\n",
       "      <td>https://search.shopping.naver.com/gate.nhn?id=...</td>\n",
       "      <td>NaN</td>\n",
       "    </tr>\n",
       "    <tr>\n",
       "      <th>3</th>\n",
       "      <td>몰스킨 2024 다이어리 클래식 소프트커버 위클리 포켓 2024년 24년</td>\n",
       "      <td>32400</td>\n",
       "      <td>https://search.shopping.naver.com/gate.nhn?id=...</td>\n",
       "      <td>NaN</td>\n",
       "    </tr>\n",
       "    <tr>\n",
       "      <th>4</th>\n",
       "      <td>몰스킨 2024 위클리 다이어리 라지 상품선택</td>\n",
       "      <td>39960</td>\n",
       "      <td>https://search.shopping.naver.com/gate.nhn?id=...</td>\n",
       "      <td>NaN</td>\n",
       "    </tr>\n",
       "  </tbody>\n",
       "</table>\n",
       "</div>"
      ],
      "text/plain": [
       "                                               title lprice  \\\n",
       "0  스타벅스 2024년 몰스킨 다이어리 데일리 플래너 일기장 노트 스벅 카페 윈터 e프리퀀시  35000   \n",
       "1                          몰스킨 2024 데일리 다이어리 포켓 상품선택  36000   \n",
       "2                          몰스킨 2024 위클리 다이어리 포켓 상품선택  27930   \n",
       "3           몰스킨 2024 다이어리 클래식 소프트커버 위클리 포켓 2024년 24년  32400   \n",
       "4                          몰스킨 2024 위클리 다이어리 라지 상품선택  39960   \n",
       "\n",
       "                                                link mall_name  \n",
       "0  https://search.shopping.naver.com/gate.nhn?id=...       NaN  \n",
       "1  https://search.shopping.naver.com/gate.nhn?id=...       NaN  \n",
       "2  https://search.shopping.naver.com/gate.nhn?id=...       NaN  \n",
       "3  https://search.shopping.naver.com/gate.nhn?id=...       NaN  \n",
       "4  https://search.shopping.naver.com/gate.nhn?id=...       NaN  "
      ]
     },
     "execution_count": 161,
     "metadata": {},
     "output_type": "execute_result"
    }
   ],
   "source": [
    "get_fields(one_result)"
   ]
  },
  {
   "cell_type": "markdown",
   "id": "24c18c06-4e7c-405c-b470-bc3b0a909efd",
   "metadata": {},
   "source": [
    "### delete_tag()"
   ]
  },
  {
   "cell_type": "code",
   "execution_count": 162,
   "id": "63951e1e-2bb5-4c63-9b27-d490336ef392",
   "metadata": {},
   "outputs": [],
   "source": [
    "def delete_tag(input_str):\n",
    "    input_str = input_str.replace('<b>','')\n",
    "    input_str = input_str.replace('</b>','')\n",
    "    return input_str"
   ]
  },
  {
   "cell_type": "code",
   "execution_count": null,
   "id": "f44c6b56-153d-45cd-a217-bcf866d37390",
   "metadata": {},
   "outputs": [],
   "source": [
    "df['title'] = "
   ]
  },
  {
   "cell_type": "code",
   "execution_count": 163,
   "id": "924f80b0-6936-4fab-ae41-25b232d448da",
   "metadata": {},
   "outputs": [
    {
     "name": "stdout",
     "output_type": "stream",
     "text": [
      "[2023-12-12 20:13:19.554337] Url Request Success\n"
     ]
    }
   ],
   "source": [
    "url = gen_search_url('shop', '몰스킨', 1, 5)\n",
    "json_result = get_result_onpage(url)\n",
    "pd_result = get_fields(json_result)"
   ]
  },
  {
   "cell_type": "code",
   "execution_count": 164,
   "id": "9fa9df68-5f20-4192-97d5-8eb16b6e5c16",
   "metadata": {},
   "outputs": [
    {
     "data": {
      "text/html": [
       "<div>\n",
       "<style scoped>\n",
       "    .dataframe tbody tr th:only-of-type {\n",
       "        vertical-align: middle;\n",
       "    }\n",
       "\n",
       "    .dataframe tbody tr th {\n",
       "        vertical-align: top;\n",
       "    }\n",
       "\n",
       "    .dataframe thead th {\n",
       "        text-align: right;\n",
       "    }\n",
       "</style>\n",
       "<table border=\"1\" class=\"dataframe\">\n",
       "  <thead>\n",
       "    <tr style=\"text-align: right;\">\n",
       "      <th></th>\n",
       "      <th>title</th>\n",
       "      <th>lprice</th>\n",
       "      <th>link</th>\n",
       "      <th>mall_name</th>\n",
       "    </tr>\n",
       "  </thead>\n",
       "  <tbody>\n",
       "    <tr>\n",
       "      <th>0</th>\n",
       "      <td>2024 스타벅스 다이어리 몰스킨 다이어리 데일리 플래너 2023 윈터 e-프리퀀시</td>\n",
       "      <td>25000</td>\n",
       "      <td>https://search.shopping.naver.com/gate.nhn?id=...</td>\n",
       "      <td>NaN</td>\n",
       "    </tr>\n",
       "    <tr>\n",
       "      <th>1</th>\n",
       "      <td>스타벅스 2024년 몰스킨 다이어리 데일리 플래너 일기장 노트 스벅 카페 윈터 e프리퀀시</td>\n",
       "      <td>35000</td>\n",
       "      <td>https://search.shopping.naver.com/gate.nhn?id=...</td>\n",
       "      <td>NaN</td>\n",
       "    </tr>\n",
       "    <tr>\n",
       "      <th>2</th>\n",
       "      <td>몰스킨 2024 데일리 다이어리 포켓 상품선택</td>\n",
       "      <td>36000</td>\n",
       "      <td>https://search.shopping.naver.com/gate.nhn?id=...</td>\n",
       "      <td>NaN</td>\n",
       "    </tr>\n",
       "    <tr>\n",
       "      <th>3</th>\n",
       "      <td>몰스킨 2024 위클리 다이어리 포켓 상품선택</td>\n",
       "      <td>27930</td>\n",
       "      <td>https://search.shopping.naver.com/gate.nhn?id=...</td>\n",
       "      <td>NaN</td>\n",
       "    </tr>\n",
       "    <tr>\n",
       "      <th>4</th>\n",
       "      <td>몰스킨 2024 다이어리 클래식 소프트커버 위클리 포켓 2024년 24년</td>\n",
       "      <td>32400</td>\n",
       "      <td>https://search.shopping.naver.com/gate.nhn?id=...</td>\n",
       "      <td>NaN</td>\n",
       "    </tr>\n",
       "  </tbody>\n",
       "</table>\n",
       "</div>"
      ],
      "text/plain": [
       "                                               title lprice  \\\n",
       "0     2024 스타벅스 다이어리 몰스킨 다이어리 데일리 플래너 2023 윈터 e-프리퀀시  25000   \n",
       "1  스타벅스 2024년 몰스킨 다이어리 데일리 플래너 일기장 노트 스벅 카페 윈터 e프리퀀시  35000   \n",
       "2                          몰스킨 2024 데일리 다이어리 포켓 상품선택  36000   \n",
       "3                          몰스킨 2024 위클리 다이어리 포켓 상품선택  27930   \n",
       "4           몰스킨 2024 다이어리 클래식 소프트커버 위클리 포켓 2024년 24년  32400   \n",
       "\n",
       "                                                link mall_name  \n",
       "0  https://search.shopping.naver.com/gate.nhn?id=...       NaN  \n",
       "1  https://search.shopping.naver.com/gate.nhn?id=...       NaN  \n",
       "2  https://search.shopping.naver.com/gate.nhn?id=...       NaN  \n",
       "3  https://search.shopping.naver.com/gate.nhn?id=...       NaN  \n",
       "4  https://search.shopping.naver.com/gate.nhn?id=...       NaN  "
      ]
     },
     "execution_count": 164,
     "metadata": {},
     "output_type": "execute_result"
    }
   ],
   "source": [
    "pd_result"
   ]
  },
  {
   "cell_type": "markdown",
   "id": "8b7fa7f0-beda-421e-81e2-d01c3999de8b",
   "metadata": {},
   "source": [
    "### (5) actMiain()"
   ]
  },
  {
   "cell_type": "code",
   "execution_count": 110,
   "id": "edfe29be-04e5-4eb5-bd31-bd8038111797",
   "metadata": {},
   "outputs": [
    {
     "name": "stdout",
     "output_type": "stream",
     "text": [
      "1\n",
      "101\n",
      "201\n",
      "301\n",
      "401\n",
      "501\n",
      "601\n",
      "701\n",
      "801\n",
      "901\n"
     ]
    }
   ],
   "source": [
    "for n in range(1, 1000, 100):\n",
    "    print(n)"
   ]
  },
  {
   "cell_type": "code",
   "execution_count": 170,
   "id": "ce7ac355-81bd-496a-b967-a8349df623b8",
   "metadata": {},
   "outputs": [
    {
     "name": "stdout",
     "output_type": "stream",
     "text": [
      "[2023-12-12 20:14:07.120192] Url Request Success\n",
      "[2023-12-12 20:14:07.622853] Url Request Success\n",
      "[2023-12-12 20:14:08.108617] Url Request Success\n",
      "[2023-12-12 20:14:08.587345] Url Request Success\n",
      "[2023-12-12 20:14:09.059618] Url Request Success\n",
      "[2023-12-12 20:14:09.493036] Url Request Success\n",
      "[2023-12-12 20:14:09.979204] Url Request Success\n",
      "[2023-12-12 20:14:10.464989] Url Request Success\n",
      "[2023-12-12 20:14:10.796528] Url Request Success\n",
      "[2023-12-12 20:14:11.083029] Url Request Success\n"
     ]
    }
   ],
   "source": [
    "result_mol = []\n",
    "\n",
    "for n in range(1, 1000, 100):\n",
    "    url = gen_search_url('shop', '몰스킨', n, 100)\n",
    "    json_result = get_result_onpage(url)\n",
    "    pd_result = get_fields(json_result)\n",
    "\n",
    "    result_mol.append(pd_result)\n",
    "\n",
    "result_mol = pd.concat(result_mol)"
   ]
  },
  {
   "cell_type": "code",
   "execution_count": 171,
   "id": "c1a811ca-c191-4f61-8829-02b21a9d92fc",
   "metadata": {},
   "outputs": [
    {
     "name": "stdout",
     "output_type": "stream",
     "text": [
      "<class 'pandas.core.frame.DataFrame'>\n",
      "Index: 1000 entries, 0 to 99\n",
      "Data columns (total 4 columns):\n",
      " #   Column  Non-Null Count  Dtype \n",
      "---  ------  --------------  ----- \n",
      " 0   title   1000 non-null   object\n",
      " 1   lprice  1000 non-null   object\n",
      " 2   link    1000 non-null   object\n",
      " 3   mall    1000 non-null   object\n",
      "dtypes: object(4)\n",
      "memory usage: 39.1+ KB\n"
     ]
    }
   ],
   "source": [
    "result_mol.info()"
   ]
  },
  {
   "cell_type": "code",
   "execution_count": 172,
   "id": "1a05b478-7e29-4981-b5d1-a918c4495964",
   "metadata": {},
   "outputs": [],
   "source": [
    "result_mol.reset_index(drop=True, inplace=True)"
   ]
  },
  {
   "cell_type": "code",
   "execution_count": 173,
   "id": "cd00910e-2662-47ba-ac94-285d7e4511c8",
   "metadata": {},
   "outputs": [
    {
     "data": {
      "text/html": [
       "<div>\n",
       "<style scoped>\n",
       "    .dataframe tbody tr th:only-of-type {\n",
       "        vertical-align: middle;\n",
       "    }\n",
       "\n",
       "    .dataframe tbody tr th {\n",
       "        vertical-align: top;\n",
       "    }\n",
       "\n",
       "    .dataframe thead th {\n",
       "        text-align: right;\n",
       "    }\n",
       "</style>\n",
       "<table border=\"1\" class=\"dataframe\">\n",
       "  <thead>\n",
       "    <tr style=\"text-align: right;\">\n",
       "      <th></th>\n",
       "      <th>title</th>\n",
       "      <th>lprice</th>\n",
       "      <th>link</th>\n",
       "      <th>mall</th>\n",
       "    </tr>\n",
       "  </thead>\n",
       "  <tbody>\n",
       "    <tr>\n",
       "      <th>0</th>\n",
       "      <td>2024 스타벅스 다이어리 몰스킨 다이어리 데일리 플래너 2023 윈터 e-프리퀀시</td>\n",
       "      <td>25000</td>\n",
       "      <td>https://search.shopping.naver.com/gate.nhn?id=...</td>\n",
       "      <td>네이버</td>\n",
       "    </tr>\n",
       "    <tr>\n",
       "      <th>1</th>\n",
       "      <td>스타벅스 2024년 몰스킨 다이어리 데일리 플래너 일기장 노트 스벅 카페 윈터 e프리퀀시</td>\n",
       "      <td>35000</td>\n",
       "      <td>https://search.shopping.naver.com/gate.nhn?id=...</td>\n",
       "      <td>유니스스토어</td>\n",
       "    </tr>\n",
       "    <tr>\n",
       "      <th>2</th>\n",
       "      <td>몰스킨 2024 데일리 다이어리 포켓 상품선택</td>\n",
       "      <td>36000</td>\n",
       "      <td>https://search.shopping.naver.com/gate.nhn?id=...</td>\n",
       "      <td>네이버</td>\n",
       "    </tr>\n",
       "    <tr>\n",
       "      <th>3</th>\n",
       "      <td>몰스킨 2024 위클리 다이어리 포켓 상품선택</td>\n",
       "      <td>27930</td>\n",
       "      <td>https://search.shopping.naver.com/gate.nhn?id=...</td>\n",
       "      <td>네이버</td>\n",
       "    </tr>\n",
       "    <tr>\n",
       "      <th>4</th>\n",
       "      <td>몰스킨 2024 다이어리 클래식 소프트커버 위클리 포켓 2024년 24년</td>\n",
       "      <td>32400</td>\n",
       "      <td>https://search.shopping.naver.com/gate.nhn?id=...</td>\n",
       "      <td>베스트펜</td>\n",
       "    </tr>\n",
       "    <tr>\n",
       "      <th>...</th>\n",
       "      <td>...</td>\n",
       "      <td>...</td>\n",
       "      <td>...</td>\n",
       "      <td>...</td>\n",
       "    </tr>\n",
       "    <tr>\n",
       "      <th>995</th>\n",
       "      <td>[몰스킨]해리포터 한정판노트 룰드 라지 (라이트 그린)</td>\n",
       "      <td>27000</td>\n",
       "      <td>https://search.shopping.naver.com/gate.nhn?id=...</td>\n",
       "      <td>몰스킨공식온라인스토어</td>\n",
       "    </tr>\n",
       "    <tr>\n",
       "      <th>996</th>\n",
       "      <td>란찌 몰 스킨 셋업 팬츠 NC평택점 LATA22T01</td>\n",
       "      <td>27240</td>\n",
       "      <td>https://search.shopping.naver.com/gate.nhn?id=...</td>\n",
       "      <td>네이버</td>\n",
       "    </tr>\n",
       "    <tr>\n",
       "      <th>997</th>\n",
       "      <td>몰스킨 클래식노트 스퀘어드 하드커버 포켓 Pocket</td>\n",
       "      <td>23100</td>\n",
       "      <td>https://search.shopping.naver.com/gate.nhn?id=...</td>\n",
       "      <td>네이버</td>\n",
       "    </tr>\n",
       "    <tr>\n",
       "      <th>998</th>\n",
       "      <td>[몰스킨] 2024 위클리 머틀그린 소프트커버 라지</td>\n",
       "      <td>44400</td>\n",
       "      <td>https://search.shopping.naver.com/gate.nhn?id=...</td>\n",
       "      <td>몰스킨공식온라인스토어</td>\n",
       "    </tr>\n",
       "    <tr>\n",
       "      <th>999</th>\n",
       "      <td>[한정판] 몰스킨 노트 피노키오 하드커버 라지 (4색상)</td>\n",
       "      <td>41000</td>\n",
       "      <td>https://search.shopping.naver.com/gate.nhn?id=...</td>\n",
       "      <td>몰스킨스토어</td>\n",
       "    </tr>\n",
       "  </tbody>\n",
       "</table>\n",
       "<p>1000 rows × 4 columns</p>\n",
       "</div>"
      ],
      "text/plain": [
       "                                                 title lprice  \\\n",
       "0       2024 스타벅스 다이어리 몰스킨 다이어리 데일리 플래너 2023 윈터 e-프리퀀시  25000   \n",
       "1    스타벅스 2024년 몰스킨 다이어리 데일리 플래너 일기장 노트 스벅 카페 윈터 e프리퀀시  35000   \n",
       "2                            몰스킨 2024 데일리 다이어리 포켓 상품선택  36000   \n",
       "3                            몰스킨 2024 위클리 다이어리 포켓 상품선택  27930   \n",
       "4             몰스킨 2024 다이어리 클래식 소프트커버 위클리 포켓 2024년 24년  32400   \n",
       "..                                                 ...    ...   \n",
       "995                     [몰스킨]해리포터 한정판노트 룰드 라지 (라이트 그린)  27000   \n",
       "996                      란찌 몰 스킨 셋업 팬츠 NC평택점 LATA22T01  27240   \n",
       "997                      몰스킨 클래식노트 스퀘어드 하드커버 포켓 Pocket  23100   \n",
       "998                       [몰스킨] 2024 위클리 머틀그린 소프트커버 라지  44400   \n",
       "999                    [한정판] 몰스킨 노트 피노키오 하드커버 라지 (4색상)  41000   \n",
       "\n",
       "                                                  link         mall  \n",
       "0    https://search.shopping.naver.com/gate.nhn?id=...          네이버  \n",
       "1    https://search.shopping.naver.com/gate.nhn?id=...       유니스스토어  \n",
       "2    https://search.shopping.naver.com/gate.nhn?id=...          네이버  \n",
       "3    https://search.shopping.naver.com/gate.nhn?id=...          네이버  \n",
       "4    https://search.shopping.naver.com/gate.nhn?id=...         베스트펜  \n",
       "..                                                 ...          ...  \n",
       "995  https://search.shopping.naver.com/gate.nhn?id=...  몰스킨공식온라인스토어  \n",
       "996  https://search.shopping.naver.com/gate.nhn?id=...          네이버  \n",
       "997  https://search.shopping.naver.com/gate.nhn?id=...          네이버  \n",
       "998  https://search.shopping.naver.com/gate.nhn?id=...  몰스킨공식온라인스토어  \n",
       "999  https://search.shopping.naver.com/gate.nhn?id=...       몰스킨스토어  \n",
       "\n",
       "[1000 rows x 4 columns]"
      ]
     },
     "execution_count": 173,
     "metadata": {},
     "output_type": "execute_result"
    }
   ],
   "source": [
    "result_mol"
   ]
  },
  {
   "cell_type": "code",
   "execution_count": 174,
   "id": "08296fa1-aaa4-47bf-98f4-e25f76004899",
   "metadata": {},
   "outputs": [
    {
     "name": "stdout",
     "output_type": "stream",
     "text": [
      "<class 'pandas.core.frame.DataFrame'>\n",
      "RangeIndex: 1000 entries, 0 to 999\n",
      "Data columns (total 4 columns):\n",
      " #   Column  Non-Null Count  Dtype \n",
      "---  ------  --------------  ----- \n",
      " 0   title   1000 non-null   object\n",
      " 1   lprice  1000 non-null   object\n",
      " 2   link    1000 non-null   object\n",
      " 3   mall    1000 non-null   object\n",
      "dtypes: object(4)\n",
      "memory usage: 31.4+ KB\n"
     ]
    }
   ],
   "source": [
    "result_mol.info()"
   ]
  },
  {
   "cell_type": "code",
   "execution_count": 175,
   "id": "1ca153b4-2529-4d88-8e56-03adceb43529",
   "metadata": {},
   "outputs": [
    {
     "data": {
      "text/html": [
       "<div>\n",
       "<style scoped>\n",
       "    .dataframe tbody tr th:only-of-type {\n",
       "        vertical-align: middle;\n",
       "    }\n",
       "\n",
       "    .dataframe tbody tr th {\n",
       "        vertical-align: top;\n",
       "    }\n",
       "\n",
       "    .dataframe thead th {\n",
       "        text-align: right;\n",
       "    }\n",
       "</style>\n",
       "<table border=\"1\" class=\"dataframe\">\n",
       "  <thead>\n",
       "    <tr style=\"text-align: right;\">\n",
       "      <th></th>\n",
       "      <th>title</th>\n",
       "      <th>lprice</th>\n",
       "      <th>link</th>\n",
       "      <th>mall</th>\n",
       "    </tr>\n",
       "  </thead>\n",
       "  <tbody>\n",
       "    <tr>\n",
       "      <th>0</th>\n",
       "      <td>2024 스타벅스 다이어리 몰스킨 다이어리 데일리 플래너 2023 윈터 e-프리퀀시</td>\n",
       "      <td>25000</td>\n",
       "      <td>https://search.shopping.naver.com/gate.nhn?id=...</td>\n",
       "      <td>네이버</td>\n",
       "    </tr>\n",
       "    <tr>\n",
       "      <th>1</th>\n",
       "      <td>스타벅스 2024년 몰스킨 다이어리 데일리 플래너 일기장 노트 스벅 카페 윈터 e프리퀀시</td>\n",
       "      <td>35000</td>\n",
       "      <td>https://search.shopping.naver.com/gate.nhn?id=...</td>\n",
       "      <td>유니스스토어</td>\n",
       "    </tr>\n",
       "    <tr>\n",
       "      <th>2</th>\n",
       "      <td>몰스킨 2024 데일리 다이어리 포켓 상품선택</td>\n",
       "      <td>36000</td>\n",
       "      <td>https://search.shopping.naver.com/gate.nhn?id=...</td>\n",
       "      <td>네이버</td>\n",
       "    </tr>\n",
       "    <tr>\n",
       "      <th>3</th>\n",
       "      <td>몰스킨 2024 위클리 다이어리 포켓 상품선택</td>\n",
       "      <td>27930</td>\n",
       "      <td>https://search.shopping.naver.com/gate.nhn?id=...</td>\n",
       "      <td>네이버</td>\n",
       "    </tr>\n",
       "    <tr>\n",
       "      <th>4</th>\n",
       "      <td>몰스킨 2024 다이어리 클래식 소프트커버 위클리 포켓 2024년 24년</td>\n",
       "      <td>32400</td>\n",
       "      <td>https://search.shopping.naver.com/gate.nhn?id=...</td>\n",
       "      <td>베스트펜</td>\n",
       "    </tr>\n",
       "  </tbody>\n",
       "</table>\n",
       "</div>"
      ],
      "text/plain": [
       "                                               title lprice  \\\n",
       "0     2024 스타벅스 다이어리 몰스킨 다이어리 데일리 플래너 2023 윈터 e-프리퀀시  25000   \n",
       "1  스타벅스 2024년 몰스킨 다이어리 데일리 플래너 일기장 노트 스벅 카페 윈터 e프리퀀시  35000   \n",
       "2                          몰스킨 2024 데일리 다이어리 포켓 상품선택  36000   \n",
       "3                          몰스킨 2024 위클리 다이어리 포켓 상품선택  27930   \n",
       "4           몰스킨 2024 다이어리 클래식 소프트커버 위클리 포켓 2024년 24년  32400   \n",
       "\n",
       "                                                link    mall  \n",
       "0  https://search.shopping.naver.com/gate.nhn?id=...     네이버  \n",
       "1  https://search.shopping.naver.com/gate.nhn?id=...  유니스스토어  \n",
       "2  https://search.shopping.naver.com/gate.nhn?id=...     네이버  \n",
       "3  https://search.shopping.naver.com/gate.nhn?id=...     네이버  \n",
       "4  https://search.shopping.naver.com/gate.nhn?id=...    베스트펜  "
      ]
     },
     "execution_count": 175,
     "metadata": {},
     "output_type": "execute_result"
    }
   ],
   "source": [
    "result_mol.head()"
   ]
  },
  {
   "cell_type": "code",
   "execution_count": 176,
   "id": "0e94293c-8c80-452a-a83f-a3f56a4414b1",
   "metadata": {},
   "outputs": [
    {
     "name": "stdout",
     "output_type": "stream",
     "text": [
      "<class 'pandas.core.frame.DataFrame'>\n",
      "RangeIndex: 1000 entries, 0 to 999\n",
      "Data columns (total 4 columns):\n",
      " #   Column  Non-Null Count  Dtype  \n",
      "---  ------  --------------  -----  \n",
      " 0   title   1000 non-null   object \n",
      " 1   lprice  1000 non-null   float64\n",
      " 2   link    1000 non-null   object \n",
      " 3   mall    1000 non-null   object \n",
      "dtypes: float64(1), object(3)\n",
      "memory usage: 31.4+ KB\n"
     ]
    }
   ],
   "source": [
    "result_mol['lprice'] = result_mol['lprice'].astype('float')\n",
    "result_mol.info()"
   ]
  },
  {
   "cell_type": "markdown",
   "id": "4ee692db-c18e-406a-ba21-b85d7b5ebf9b",
   "metadata": {},
   "source": [
    "### (5) to_excel()"
   ]
  },
  {
   "cell_type": "code",
   "execution_count": 177,
   "id": "a8a631e1-0c9d-4b4d-9eb1-725059eff779",
   "metadata": {},
   "outputs": [],
   "source": [
    "# pip install xlsxwriter"
   ]
  },
  {
   "cell_type": "code",
   "execution_count": 178,
   "id": "ea08e732-ed75-40f5-95b0-ea8c48d6e20f",
   "metadata": {},
   "outputs": [],
   "source": [
    "writer = pd.ExcelWriter('../06. Naver API/data/06_molskin_diary_in_naver_shop.xlsx', engine='xlsxwriter')\n",
    "result_mol.to_excel(writer, sheet_name='sheet1')\n",
    "\n",
    "workbook = writer.book\n",
    "worksheet = writer.sheets['sheet1']\n",
    "worksheet.set_column(\"A:A\", 4)\n",
    "worksheet.set_column(\"B:B\", 60)\n",
    "worksheet.set_column(\"C:C\", 10)\n",
    "worksheet.set_column(\"D:D\", 10)\n",
    "worksheet.set_column(\"E:E\", 50)\n",
    "worksheet.set_column(\"F:F\", 50)\n",
    "\n",
    "worksheet.conditional_format('C2:C1001', {'type' : '3_color_scale'})\n",
    "writer.close()"
   ]
  },
  {
   "cell_type": "code",
   "execution_count": 179,
   "id": "c33f4a65-5054-4998-82e8-d1c5917e0f64",
   "metadata": {},
   "outputs": [],
   "source": [
    "import set_matplotlib_hangul\n",
    "import matplotlib.pyplot as plt\n",
    "import seaborn as sns"
   ]
  },
  {
   "cell_type": "code",
   "execution_count": 184,
   "id": "e9b9de09-7222-4033-8309-3c222d59d614",
   "metadata": {},
   "outputs": [
    {
     "data": {
      "image/png": "[encoded data removed]",
      "text/plain": [
       "<Figure size 1500x600 with 1 Axes>"
      ]
     },
     "metadata": {},
     "output_type": "display_data"
    }
   ],
   "source": [
    "plt.figure(figsize=(15,6))\n",
    "sns.countplot(\n",
    "    x = result_mol['mall'],\n",
    "    data=result_mol,\n",
    "    palette='RdYlGn',\n",
    "    order=result_mol['mall'].value_counts().index\n",
    ")\n",
    "plt.xticks(rotation=90)\n",
    "plt.show()"
   ]
  },
  {
   "cell_type": "code",
   "execution_count": 182,
   "id": "d1b91c22-a230-4ea7-ba9f-8b21d42679c7",
   "metadata": {},
   "outputs": [
    {
     "data": {
      "text/plain": [
       "mall\n",
       "네이버              897\n",
       "몰스킨공식온라인스토어       29\n",
       "몰스킨스토어            26\n",
       "펜카페스토어             5\n",
       "한정판매니아             4\n",
       "쿠팡                 3\n",
       "펜샵코리아              3\n",
       "베스트펜               3\n",
       "지이크파렌하이트 부산대점      2\n",
       "트러스트앤빌리프           2\n",
       "유니스스토어             2\n",
       "핫트랙스               2\n",
       "Peni               2\n",
       "더심플직구              1\n",
       "홍길동                1\n",
       "지이크파렌하이트 인덕원       1\n",
       "야토야.               1\n",
       "텐바이텐               1\n",
       "티몬                 1\n",
       "다이어리코드             1\n",
       "리엠팩토리              1\n",
       "realpearls         1\n",
       "artpower           1\n",
       "롯데ON               1\n",
       "유스타샵               1\n",
       "판타스                1\n",
       "스프링스트릿 마켓          1\n",
       "인터파크쇼핑             1\n",
       "봉쥬 마켓              1\n",
       "파이영                1\n",
       "독집사                1\n",
       "루비샵                1\n",
       "몰싹                 1\n",
       "Name: count, dtype: int64"
      ]
     },
     "execution_count": 182,
     "metadata": {},
     "output_type": "execute_result"
    }
   ],
   "source": [
    "result_mol['mall'].value_counts()"
   ]
  },
  {
   "cell_type": "code",
   "execution_count": null,
   "id": "6039efb6-23a5-4c7e-8cfd-747d2189af54",
   "metadata": {},
   "outputs": [],
   "source": []
  },
  {
   "cell_type": "code",
   "execution_count": null,
   "id": "f7c63d5d-c2f1-4b90-aa89-e99ffe060ada",
   "metadata": {},
   "outputs": [],
   "source": []
  },
  {
   "cell_type": "code",
   "execution_count": null,
   "id": "92d38e67-2253-4306-980c-e6281ce3ace1",
   "metadata": {},
   "outputs": [],
   "source": []
  },
  {
   "cell_type": "code",
   "execution_count": null,
   "id": "32375bfd-e9f9-4f92-98fe-301ef0c20e14",
   "metadata": {},
   "outputs": [],
   "source": []
  }
 ],
 "metadata": {
  "kernelspec": {
   "display_name": "Python 3 (ipykernel)",
   "language": "python",
   "name": "python3"
  },
  "language_info": {
   "codemirror_mode": {
    "name": "ipython",
    "version": 3
   },
   "file_extension": ".py",
   "mimetype": "text/x-python",
   "name": "python",
   "nbconvert_exporter": "python",
   "pygments_lexer": "ipython3",
   "version": "3.8.18"
  }
 },
 "nbformat": 4,
 "nbformat_minor": 5
}
